{
 "cells": [
  {
   "cell_type": "code",
   "execution_count": 1,
   "metadata": {},
   "outputs": [],
   "source": [
    "import numpy as np\n",
    "import pandas as pd \n",
    "from scipy.spatial.distance import cosine\n",
    "import matplotlib.pylab as plt\n",
    "\n",
    "from sklearn.datasets import load_boston\n",
    "from sklearn.pipeline import Pipeline\n",
    "from sklearn.preprocessing import StandardScaler\n",
    "from sklearn.linear_model import Ridge, LinearRegression\n",
    "\n",
    "def scaler_(vec, unto):\n",
    "    return vec.dot(unto)/unto.dot(unto)\n",
    "\n",
    "def project_(vec, unto):\n",
    "    return scaler_(vec, unto) * unto\n",
    "\n",
    "def orthogonal_(arr, away):\n",
    "    return arr - project_(arr, away)"
   ]
  },
  {
   "cell_type": "code",
   "execution_count": 2,
   "metadata": {},
   "outputs": [],
   "source": [
    "from sklego.preprocessing import OrthogonalTransformer"
   ]
  },
  {
   "cell_type": "code",
   "execution_count": 3,
   "metadata": {},
   "outputs": [],
   "source": [
    "def simple_mod():\n",
    "    return Pipeline([(\"scale\", StandardScaler()), (\"mod\", LinearRegression())])\n",
    "\n",
    "def bootstrapper(X, var, n=250, k=25):\n",
    "    selector = df[var] > np.quantile(df[var], 0.5)\n",
    "    mod = simple_mod().fit(X, y)\n",
    "    mod_df = pd.DataFrame(X)\n",
    "    res = []\n",
    "    for i in range(n):\n",
    "        s1 = mod.predict(mod_df[selector].sample(k))\n",
    "        s2 = mod.predict(mod_df[~selector].sample(k))\n",
    "        res.append(s1.mean() - s2.mean())\n",
    "    return res, np.mean(res)\n",
    "\n",
    "def bootstrap_plot(X, X_fair, sens_var, n=2000, k=50):\n",
    "    mod_fair = simple_mod().fit(X_fair, y)\n",
    "    mod_unfair = simple_mod().fit(X, y)\n",
    "    \n",
    "    samples, avg1 = bootstrapper(X, var=sens_var, n=n, k=k)\n",
    "    height, bins, _ = plt.hist(samples, density=True, alpha=0.6, bins=30)\n",
    "    plt.vlines(avg1, 0, height.max());\n",
    "    \n",
    "    samples, avg2 = bootstrapper(X_fair, var=sens_var, n=n, k=k)\n",
    "    height, bins, _ = plt.hist(samples, density=True, alpha=0.6, bins=30)\n",
    "    plt.vlines(avg2, 0, height.max())\n",
    "    print(f\"difference = {avg2 - avg1} -> {(avg2 - avg1)/np.abs(avg1)}\");"
   ]
  },
  {
   "cell_type": "code",
   "execution_count": 107,
   "metadata": {},
   "outputs": [
    {
     "data": {
      "text/plain": [
       "4.656612873077393e-10"
      ]
     },
     "execution_count": 107,
     "metadata": {},
     "output_type": "execute_result"
    }
   ],
   "source": [
    "(v2 * v1).sum()"
   ]
  },
  {
   "cell_type": "code",
   "execution_count": 108,
   "metadata": {},
   "outputs": [
    {
     "data": {
      "text/html": [
       "<div>\n",
       "<style scoped>\n",
       "    .dataframe tbody tr th:only-of-type {\n",
       "        vertical-align: middle;\n",
       "    }\n",
       "\n",
       "    .dataframe tbody tr th {\n",
       "        vertical-align: top;\n",
       "    }\n",
       "\n",
       "    .dataframe thead th {\n",
       "        text-align: right;\n",
       "    }\n",
       "</style>\n",
       "<table border=\"1\" class=\"dataframe\">\n",
       "  <thead>\n",
       "    <tr style=\"text-align: right;\">\n",
       "      <th></th>\n",
       "      <th>crim</th>\n",
       "      <th>zn</th>\n",
       "      <th>indus</th>\n",
       "      <th>chas</th>\n",
       "      <th>nox</th>\n",
       "      <th>rm</th>\n",
       "      <th>age</th>\n",
       "      <th>dis</th>\n",
       "      <th>rad</th>\n",
       "      <th>tax</th>\n",
       "      <th>ptratio</th>\n",
       "      <th>b</th>\n",
       "      <th>lstat</th>\n",
       "    </tr>\n",
       "  </thead>\n",
       "  <tbody>\n",
       "    <tr>\n",
       "      <th>0</th>\n",
       "      <td>0.00632</td>\n",
       "      <td>18.0</td>\n",
       "      <td>2.31</td>\n",
       "      <td>0.0</td>\n",
       "      <td>0.538</td>\n",
       "      <td>6.575</td>\n",
       "      <td>65.2</td>\n",
       "      <td>4.0900</td>\n",
       "      <td>1.0</td>\n",
       "      <td>296.0</td>\n",
       "      <td>15.3</td>\n",
       "      <td>396.90</td>\n",
       "      <td>4.98</td>\n",
       "    </tr>\n",
       "    <tr>\n",
       "      <th>1</th>\n",
       "      <td>0.02731</td>\n",
       "      <td>0.0</td>\n",
       "      <td>7.07</td>\n",
       "      <td>0.0</td>\n",
       "      <td>0.469</td>\n",
       "      <td>6.421</td>\n",
       "      <td>78.9</td>\n",
       "      <td>4.9671</td>\n",
       "      <td>2.0</td>\n",
       "      <td>242.0</td>\n",
       "      <td>17.8</td>\n",
       "      <td>396.90</td>\n",
       "      <td>9.14</td>\n",
       "    </tr>\n",
       "    <tr>\n",
       "      <th>2</th>\n",
       "      <td>0.02729</td>\n",
       "      <td>0.0</td>\n",
       "      <td>7.07</td>\n",
       "      <td>0.0</td>\n",
       "      <td>0.469</td>\n",
       "      <td>7.185</td>\n",
       "      <td>61.1</td>\n",
       "      <td>4.9671</td>\n",
       "      <td>2.0</td>\n",
       "      <td>242.0</td>\n",
       "      <td>17.8</td>\n",
       "      <td>392.83</td>\n",
       "      <td>4.03</td>\n",
       "    </tr>\n",
       "  </tbody>\n",
       "</table>\n",
       "</div>"
      ],
      "text/plain": [
       "      crim    zn  indus  chas    nox     rm   age     dis  rad    tax  \\\n",
       "0  0.00632  18.0   2.31   0.0  0.538  6.575  65.2  4.0900  1.0  296.0   \n",
       "1  0.02731   0.0   7.07   0.0  0.469  6.421  78.9  4.9671  2.0  242.0   \n",
       "2  0.02729   0.0   7.07   0.0  0.469  7.185  61.1  4.9671  2.0  242.0   \n",
       "\n",
       "   ptratio       b  lstat  \n",
       "0     15.3  396.90   4.98  \n",
       "1     17.8  396.90   9.14  \n",
       "2     17.8  392.83   4.03  "
      ]
     },
     "execution_count": 108,
     "metadata": {},
     "output_type": "execute_result"
    }
   ],
   "source": [
    "var = \"lstat\"\n",
    "\n",
    "X, y = load_boston(return_X_y=True)\n",
    "df = pd.DataFrame(X, columns=['crim','zn','indus','chas','nox','rm','age','dis','rad','tax','ptratio','b','lstat'])\n",
    "\n",
    "v1 = df['lstat']\n",
    "v2 = df['b'] - project_(df['b'], v1)\n",
    "\n",
    "X_fair = pd.DataFrame([df[c] - project_(df[c], v1) - project_(df[c], v2) for c in df.columns]).T.values\n",
    "X_fair = pd.DataFrame(X_fair, columns=df.columns).drop(columns=['b', 'lstat'])\n",
    "\n",
    "X_drop = df.drop(columns=var).values\n",
    "df.head(3)"
   ]
  },
  {
   "cell_type": "code",
   "execution_count": 109,
   "metadata": {},
   "outputs": [
    {
     "data": {
      "text/html": [
       "<div>\n",
       "<style scoped>\n",
       "    .dataframe tbody tr th:only-of-type {\n",
       "        vertical-align: middle;\n",
       "    }\n",
       "\n",
       "    .dataframe tbody tr th {\n",
       "        vertical-align: top;\n",
       "    }\n",
       "\n",
       "    .dataframe thead th {\n",
       "        text-align: right;\n",
       "    }\n",
       "</style>\n",
       "<table border=\"1\" class=\"dataframe\">\n",
       "  <thead>\n",
       "    <tr style=\"text-align: right;\">\n",
       "      <th></th>\n",
       "      <th>crim</th>\n",
       "      <th>zn</th>\n",
       "      <th>indus</th>\n",
       "      <th>chas</th>\n",
       "      <th>nox</th>\n",
       "      <th>rm</th>\n",
       "      <th>age</th>\n",
       "      <th>dis</th>\n",
       "      <th>rad</th>\n",
       "      <th>tax</th>\n",
       "      <th>ptratio</th>\n",
       "    </tr>\n",
       "  </thead>\n",
       "  <tbody>\n",
       "    <tr>\n",
       "      <th>0</th>\n",
       "      <td>1.324292</td>\n",
       "      <td>-1.341702</td>\n",
       "      <td>-3.503309</td>\n",
       "      <td>-0.079133</td>\n",
       "      <td>0.108253</td>\n",
       "      <td>0.529927</td>\n",
       "      <td>19.304354</td>\n",
       "      <td>-0.423321</td>\n",
       "      <td>-2.513147</td>\n",
       "      <td>32.027570</td>\n",
       "      <td>-0.630086</td>\n",
       "    </tr>\n",
       "    <tr>\n",
       "      <th>1</th>\n",
       "      <td>-0.977140</td>\n",
       "      <td>-15.820786</td>\n",
       "      <td>-1.593818</td>\n",
       "      <td>-0.077157</td>\n",
       "      <td>-0.036831</td>\n",
       "      <td>0.076198</td>\n",
       "      <td>19.939300</td>\n",
       "      <td>0.666608</td>\n",
       "      <td>-4.508858</td>\n",
       "      <td>-100.641522</td>\n",
       "      <td>0.079753</td>\n",
       "    </tr>\n",
       "    <tr>\n",
       "      <th>2</th>\n",
       "      <td>1.833598</td>\n",
       "      <td>-19.904196</td>\n",
       "      <td>1.932269</td>\n",
       "      <td>-0.078748</td>\n",
       "      <td>0.060101</td>\n",
       "      <td>1.266684</td>\n",
       "      <td>18.498212</td>\n",
       "      <td>0.454070</td>\n",
       "      <td>-0.829780</td>\n",
       "      <td>-2.265959</td>\n",
       "      <td>2.420103</td>\n",
       "    </tr>\n",
       "  </tbody>\n",
       "</table>\n",
       "</div>"
      ],
      "text/plain": [
       "       crim         zn     indus      chas       nox        rm        age  \\\n",
       "0  1.324292  -1.341702 -3.503309 -0.079133  0.108253  0.529927  19.304354   \n",
       "1 -0.977140 -15.820786 -1.593818 -0.077157 -0.036831  0.076198  19.939300   \n",
       "2  1.833598 -19.904196  1.932269 -0.078748  0.060101  1.266684  18.498212   \n",
       "\n",
       "        dis       rad         tax   ptratio  \n",
       "0 -0.423321 -2.513147   32.027570 -0.630086  \n",
       "1  0.666608 -4.508858 -100.641522  0.079753  \n",
       "2  0.454070 -0.829780   -2.265959  2.420103  "
      ]
     },
     "execution_count": 109,
     "metadata": {},
     "output_type": "execute_result"
    }
   ],
   "source": [
    "X_fair.head(3)"
   ]
  },
  {
   "cell_type": "code",
   "execution_count": 110,
   "metadata": {},
   "outputs": [],
   "source": [
    "base_mod = simple_mod().fit(X, y)\n",
    "drop_mod = simple_mod().fit(X_drop, y)\n",
    "fair_mod = simple_mod().fit(X_fair, y)\n",
    "\n",
    "base_pred = base_mod.predict(X)\n",
    "drop_pred = drop_mod.predict(X_drop)\n",
    "fair_pred = fair_mod.predict(X_fair)\n",
    "\n",
    "selector = df[var] > np.quantile(df[var], 0.5)"
   ]
  },
  {
   "cell_type": "code",
   "execution_count": 126,
   "metadata": {},
   "outputs": [
    {
     "data": {
      "text/html": [
       "<div>\n",
       "<style scoped>\n",
       "    .dataframe tbody tr th:only-of-type {\n",
       "        vertical-align: middle;\n",
       "    }\n",
       "\n",
       "    .dataframe tbody tr th {\n",
       "        vertical-align: top;\n",
       "    }\n",
       "\n",
       "    .dataframe thead th {\n",
       "        text-align: right;\n",
       "    }\n",
       "</style>\n",
       "<table border=\"1\" class=\"dataframe\">\n",
       "  <thead>\n",
       "    <tr style=\"text-align: right;\">\n",
       "      <th></th>\n",
       "      <th>crim</th>\n",
       "      <th>zn</th>\n",
       "      <th>indus</th>\n",
       "      <th>chas</th>\n",
       "      <th>nox</th>\n",
       "      <th>rm</th>\n",
       "      <th>age</th>\n",
       "      <th>dis</th>\n",
       "      <th>rad</th>\n",
       "      <th>tax</th>\n",
       "      <th>ptratio</th>\n",
       "      <th>b</th>\n",
       "      <th>lstat</th>\n",
       "    </tr>\n",
       "  </thead>\n",
       "  <tbody>\n",
       "    <tr>\n",
       "      <th>0</th>\n",
       "      <td>-0.928146</td>\n",
       "      <td>1.081569</td>\n",
       "      <td>0.140900</td>\n",
       "      <td>0.681740</td>\n",
       "      <td>-2.056718</td>\n",
       "      <td>2.674230</td>\n",
       "      <td>0.019466</td>\n",
       "      <td>-3.104044</td>\n",
       "      <td>2.662218</td>\n",
       "      <td>-2.076782</td>\n",
       "      <td>-2.060607</td>\n",
       "      <td>0.849268</td>\n",
       "      <td>-3.743627</td>\n",
       "    </tr>\n",
       "    <tr>\n",
       "      <th>1</th>\n",
       "      <td>-1.374364</td>\n",
       "      <td>0.905733</td>\n",
       "      <td>-0.191364</td>\n",
       "      <td>0.816182</td>\n",
       "      <td>-2.371357</td>\n",
       "      <td>4.297922</td>\n",
       "      <td>-1.291657</td>\n",
       "      <td>-3.270958</td>\n",
       "      <td>2.449323</td>\n",
       "      <td>-1.976397</td>\n",
       "      <td>-2.193566</td>\n",
       "      <td>1.242283</td>\n",
       "      <td>NaN</td>\n",
       "    </tr>\n",
       "    <tr>\n",
       "      <th>2</th>\n",
       "      <td>-0.763568</td>\n",
       "      <td>1.028051</td>\n",
       "      <td>0.061393</td>\n",
       "      <td>0.697504</td>\n",
       "      <td>-1.605464</td>\n",
       "      <td>6.846774</td>\n",
       "      <td>-0.057920</td>\n",
       "      <td>-2.537602</td>\n",
       "      <td>1.935058</td>\n",
       "      <td>-1.779825</td>\n",
       "      <td>-2.793069</td>\n",
       "      <td>NaN</td>\n",
       "      <td>NaN</td>\n",
       "    </tr>\n",
       "  </tbody>\n",
       "</table>\n",
       "</div>"
      ],
      "text/plain": [
       "       crim        zn     indus      chas       nox        rm       age  \\\n",
       "0 -0.928146  1.081569  0.140900  0.681740 -2.056718  2.674230  0.019466   \n",
       "1 -1.374364  0.905733 -0.191364  0.816182 -2.371357  4.297922 -1.291657   \n",
       "2 -0.763568  1.028051  0.061393  0.697504 -1.605464  6.846774 -0.057920   \n",
       "\n",
       "        dis       rad       tax   ptratio         b     lstat  \n",
       "0 -3.104044  2.662218 -2.076782 -2.060607  0.849268 -3.743627  \n",
       "1 -3.270958  2.449323 -1.976397 -2.193566  1.242283       NaN  \n",
       "2 -2.537602  1.935058 -1.779825 -2.793069       NaN       NaN  "
      ]
     },
     "execution_count": 126,
     "metadata": {},
     "output_type": "execute_result"
    }
   ],
   "source": [
    "pd.DataFrame([base_mod.steps[1][1].coef_, drop_mod.steps[1][1].coef_, fair_mod.steps[1][1].coef_], columns=df.columns)"
   ]
  },
  {
   "cell_type": "code",
   "execution_count": 112,
   "metadata": {},
   "outputs": [
    {
     "data": {
      "text/plain": [
       "(21.894831181729202, 26.659334520325558, 65.61848671196229)"
      ]
     },
     "execution_count": 112,
     "metadata": {},
     "output_type": "execute_result"
    }
   ],
   "source": [
    "from sklearn.metrics import mean_squared_error\n",
    "\n",
    "mean_squared_error(y, base_pred), mean_squared_error(y, drop_pred), mean_squared_error(y, fair_pred)"
   ]
  },
  {
   "cell_type": "code",
   "execution_count": 113,
   "metadata": {},
   "outputs": [],
   "source": [
    "def bootstrap_means(preds, selector, n=2500, k=25):\n",
    "    grp1 = np.random.choice(preds[selector], (n, k)).mean(axis=1)\n",
    "    grp2 = np.random.choice(preds[~selector], (n, k)).mean(axis=1)\n",
    "    return grp1 - grp2"
   ]
  },
  {
   "cell_type": "markdown",
   "metadata": {},
   "source": [
    "# No Difference in Same Model"
   ]
  },
  {
   "cell_type": "code",
   "execution_count": 114,
   "metadata": {},
   "outputs": [
    {
     "data": {
      "image/png": "[encoded data removed]",
      "text/plain": [
       "<Figure size 432x288 with 1 Axes>"
      ]
     },
     "metadata": {
      "needs_background": "light"
     },
     "output_type": "display_data"
    }
   ],
   "source": [
    "plt.scatter(base_pred, y);"
   ]
  },
  {
   "cell_type": "code",
   "execution_count": 115,
   "metadata": {},
   "outputs": [
    {
     "data": {
      "image/png": "[encoded data removed]",
      "text/plain": [
       "<Figure size 432x288 with 1 Axes>"
      ]
     },
     "metadata": {
      "needs_background": "light"
     },
     "output_type": "display_data"
    }
   ],
   "source": [
    "plt.hist(bootstrap_means(base_pred, selector), bins=30, density=True, alpha=0.8);\n",
    "plt.hist(bootstrap_means(base_pred, selector), bins=30, density=True, alpha=0.8);"
   ]
  },
  {
   "cell_type": "markdown",
   "metadata": {},
   "source": [
    "# Difference by Dropping Column"
   ]
  },
  {
   "cell_type": "code",
   "execution_count": 116,
   "metadata": {},
   "outputs": [
    {
     "data": {
      "image/png": "[encoded data removed]",
      "text/plain": [
       "<Figure size 432x288 with 1 Axes>"
      ]
     },
     "metadata": {
      "needs_background": "light"
     },
     "output_type": "display_data"
    }
   ],
   "source": [
    "plt.scatter(drop_pred, y);"
   ]
  },
  {
   "cell_type": "code",
   "execution_count": 117,
   "metadata": {},
   "outputs": [
    {
     "data": {
      "image/png": "[encoded data removed]",
      "text/plain": [
       "<Figure size 432x288 with 1 Axes>"
      ]
     },
     "metadata": {
      "needs_background": "light"
     },
     "output_type": "display_data"
    }
   ],
   "source": [
    "plt.hist(bootstrap_means(base_pred, selector), bins=30, density=True, alpha=0.8);\n",
    "plt.hist(bootstrap_means(drop_pred, selector), bins=30, density=True, alpha=0.8);"
   ]
  },
  {
   "cell_type": "markdown",
   "metadata": {},
   "source": [
    "# Difference by Filtering Column"
   ]
  },
  {
   "cell_type": "code",
   "execution_count": 118,
   "metadata": {},
   "outputs": [
    {
     "data": {
      "image/png": "[encoded data removed]",
      "text/plain": [
       "<Figure size 432x288 with 1 Axes>"
      ]
     },
     "metadata": {
      "needs_background": "light"
     },
     "output_type": "display_data"
    }
   ],
   "source": [
    "plt.scatter(fair_pred, y);"
   ]
  },
  {
   "cell_type": "code",
   "execution_count": 119,
   "metadata": {},
   "outputs": [
    {
     "data": {
      "image/png": "[encoded data removed]",
      "text/plain": [
       "<Figure size 432x288 with 1 Axes>"
      ]
     },
     "metadata": {
      "needs_background": "light"
     },
     "output_type": "display_data"
    }
   ],
   "source": [
    "plt.hist(bootstrap_means(base_pred, selector), bins=30, density=True, alpha=0.8);\n",
    "plt.hist(bootstrap_means(fair_pred, selector), bins=30, density=True, alpha=0.8);"
   ]
  },
  {
   "cell_type": "code",
   "execution_count": 134,
   "metadata": {},
   "outputs": [
    {
     "data": {
      "text/plain": [
       "<matplotlib.collections.PathCollection at 0x132a0c7f0>"
      ]
     },
     "execution_count": 134,
     "metadata": {},
     "output_type": "execute_result"
    },
    {
     "data": {
      "image/png": "[encoded data removed]",
      "text/plain": [
       "<Figure size 432x288 with 1 Axes>"
      ]
     },
     "metadata": {
      "needs_background": "light"
     },
     "output_type": "display_data"
    }
   ],
   "source": [
    "plt.scatter(base_pred, base_pred - fair_pred)"
   ]
  }
 ],
 "metadata": {
  "kernelspec": {
   "display_name": "Python 3",
   "language": "python",
   "name": "python3"
  },
  "language_info": {
   "codemirror_mode": {
    "name": "ipython",
    "version": 3
   },
   "file_extension": ".py",
   "mimetype": "text/x-python",
   "name": "python",
   "nbconvert_exporter": "python",
   "pygments_lexer": "ipython3",
   "version": "3.6.6"
  }
 },
 "nbformat": 4,
 "nbformat_minor": 2
}
