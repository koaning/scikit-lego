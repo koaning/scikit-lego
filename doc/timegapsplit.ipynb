{
 "cells": [
  {
   "cell_type": "code",
   "execution_count": null,
   "metadata": {
    "ExecuteTime": {
     "end_time": "2019-09-20T20:33:21.057390Z",
     "start_time": "2019-09-20T20:33:15.598910Z"
    }
   },
   "outputs": [],
   "source": [
    "%load_ext autoreload\n",
    "%autoreload 2\n",
    "%matplotlib inline"
   ]
  },
  {
   "cell_type": "markdown",
   "metadata": {},
   "source": [
    "# Cross Validation\n",
    "\n",
    "## TimeGapSplit\n",
    "\n",
    "We allow for a timeseries split that contains a gap.\n",
    "\n",
    "You won't always need it, but sometimes you consider these two situations;\n",
    "\n",
    "- If you have multiple samples per timestamp: you want to make sure that a timestamp doesn’t appear at the same time in training and validation folds.\n",
    "- If your target is looking $x$ days ahead in the future. In this case you cannot construct the target of the last x days of your available data. It means that when you put your model in production, the first day that you are going to score is always x days after your last training sample, therefore you should select the best model according to that setup. In other words, if you keep that gap in the validation, your metric might be overestimated because those first x days might be easier to predict since they are closer to the training set. If you want to be strict in terms of robustness you might want to replicate in the CV exactly this real-world behaviour, and thus you want to introduce a gap of x days between your training and validation folds.\n",
    "\n",
    "TimeGapSplit provides 4 parameters to really reproduce your production implementation in your cross-validation schema. We will demonstrate this in a code example below. \n",
    "\n",
    "#### Examples\n",
    "\n",
    "Let's make some random data to start with, and next define a plotting function."
   ]
  },
  {
   "cell_type": "code",
   "execution_count": null,
   "metadata": {
    "ExecuteTime": {
     "end_time": "2019-09-20T20:33:35.888431Z",
     "start_time": "2019-09-20T20:33:21.065603Z"
    }
   },
   "outputs": [],
   "source": [
    "import pandas as pd\n",
    "import numpy as np\n",
    "import matplotlib.pyplot as plt\n",
    "from datetime import timedelta\n",
    "\n",
    "from sklego.model_selection import TimeGapSplit"
   ]
  },
  {
   "cell_type": "code",
   "execution_count": null,
   "metadata": {
    "ExecuteTime": {
     "end_time": "2019-09-20T20:33:36.252123Z",
     "start_time": "2019-09-20T20:33:35.902091Z"
    }
   },
   "outputs": [],
   "source": [
    "df = (pd.DataFrame(np.random.randint(0, 30, size=(30, 4)), columns=list('ABCy'))\n",
    "      .assign(date=pd.date_range(start='1/1/2018', end='1/30/2018')[::-1]))\n",
    "print(df.shape)\n",
    "\n",
    "# For performance testing\n",
    "if False:\n",
    "    df = pd.concat([df]*50000, axis=0)\n",
    "    df = df.reset_index(drop=True)\n",
    "    df.index = df.index + 22\n",
    "    print(df.shape)"
   ]
  },
  {
   "cell_type": "code",
   "execution_count": null,
   "metadata": {
    "ExecuteTime": {
     "end_time": "2019-09-20T20:33:36.435511Z",
     "start_time": "2019-09-20T20:33:36.256691Z"
    }
   },
   "outputs": [],
   "source": [
    "df.head()"
   ]
  },
  {
   "cell_type": "code",
   "execution_count": null,
   "metadata": {},
   "outputs": [],
   "source": [
    "def plot_cv(cv, X):\n",
    "    \"\"\"\n",
    "    Plot all the folds on time axis\n",
    "    :param pandas.DataFrame X:\n",
    "    \"\"\"\n",
    "    X_index_df = cv._join_date_and_x(X)\n",
    "\n",
    "    plt.figure(figsize=(16, 4))\n",
    "    for i, split in enumerate(cv.split(X)):\n",
    "        x_idx, y_idx = split\n",
    "        x_dates = X_index_df.iloc[x_idx]['__date__'].unique()\n",
    "        y_dates = X_index_df.iloc[y_idx]['__date__'].unique()\n",
    "        plt.plot(x_dates, i*np.ones(x_dates.shape), c=\"steelblue\")\n",
    "        plt.plot(y_dates, i*np.ones(y_dates.shape), c=\"orange\")\n",
    "\n",
    "    plt.legend(('training', 'validation'), loc='upper left')\n",
    "    plt.ylabel('Fold id')\n",
    "    plt.axvline(x=X_index_df['__date__'].min(), color='gray', label='x')\n",
    "    plt.axvline(x=X_index_df['__date__'].max(), color='gray', label='d')"
   ]
  },
  {
   "cell_type": "markdown",
   "metadata": {},
   "source": [
    "**Example 1**"
   ]
  },
  {
   "cell_type": "code",
   "execution_count": 1,
   "metadata": {
    "ExecuteTime": {
     "end_time": "2019-09-20T20:33:38.651965Z",
     "start_time": "2019-09-20T20:33:38.483371Z"
    }
   },
   "outputs": [
    {
     "ename": "NameError",
     "evalue": "name 'TimeGapSplit' is not defined",
     "output_type": "error",
     "traceback": [
      "\u001b[0;31m---------------------------------------------------------------------------\u001b[0m",
      "\u001b[0;31mNameError\u001b[0m                                 Traceback (most recent call last)",
      "\u001b[0;32m<ipython-input-1-ca9a7aa34bff>\u001b[0m in \u001b[0;36m<module>\u001b[0;34m\u001b[0m\n\u001b[0;32m----> 1\u001b[0;31m cv = TimeGapSplit(date_serie=df['date'],\n\u001b[0m\u001b[1;32m      2\u001b[0m                   \u001b[0mtrain_duration\u001b[0m\u001b[0;34m=\u001b[0m\u001b[0mtimedelta\u001b[0m\u001b[0;34m(\u001b[0m\u001b[0mdays\u001b[0m\u001b[0;34m=\u001b[0m\u001b[0;36m10\u001b[0m\u001b[0;34m)\u001b[0m\u001b[0;34m,\u001b[0m\u001b[0;34m\u001b[0m\u001b[0;34m\u001b[0m\u001b[0m\n\u001b[1;32m      3\u001b[0m                   \u001b[0mvalid_duration\u001b[0m\u001b[0;34m=\u001b[0m\u001b[0mtimedelta\u001b[0m\u001b[0;34m(\u001b[0m\u001b[0mdays\u001b[0m\u001b[0;34m=\u001b[0m\u001b[0;36m2\u001b[0m\u001b[0;34m)\u001b[0m\u001b[0;34m,\u001b[0m\u001b[0;34m\u001b[0m\u001b[0;34m\u001b[0m\u001b[0m\n\u001b[1;32m      4\u001b[0m                   gap_duration=timedelta(days=1))\n",
      "\u001b[0;31mNameError\u001b[0m: name 'TimeGapSplit' is not defined"
     ]
    }
   ],
   "source": [
    "cv = TimeGapSplit(date_serie=df['date'],\n",
    "                  train_duration=timedelta(days=10),\n",
    "                  valid_duration=timedelta(days=2),\n",
    "                  gap_duration=timedelta(days=1))"
   ]
  },
  {
   "cell_type": "code",
   "execution_count": null,
   "metadata": {},
   "outputs": [],
   "source": [
    "plot_cv(cv, df)"
   ]
  },
  {
   "cell_type": "markdown",
   "metadata": {},
   "source": [
    "**Example 2**"
   ]
  },
  {
   "cell_type": "code",
   "execution_count": null,
   "metadata": {
    "ExecuteTime": {
     "end_time": "2019-09-20T20:33:38.651965Z",
     "start_time": "2019-09-20T20:33:38.483371Z"
    }
   },
   "outputs": [],
   "source": [
    "cv = TimeGapSplit(date_serie=df['date'],\n",
    "                  train_duration=timedelta(days=10),\n",
    "                  valid_duration=timedelta(days=5),\n",
    "                  gap_duration=timedelta(days=1))"
   ]
  },
  {
   "cell_type": "code",
   "execution_count": null,
   "metadata": {
    "ExecuteTime": {
     "end_time": "2019-09-20T20:33:40.240054Z",
     "start_time": "2019-09-20T20:33:38.657666Z"
    }
   },
   "outputs": [],
   "source": [
    "plot_cv(cv, df)"
   ]
  },
  {
   "cell_type": "markdown",
   "metadata": {},
   "source": [
    "**Example 3**"
   ]
  },
  {
   "cell_type": "markdown",
   "metadata": {},
   "source": [
    "window='expanding' is the closest to the sklearn implementation"
   ]
  },
  {
   "cell_type": "code",
   "execution_count": null,
   "metadata": {},
   "outputs": [],
   "source": [
    "cv = TimeGapSplit(date_serie=df['date'],\n",
    "                  train_duration=timedelta(days=10),\n",
    "                  valid_duration=timedelta(days=2),\n",
    "                  gap_duration=timedelta(days=1),\n",
    "                  window='expanding')"
   ]
  },
  {
   "cell_type": "code",
   "execution_count": null,
   "metadata": {
    "scrolled": true
   },
   "outputs": [],
   "source": [
    "plot_cv(cv, df)"
   ]
  },
  {
   "cell_type": "markdown",
   "metadata": {},
   "source": [
    "**Example 4**"
   ]
  },
  {
   "cell_type": "markdown",
   "metadata": {},
   "source": [
    "If train_duration is not passed the training duration is the maximum without overlapping validation folds"
   ]
  },
  {
   "cell_type": "code",
   "execution_count": null,
   "metadata": {},
   "outputs": [],
   "source": [
    "cv = TimeGapSplit(date_serie=df['date'],\n",
    "                  train_duration=None,\n",
    "                  valid_duration=timedelta(days=3),\n",
    "                  gap_duration=timedelta(days=2),\n",
    "                  n_splits=3)"
   ]
  },
  {
   "cell_type": "code",
   "execution_count": null,
   "metadata": {
    "scrolled": true
   },
   "outputs": [],
   "source": [
    "plot_cv(cv, df)"
   ]
  },
  {
   "cell_type": "markdown",
   "metadata": {},
   "source": [
    "**Example 5**"
   ]
  },
  {
   "cell_type": "markdown",
   "metadata": {},
   "source": [
    "If train and valid duration would lead to unwanted amounts of splits n_splits can set a maximal amount of splits"
   ]
  },
  {
   "cell_type": "code",
   "execution_count": null,
   "metadata": {},
   "outputs": [],
   "source": [
    "cv = TimeGapSplit(date_serie=df['date'],\n",
    "                  train_duration=timedelta(days=10),\n",
    "                  valid_duration=timedelta(days=2),\n",
    "                  gap_duration=timedelta(days=1),\n",
    "                  n_splits=4)"
   ]
  },
  {
   "cell_type": "code",
   "execution_count": null,
   "metadata": {},
   "outputs": [],
   "source": [
    "plot_cv(cv, df)"
   ]
  },
  {
   "cell_type": "code",
   "execution_count": null,
   "metadata": {
    "ExecuteTime": {
     "end_time": "2019-09-20T20:33:40.733122Z",
     "start_time": "2019-09-20T20:33:40.244626Z"
    }
   },
   "outputs": [],
   "source": [
    "cv.summary(df)"
   ]
  }
 ],
 "metadata": {
  "kernelspec": {
   "display_name": "Python (sklego)",
   "language": "python",
   "name": "sklego"
  },
  "language_info": {
   "codemirror_mode": {
    "name": "ipython",
    "version": 3
   },
   "file_extension": ".py",
   "mimetype": "text/x-python",
   "name": "python",
   "nbconvert_exporter": "python",
   "pygments_lexer": "ipython3",
   "version": "3.7.7"
  },
  "toc": {
   "base_numbering": 1,
   "nav_menu": {},
   "number_sections": true,
   "sideBar": true,
   "skip_h1_title": false,
   "title_cell": "Table of Contents",
   "title_sidebar": "Contents",
   "toc_cell": false,
   "toc_position": {},
   "toc_section_display": true,
   "toc_window_display": false
  }
 },
 "nbformat": 4,
 "nbformat_minor": 2
}
