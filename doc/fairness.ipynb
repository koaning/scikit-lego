{
 "cells": [
  {
   "cell_type": "code",
   "execution_count": 4,
   "metadata": {},
   "outputs": [],
   "source": [
    "import numpy as np\n",
    "import pandas as pd \n",
    "import matplotlib.pylab as plt\n",
    "\n",
    "from sklearn.datasets import load_boston\n",
    "from sklearn.pipeline import Pipeline\n",
    "from sklearn.preprocessing import StandardScaler\n",
    "from sklearn.linear_model import LinearRegression\n",
    "from sklearn.metrics import mean_squared_error\n",
    "\n",
    "from sklego.preprocessing import InformationFilter"
   ]
  },
  {
   "cell_type": "markdown",
   "metadata": {},
   "source": [
    "# Fairness \n",
    "\n",
    "Scikit learn comes with the boston housing dataset. We can make a simple pipeline with it and make us a small model. We can even write the code to also make a plot that can convince us that we're doing well."
   ]
  },
  {
   "cell_type": "code",
   "execution_count": 5,
   "metadata": {},
   "outputs": [
    {
     "data": {
      "image/png": "[encoded data removed]",
      "text/plain": [
       "<Figure size 432x288 with 1 Axes>"
      ]
     },
     "metadata": {
      "needs_background": "light"
     },
     "output_type": "display_data"
    }
   ],
   "source": [
    "X, y = load_boston(return_X_y=True)\n",
    "\n",
    "pipe = Pipeline([\n",
    "    (\"scale\", StandardScaler()),\n",
    "    (\"model\", LinearRegression())\n",
    "])\n",
    "\n",
    "plt.scatter(pipe.fit(X, y).predict(X), y)\n",
    "plt.xlabel(\"predictions\")\n",
    "plt.ylabel(\"actual\")\n",
    "plt.title(\"plot that suggests it's not bad\");"
   ]
  },
  {
   "cell_type": "markdown",
   "metadata": {},
   "source": [
    "We could stop our research here if we think that our MSE is \"good enough\" but this would be dangerous. To find out why, we should look at the variables that are being used in our model. "
   ]
  },
  {
   "cell_type": "code",
   "execution_count": 6,
   "metadata": {},
   "outputs": [
    {
     "name": "stdout",
     "output_type": "stream",
     "text": [
      ".. _boston_dataset:\n",
      "\n",
      "Boston house prices dataset\n",
      "---------------------------\n",
      "\n",
      "**Data Set Characteristics:**  \n",
      "\n",
      "    :Number of Instances: 506 \n",
      "\n",
      "    :Number of Attributes: 13 numeric/categorical predictive. Median Value (attribute 14) is usually the target.\n",
      "\n",
      "    :Attribute Information (in order):\n",
      "        - CRIM     per capita crime rate by town\n",
      "        - ZN       proportion of residential land zoned for lots over 25,000 sq.ft.\n",
      "        - INDUS    proportion of non-retail business acres per town\n",
      "        - CHAS     Charles River dummy variable (= 1 if tract bounds river; 0 otherwise)\n",
      "        - NOX      nitric oxides concentration (parts per 10 million)\n",
      "        - RM       average number of rooms per dwelling\n",
      "        - AGE      proportion of owner-occupied units built prior to 1940\n",
      "        - DIS      weighted distances to five Boston employment centres\n",
      "        - RAD      index of accessibility to radial highways\n",
      "        - TAX      full-value property-tax rate per $10,000\n",
      "        - PTRATIO  pupil-teacher ratio by town\n",
      "        - B        1000(Bk - 0.63)^2 where Bk is the proportion of blacks by town\n",
      "        - LSTAT    % lower status of the population\n",
      "        - MEDV     Median value of owner\n"
     ]
    }
   ],
   "source": [
    "print(load_boston()['DESCR'][:1200])"
   ]
  },
  {
   "cell_type": "code",
   "execution_count": 7,
   "metadata": {},
   "outputs": [
    {
     "name": "stdout",
     "output_type": "stream",
     "text": [
      "_static/projections.png\r\n"
     ]
    }
   ],
   "source": [
    "! ls _static/projections.png"
   ]
  },
  {
   "cell_type": "markdown",
   "metadata": {},
   "source": [
    "This dataset contains features like \"lower status of population\" and \"the proportion of blacks by town\". This is bad. There's a real possibility that our model will overfit on MSE and underfit on fairness when we want to apply it. Scikit-Lego has some support to deal with fairness issues like this one. \n",
    "\n",
    "## Information Filter\n",
    "\n",
    "This is a great opportunity to use the `InformationFilter` which can filter the information of these two sensitive columns away as a transformation step. It does this by projecting all vectors away such that the remaining dataset is orthogonal to the sensitive columns.\n",
    "\n",
    "### How it Works \n",
    "\n",
    "The `InformationFilter` uses a variant of the [gram smidt process](https://en.wikipedia.org/wiki/Gram%E2%80%93Schmidt_process) to filter information out of the dataset. We can make it visual in two dimensions;\n",
    "\n",
    "![](_static/projections.png)\n",
    "\n",
    "To explain what occurs in higher dimensions we need to resort to maths. Take a training matrix $X$ that contains columns $x_1, ..., x_k$. If we assume columns $x_1$ and $x_2$ to be the sensitive columns then the information filter will filter out information using this approach; \n",
    "\n",
    "$$\n",
    "\\begin{split}\n",
    "v_1 & = x_1 \\\\\n",
    "v_2 & = x_2 - \\frac{x_2 v_1}{v_1 v_1}\\\\\n",
    "v_3 & = x_3 - \\frac{x_k v_1}{v_1 v_1} - \\frac{x_2 v_2}{v_2 v_2}\\\\\n",
    "... \\\\ \n",
    "v_k & = x_k - \\frac{x_k v_1}{v_1 v_1} - \\frac{x_2 v_2}{v_2 v_2}\n",
    "\\end{split}\n",
    "$$\n",
    "\n",
    "Concatenating our vectors (but removing the sensitive ones) gives us a new training matrix $X_{\\text{more fair}} =  [v_3, ..., v_k]$. \n",
    "\n",
    "### Experiment \n",
    "\n",
    "We will demonstrate the effect of applying this by benchmarking three things: \n",
    "\n",
    "1. Keep $X$ as is. \n",
    "2. Drop the two columns that are sensitive.\n",
    "3. Use the information filter"
   ]
  },
  {
   "cell_type": "code",
   "execution_count": 8,
   "metadata": {},
   "outputs": [],
   "source": [
    "df = pd.DataFrame(X, columns=['crim','zn','indus','chas','nox',\n",
    "                              'rm','age','dis','rad','tax','ptratio',\n",
    "                              'b','lstat'])\n",
    "X_drop = df.drop(columns=[\"lstat\", \"b\"])\n",
    "X_fair = InformationFilter([\"lstat\", \"b\"]).fit_transform(df)\n",
    "X_fair = pd.DataFrame(X_fair, \n",
    "                      columns=[n for n in df.columns if n not in ['b', 'lstat']])"
   ]
  },
  {
   "cell_type": "markdown",
   "metadata": {},
   "source": [
    "Let's see what the effect is of three approaches: \n",
    "\n",
    "1. Keep $X$ as is. \n",
    "2. Drop the two columns that are sensitive.\n",
    "3. Use $X_{\\text{fair}}$ with orthogonal features."
   ]
  },
  {
   "cell_type": "code",
   "execution_count": 9,
   "metadata": {},
   "outputs": [],
   "source": [
    "def simple_mod():\n",
    "    return Pipeline([(\"scale\", StandardScaler()), (\"mod\", LinearRegression())])\n",
    "\n",
    "base_mod = simple_mod().fit(X, y)\n",
    "drop_mod = simple_mod().fit(X_drop, y)\n",
    "fair_mod = simple_mod().fit(X_fair, y)\n",
    "\n",
    "base_pred = base_mod.predict(X)\n",
    "drop_pred = drop_mod.predict(X_drop)\n",
    "fair_pred = fair_mod.predict(X_fair)"
   ]
  },
  {
   "cell_type": "markdown",
   "metadata": {},
   "source": [
    "We can see that the coefficients of the three models are indeed different."
   ]
  },
  {
   "cell_type": "code",
   "execution_count": 10,
   "metadata": {},
   "outputs": [
    {
     "data": {
      "text/html": [
       "<div>\n",
       "<style scoped>\n",
       "    .dataframe tbody tr th:only-of-type {\n",
       "        vertical-align: middle;\n",
       "    }\n",
       "\n",
       "    .dataframe tbody tr th {\n",
       "        vertical-align: top;\n",
       "    }\n",
       "\n",
       "    .dataframe thead th {\n",
       "        text-align: right;\n",
       "    }\n",
       "</style>\n",
       "<table border=\"1\" class=\"dataframe\">\n",
       "  <thead>\n",
       "    <tr style=\"text-align: right;\">\n",
       "      <th></th>\n",
       "      <th>crim</th>\n",
       "      <th>zn</th>\n",
       "      <th>indus</th>\n",
       "      <th>chas</th>\n",
       "      <th>nox</th>\n",
       "      <th>rm</th>\n",
       "      <th>age</th>\n",
       "      <th>dis</th>\n",
       "      <th>rad</th>\n",
       "      <th>tax</th>\n",
       "      <th>ptratio</th>\n",
       "      <th>b</th>\n",
       "      <th>lstat</th>\n",
       "    </tr>\n",
       "  </thead>\n",
       "  <tbody>\n",
       "    <tr>\n",
       "      <th>0</th>\n",
       "      <td>-0.928146</td>\n",
       "      <td>1.081569</td>\n",
       "      <td>0.140900</td>\n",
       "      <td>0.681740</td>\n",
       "      <td>-2.056718</td>\n",
       "      <td>2.674230</td>\n",
       "      <td>0.019466</td>\n",
       "      <td>-3.104044</td>\n",
       "      <td>2.662218</td>\n",
       "      <td>-2.076782</td>\n",
       "      <td>-2.060607</td>\n",
       "      <td>0.849268</td>\n",
       "      <td>-3.743627</td>\n",
       "    </tr>\n",
       "    <tr>\n",
       "      <th>1</th>\n",
       "      <td>-1.581396</td>\n",
       "      <td>0.911004</td>\n",
       "      <td>-0.290074</td>\n",
       "      <td>0.884936</td>\n",
       "      <td>-2.567870</td>\n",
       "      <td>4.264702</td>\n",
       "      <td>-1.270735</td>\n",
       "      <td>-3.331836</td>\n",
       "      <td>2.215737</td>\n",
       "      <td>-2.056246</td>\n",
       "      <td>-2.154600</td>\n",
       "      <td>NaN</td>\n",
       "      <td>NaN</td>\n",
       "    </tr>\n",
       "    <tr>\n",
       "      <th>2</th>\n",
       "      <td>-0.763568</td>\n",
       "      <td>1.028051</td>\n",
       "      <td>0.061393</td>\n",
       "      <td>0.697504</td>\n",
       "      <td>-1.605464</td>\n",
       "      <td>6.846774</td>\n",
       "      <td>-0.057920</td>\n",
       "      <td>-2.537602</td>\n",
       "      <td>1.935058</td>\n",
       "      <td>-1.779825</td>\n",
       "      <td>-2.793069</td>\n",
       "      <td>NaN</td>\n",
       "      <td>NaN</td>\n",
       "    </tr>\n",
       "  </tbody>\n",
       "</table>\n",
       "</div>"
      ],
      "text/plain": [
       "       crim        zn     indus      chas       nox        rm       age  \\\n",
       "0 -0.928146  1.081569  0.140900  0.681740 -2.056718  2.674230  0.019466   \n",
       "1 -1.581396  0.911004 -0.290074  0.884936 -2.567870  4.264702 -1.270735   \n",
       "2 -0.763568  1.028051  0.061393  0.697504 -1.605464  6.846774 -0.057920   \n",
       "\n",
       "        dis       rad       tax   ptratio         b     lstat  \n",
       "0 -3.104044  2.662218 -2.076782 -2.060607  0.849268 -3.743627  \n",
       "1 -3.331836  2.215737 -2.056246 -2.154600       NaN       NaN  \n",
       "2 -2.537602  1.935058 -1.779825 -2.793069       NaN       NaN  "
      ]
     },
     "execution_count": 10,
     "metadata": {},
     "output_type": "execute_result"
    }
   ],
   "source": [
    "pd.DataFrame([base_mod.steps[1][1].coef_, drop_mod.steps[1][1].coef_, fair_mod.steps[1][1].coef_], columns=df.columns)"
   ]
  },
  {
   "cell_type": "markdown",
   "metadata": {},
   "source": [
    "#### Measuring Fairness\n",
    "\n",
    "Measuring fairness can be done in many ways but we'll consider one definition: the output of the model is fair with regards to groups $A$ and $B$ if prediction has a distribution independant if group $A$ or $B$. In laymans terms: if group $A$ and $B$ don't get the same predictions: no bueno. \n",
    "\n",
    "To estimate this we'll use bootstrap sampling to measure the models bias. "
   ]
  },
  {
   "cell_type": "code",
   "execution_count": 11,
   "metadata": {},
   "outputs": [],
   "source": [
    "# we're using lstat to select the group to keep things simple\n",
    "selector = df[\"lstat\"] > np.quantile(df[\"lstat\"], 0.5)\n",
    "\n",
    "def bootstrap_means(preds, selector, n=2500, k=25):\n",
    "    grp1 = np.random.choice(preds[selector], (n, k)).mean(axis=1)\n",
    "    grp2 = np.random.choice(preds[~selector], (n, k)).mean(axis=1)\n",
    "    return grp1 - grp2"
   ]
  },
  {
   "cell_type": "markdown",
   "metadata": {},
   "source": [
    "#### 1. Original Situation"
   ]
  },
  {
   "cell_type": "code",
   "execution_count": 12,
   "metadata": {},
   "outputs": [
    {
     "data": {
      "image/png": "[encoded data removed]",
      "text/plain": [
       "<Figure size 720x360 with 2 Axes>"
      ]
     },
     "metadata": {
      "needs_background": "light"
     },
     "output_type": "display_data"
    }
   ],
   "source": [
    "plt.figure(figsize=(10, 5))\n",
    "plt.subplot(121)\n",
    "plt.scatter(base_pred, y)\n",
    "plt.title(f\"MSE: {mean_squared_error(y, base_pred)}\")\n",
    "plt.subplot(122)\n",
    "plt.hist(bootstrap_means(base_pred, selector), bins=30, density=True, alpha=0.8)\n",
    "plt.title(f\"Fairness Proxy\");"
   ]
  },
  {
   "cell_type": "markdown",
   "metadata": {},
   "source": [
    "#### 2. Drop two columns"
   ]
  },
  {
   "cell_type": "code",
   "execution_count": 13,
   "metadata": {},
   "outputs": [
    {
     "data": {
      "image/png": "[encoded data removed]",
      "text/plain": [
       "<Figure size 720x360 with 2 Axes>"
      ]
     },
     "metadata": {
      "needs_background": "light"
     },
     "output_type": "display_data"
    }
   ],
   "source": [
    "plt.figure(figsize=(10, 5))\n",
    "plt.subplot(121)\n",
    "plt.scatter(drop_pred, y)\n",
    "plt.title(f\"MSE: {mean_squared_error(y, drop_pred)}\")\n",
    "plt.subplot(122)\n",
    "plt.hist(bootstrap_means(base_pred, selector), bins=30, density=True, alpha=0.8)\n",
    "plt.hist(bootstrap_means(drop_pred, selector), bins=30, density=True, alpha=0.8)\n",
    "plt.title(f\"Fairness Proxy\");"
   ]
  },
  {
   "cell_type": "markdown",
   "metadata": {},
   "source": [
    "#### 3. Use the Information Filter"
   ]
  },
  {
   "cell_type": "code",
   "execution_count": 14,
   "metadata": {},
   "outputs": [
    {
     "data": {
      "image/png": "[encoded data removed]",
      "text/plain": [
       "<Figure size 720x360 with 2 Axes>"
      ]
     },
     "metadata": {
      "needs_background": "light"
     },
     "output_type": "display_data"
    }
   ],
   "source": [
    "plt.figure(figsize=(10, 5))\n",
    "plt.subplot(121)\n",
    "plt.scatter(fair_pred, y)\n",
    "plt.title(f\"MSE: {mean_squared_error(y, fair_pred)}\")\n",
    "plt.subplot(122)\n",
    "plt.hist(bootstrap_means(base_pred, selector), bins=30, density=True, alpha=0.8)\n",
    "plt.hist(bootstrap_means(fair_pred, selector), bins=30, density=True, alpha=0.8)\n",
    "plt.title(f\"Fairness Proxy\");"
   ]
  },
  {
   "cell_type": "markdown",
   "metadata": {},
   "source": [
    "There definately is a balance between fairness and model accuracy. Which model you'll use depends on the world you want to create by applying your model. \n",
    "\n",
    "Note that you can combine models here to make an ensemble too. You can also use the difference between the 1st and  last model as a proxy for bias."
   ]
  },
  {
   "cell_type": "markdown",
   "metadata": {},
   "source": [
    "## Fair Classifier\n",
    "\n",
    "Another way we could tackle this fairness problem would be to explicitly take fairness into account when optimizing the parameters of our model. This is implemented in the `FairClassifier`.\n",
    "\n",
    "### How it works\n",
    "The `FairClassifier` is built as an extension of basic logistic regression. Where logistic regression optimizes the following problem:\n",
    "\n",
    "$$\\begin{array}{cl}\n",
    "{\\operatorname{minimize}} & -\\sum_{i=1}^{N} \\log p\\left(y_{i} | \\mathbf{x}_{i},\\boldsymbol{\\theta}\\right)\n",
    "\\end{array}\n",
    "$$\n",
    "\n",
    "We would like to instead optimize this:\n",
    "\n",
    "$$\\begin{array}{cl}{\\operatorname{minimize}} & -\\sum_{i=1}^{N} \\log p\\left(y_{i} | \\mathbf{x}_{i},\n",
    "        \\boldsymbol{\\theta}\\right)\\\\\n",
    "{\\text { subject to }} & \\text{fairness} \\geq \\mathbf{c}\\end{array}    $$  \n",
    "        \n",
    "\n",
    "A common way to measure fairness in classification tasks is the p% score:\n",
    "\n",
    "$$\\text{fairness} = \\min \\left(\\frac{P(\\hat{y}=1 | z=1)}{P(\\hat{y}=1 | z=0)}, \\frac{P(\\hat{y}=1 | z=0)}{P(\\hat{y}=1 | z=1)}\\right)$$\n",
    "\n",
    "The p% score is a nice metric but unfortunately it is rather hard to directly implement in the formulation into our model as it is a non-convex function making it difficult to optimize directly. Also, as the p% rule only depends on which side of the decision boundary an observation lies, it is invariant in small changes in the decision boundary. This causes large saddle points in the objective making optimization even more difficult\n",
    "\n",
    "Instead of optimizing for the p% directly, we approximate it by taking the covariance between the users’ sensitive\n",
    "attributes, $z$m, and the decision boundary. This results in the following formulation of our `FairClassifier`.\n",
    "\n",
    "$$\\begin{array}{cl}{\\operatorname{minimize}} & -\\sum_{i=1}^{N} \\log p\\left(y_{i} | \\mathbf{x}_{i},\n",
    "        \\boldsymbol{\\theta}\\right)\\\\\n",
    "{\\text { subject to }} & {\\frac{1}{N} \\sum_{i=1}^{N}\\left(\\mathbf{z}_{i}-\\overline{\\mathbf{z}}\\right) d\n",
    "        \\boldsymbol{\\theta}\\left(\\mathbf{x}_{i}\\right) \\leq \\mathbf{c}} \\\\\n",
    "        {} & {\\frac{1}{N} \\sum_{i=1}^{N}\\left(\\mathbf{z}_{i}-\\overline{\\mathbf{z}}\\right)\n",
    "        d_{\\boldsymbol{\\theta}}\\left(\\mathbf{x}_{i}\\right) \\geq-\\mathbf{c}}\\end{array}    $$  \n",
    "        "
   ]
  },
  {
   "cell_type": "markdown",
   "metadata": {},
   "source": [
    "Let's see what the effect of this is. As this is a Classifier and not a Regressor, we transform the target to a binary variable indicating whether it is above or below the median. Our p% metric also assumes a binary indicator for sensitive columns so we do the same for our `lstat` column\n"
   ]
  },
  {
   "cell_type": "code",
   "execution_count": 46,
   "metadata": {},
   "outputs": [
    {
     "name": "stderr",
     "output_type": "stream",
     "text": [
      "/Users/matthijsbrouns/PycharmProjects/scikit-lego/venv/lib/python3.6/site-packages/sklearn/linear_model/logistic.py:947: ConvergenceWarning: lbfgs failed to converge. Increase the number of iterations.\n",
      "  \"of iterations.\", ConvergenceWarning)\n"
     ]
    }
   ],
   "source": [
    "from sklego.linear_model import FairClassifier\n",
    "from sklearn.linear_model import LogisticRegression\n",
    "from sklego.metrics import p_percent_score\n",
    "\n",
    "df_clf = df.assign(lstat=lambda d: d['lstat'] > np.median(d['lstat']))\n",
    "y_clf = y > np.median(y)\n",
    "\n",
    "fair_classifier = FairClassifier(\n",
    "    covariance_threshold=0.5, \n",
    "    sensitive_cols=['lstat'], \n",
    "    train_sensitive_cols=False)\n",
    "normal_classifier = LogisticRegression(solver='lbfgs')\n",
    "\n",
    "fair_classifier.fit(df_clf, y_clf)\n",
    "normal_classifier.fit(df_clf, y_clf);"
   ]
  },
  {
   "cell_type": "markdown",
   "metadata": {},
   "source": [
    "fitting the model is as easy as fitting a normal sklearn model. We just need to supply the columns that should be treated as sensitive to the model, as well as the maximum correlation we want to have. \n",
    "\n",
    "Comparing the two models on their p% scores also shows that the fair classifier has a much higher fairness score at a slight cost in accuracy"
   ]
  },
  {
   "cell_type": "code",
   "execution_count": 55,
   "metadata": {},
   "outputs": [
    {
     "name": "stdout",
     "output_type": "stream",
     "text": [
      "p% score FairClassifier: 0.18000000000000002\n",
      "p% score LogisticRegression: 0.08928571428571429\n"
     ]
    }
   ],
   "source": [
    "print('p% score FairClassifier:', p_percent_score('lstat')(fair_classifier, df_clf, y_clf))\n",
    "print('p% score LogisticRegression:', p_percent_score('lstat')(normal_classifier, df_clf, y_clf))"
   ]
  },
  {
   "cell_type": "code",
   "execution_count": 57,
   "metadata": {},
   "outputs": [
    {
     "name": "stdout",
     "output_type": "stream",
     "text": [
      "accuracy score FairClassifier: 0.8537549407114624\n",
      "accuracy score LogisticRegression: 0.8656126482213439\n"
     ]
    }
   ],
   "source": [
    "from sklearn.metrics import accuracy_score\n",
    "print('accuracy score FairClassifier:', accuracy_score(fair_classifier.predict(df_clf), y_clf))\n",
    "print('accuracy score LogisticRegression:', accuracy_score(normal_classifier.predict(df_clf), y_clf))"
   ]
  }
 ],
 "metadata": {
  "kernelspec": {
   "display_name": "Python 3",
   "language": "python",
   "name": "python3"
  },
  "language_info": {
   "codemirror_mode": {
    "name": "ipython",
    "version": 3
   },
   "file_extension": ".py",
   "mimetype": "text/x-python",
   "name": "python",
   "nbconvert_exporter": "python",
   "pygments_lexer": "ipython3",
   "version": "3.6.6"
  }
 },
 "nbformat": 4,
 "nbformat_minor": 2
}
