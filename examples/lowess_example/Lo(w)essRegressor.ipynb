{
 "cells": [
  {
   "cell_type": "markdown",
   "metadata": {},
   "source": [
    "# Lo(w)ess Regression\n",
    "**Goal**: This notebook contains an example of how to use the Lo(w)ess Regression.\n",
    "\n",
    "It also has a function to create images for turning the whole fitting method into a GIF."
   ]
  },
  {
   "cell_type": "code",
   "execution_count": null,
   "metadata": {},
   "outputs": [],
   "source": [
    "# Some basic housekeeping\n",
    "%load_ext autoreload\n",
    "%autoreload 2\n",
    "\n",
    "# Imports\n",
    "import os\n",
    "\n",
    "import numpy as np\n",
    "import matplotlib.pyplot as plt\n",
    "from sklearn.linear_model import LinearRegression\n",
    "\n",
    "from sklego.linear import LoessRegressor"
   ]
  },
  {
   "cell_type": "markdown",
   "metadata": {},
   "source": [
    "# Create dummy dataset\n",
    "Sinewave with a gap in the data."
   ]
  },
  {
   "cell_type": "code",
   "execution_count": null,
   "metadata": {},
   "outputs": [],
   "source": [
    "def random_bound_data(minimum_val, maximum_val, size):\n",
    "    \"\"\"\n",
    "    Generate random data-points of size between bounds.\n",
    "\n",
    "    :param minimum_val: float, minimal value of the generated data\n",
    "    :param maximum_val: float, maximum value of the generated data\n",
    "    :param size: tuple or list, shape of the desired output\n",
    "    :return: x, y\n",
    "    \"\"\"\n",
    "    return (maximum_val - minimum_val) * np.random.random(size=size) + minimum_val\n",
    "\n",
    "\n",
    "def generate_noisy_sine_data(noise_std):\n",
    "    \"\"\"\n",
    "    Generate x with a gap and f(x) with added normal distributed noise with standard deviation\n",
    "    noise_std, with:\n",
    "    f(x) = 5*sin(x/3) + N(mu=0, sigma=n)\n",
    "\n",
    "    :param noise_std: non-negative float, standard deviation of added noise.\n",
    "    :return: xnp.Array, y = f(x) + N(0, std)\n",
    "    \"\"\"\n",
    "    x1 = random_bound_data(10, 30, 100)\n",
    "    x2 = random_bound_data(40, 60, 100)\n",
    "    x = np.append(x1, x2)\n",
    "    np.random.shuffle(x)\n",
    "\n",
    "    return x, 5 * np.sin(x / 3) + np.random.normal(loc=0, scale=noise_std, size=x.shape)"
   ]
  },
  {
   "cell_type": "code",
   "execution_count": null,
   "metadata": {},
   "outputs": [],
   "source": [
    "np.random.seed(0)\n",
    "noise_std=2\n",
    "xs, ys = generate_noisy_sine_data(noise_std)\n",
    "\n",
    "plt.scatter(xs,ys)"
   ]
  },
  {
   "cell_type": "markdown",
   "metadata": {},
   "source": [
    "# Fit and predict using LoesRegressor"
   ]
  },
  {
   "cell_type": "code",
   "execution_count": null,
   "metadata": {
    "scrolled": false
   },
   "outputs": [],
   "source": [
    "model = LoessRegressor(span=0.2,\n",
    "                       weighting_method='euclidean')\n",
    "\n",
    "x_preds = np.linspace(xs.min()-5, xs.max()+5, 100)\n",
    "y_preds, indices = model.fit(xs.reshape(-1,1),ys).predict(x_preds.reshape(-1,1), with_indices=True)"
   ]
  },
  {
   "cell_type": "markdown",
   "metadata": {},
   "source": [
    "# Plot of each window\n",
    "Takes a long time to run, only run with caution!"
   ]
  },
  {
   "cell_type": "code",
   "execution_count": null,
   "metadata": {
    "scrolled": false
   },
   "outputs": [],
   "source": [
    "save_figures_path = '' # FILL IN A DIRECTORY FOR SAVING THE FIGURES HERE\n",
    "\n",
    "for index, x_pred in enumerate(x_preds):\n",
    "    fig, ax = plt.subplots(1,1)\n",
    "    ax.set_xlim(left=xs.min()-6, right=xs.max()+6)\n",
    "    ax.set_ylim(bottom=ys.min()-6, top=ys.max()+6)\n",
    "    \n",
    "    x_window = model.xs[indices[index]]\n",
    "    y_window = model.ys[indices[index]]\n",
    "    ax.plot(x_window, y_window, '.')\n",
    "    \n",
    "    ax.plot(model.xs, model.ys, 'k.', alpha=0.1)\n",
    "    ax.plot(x_preds[:index-1], y_preds[:index-1], 'r', alpha=0.8)\n",
    "    ax.plot(x_pred, y_preds[index], 'ro')\n",
    "    \n",
    "    coef = LinearRegression().fit(x_window.reshape(-1,1),y_window.reshape(-1,1)).coef_.flatten()\n",
    "    x_vals = np.array(ax.get_xlim())\n",
    "    y_vals = y_preds[index] + coef * (x_vals-x_pred)\n",
    "    ax.plot(x_vals, y_vals, 'r--')\n",
    "    \n",
    "    fig.savefig(os.path.join(save_figures_path, f'loess_trace_0{index:03}.png')"
   ]
  },
  {
   "cell_type": "markdown",
   "metadata": {},
   "source": [
    "# Full plot"
   ]
  },
  {
   "cell_type": "code",
   "execution_count": null,
   "metadata": {},
   "outputs": [],
   "source": [
    "plt.plot(xs,ys,'.')\n",
    "plt.plot(x_preds,y_preds,'r')"
   ]
  }
 ],
 "metadata": {
  "kernelspec": {
   "display_name": "Python 3",
   "language": "python",
   "name": "python3"
  },
  "language_info": {
   "codemirror_mode": {
    "name": "ipython",
    "version": 3
   },
   "file_extension": ".py",
   "mimetype": "text/x-python",
   "name": "python",
   "nbconvert_exporter": "python",
   "pygments_lexer": "ipython3",
   "version": "3.7.0"
  }
 },
 "nbformat": 4,
 "nbformat_minor": 2
}
