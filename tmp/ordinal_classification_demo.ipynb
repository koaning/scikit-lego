{
 "cells": [
  {
   "cell_type": "code",
   "execution_count": 9,
   "metadata": {},
   "outputs": [],
   "source": [
    "# ! pip install git+https://github.com/FBruzzesi/scikit-lego.git@ordinal-classification"
   ]
  },
  {
   "cell_type": "code",
   "execution_count": 10,
   "metadata": {},
   "outputs": [],
   "source": [
    "import pandas as pd\n",
    "import numpy as np\n",
    "\n",
    "from sklearn.linear_model import LogisticRegression\n",
    "from sklearn.ensemble import RandomForestClassifier, ExtraTreesClassifier, HistGradientBoostingClassifier\n",
    "from sklearn.calibration import CalibratedClassifierCV\n",
    "from sklearn.model_selection import cross_validate\n",
    "from sklearn.multiclass import OneVsRestClassifier\n",
    "\n",
    "from sklearn.metrics import classification_report, balanced_accuracy_score, f1_score, make_scorer\n",
    "\n",
    "from sklearn import clone\n",
    "\n",
    "from sklego.meta import OrdinalClassifier"
   ]
  },
  {
   "cell_type": "code",
   "execution_count": 11,
   "metadata": {},
   "outputs": [],
   "source": [
    "url = \"https://stats.idre.ucla.edu/stat/data/ologit.dta\"\n",
    "\n",
    "df = pd.read_stata(url).assign(apply = lambda t: t[\"apply\"].cat.codes)\n",
    "\n",
    "target = \"apply\"\n",
    "features = [c for c in df.columns if c != target]\n",
    "\n",
    "X, y = df[features].to_numpy(), df[target].to_numpy()"
   ]
  },
  {
   "cell_type": "code",
   "execution_count": 12,
   "metadata": {},
   "outputs": [],
   "source": [
    "def score_estimator(estimator, X, y, scoring) -> pd.DataFrame:\n",
    "\n",
    "    return (\n",
    "        pd.DataFrame(cross_validate(estimator, X, y, cv=5, scoring=scoring, n_jobs=-1))\n",
    "        .loc[:, [f\"test_{s}\" for s in scoring.keys()]]\n",
    "        .rename(columns={f\"test_{s}\": s for s in scoring.keys()})\n",
    "        )\n",
    "\n",
    "def compare_meta_models(base_estimator, X, y, scoring) -> pd.DataFrame:\n",
    "\n",
    "    oc_estimator = OrdinalClassifier(clone(base_estimator), use_calibration=True, n_jobs=-1)\n",
    "    oc_scores = score_estimator(oc_estimator, X, y, scoring)\n",
    "    \n",
    "    ovr_estimator = OneVsRestClassifier(clone(base_estimator), n_jobs=-1)\n",
    "    ovr_scores = score_estimator(ovr_estimator, X, y, scoring)\n",
    "\n",
    "    scores = pd.merge(oc_scores, ovr_scores, left_index=True, right_index=True, suffixes=[\"_oc\", \"_ovr\"])\n",
    "    return (scores.reindex(sorted(scores.columns), axis=1))\n",
    "\n",
    "def fit_predict_meta_models(base_estimator, X, y):\n",
    "\n",
    "    oc_cal_estimator = OrdinalClassifier(clone(base_estimator), use_calibration=True, n_jobs=-1)\n",
    "    oc_cal_preds = oc_cal_estimator.fit(X, y).predict_proba(X)\n",
    "\n",
    "    oc_no_cal_estimator = OrdinalClassifier(clone(base_estimator), use_calibration=False, n_jobs=-1)\n",
    "    oc_no_cal_preds = oc_no_cal_estimator.fit(X, y).predict_proba(X)\n",
    "\n",
    "    ovr_estimator = OneVsRestClassifier(clone(base_estimator), n_jobs=-1)\n",
    "    ovr_preds = ovr_estimator.fit(X, y).predict_proba(X)\n",
    "\n",
    "    return oc_cal_preds, oc_no_cal_preds, ovr_preds\n",
    "\n",
    "def is_monotonic(row, split_idx):\n",
    "    left, right = np.split(row, [split_idx])\n",
    "    is_monotonic = (np.diff(left)>0).all() & (np.diff(right)<0).all()\n",
    "    return is_monotonic\n",
    "\n",
    "def check_monotonicity(arr):\n",
    "    argmax = np.argmax(arr, axis=1)\n",
    "    \n",
    "    return np.array([is_monotonic(row, split_idx) for row, split_idx in zip(arr, argmax)])\n"
   ]
  },
  {
   "cell_type": "code",
   "execution_count": 13,
   "metadata": {},
   "outputs": [
    {
     "data": {
      "text/plain": [
       "array([ True,  True,  True, False, False])"
      ]
     },
     "execution_count": 13,
     "metadata": {},
     "output_type": "execute_result"
    }
   ],
   "source": [
    "a = np.array([[.1, .2, .3], [.3, .2, .1], [.1, .2, .1], [.3, .1, .2], [.2, .1, .3]])\n",
    "check_monotonicity(a)"
   ]
  },
  {
   "cell_type": "code",
   "execution_count": 14,
   "metadata": {},
   "outputs": [],
   "source": [
    "scoring = {'accuracy': make_scorer(balanced_accuracy_score), \"f1\": make_scorer(f1_score, average=\"weighted\")}"
   ]
  },
  {
   "cell_type": "code",
   "execution_count": 15,
   "metadata": {},
   "outputs": [
    {
     "name": "stdout",
     "output_type": "stream",
     "text": [
      "LogisticRegression\n"
     ]
    },
    {
     "name": "stdout",
     "output_type": "stream",
     "text": [
      "       accuracy_oc  accuracy_ovr     f1_oc    f1_ovr\n",
      "count     5.000000      5.000000  5.000000  5.000000\n",
      "mean      0.368831      0.364069  0.487874  0.481174\n",
      "std       0.010307      0.007482  0.022214  0.016987\n",
      "min       0.353896      0.353896  0.453290  0.453290\n",
      "50%       0.374459      0.362554  0.500000  0.483333\n",
      "max       0.378788      0.374459  0.506667  0.498835\n",
      "\n",
      "ExtraTreesClassifier\n",
      "       accuracy_oc  accuracy_ovr     f1_oc    f1_ovr\n",
      "count     5.000000      5.000000  5.000000  5.000000\n",
      "mean      0.353680      0.377056  0.462485  0.490132\n",
      "std       0.014867      0.038643  0.025648  0.041356\n",
      "min       0.331169      0.327922  0.433073  0.445189\n",
      "50%       0.353896      0.374459  0.459792  0.501344\n",
      "max       0.371212      0.424784  0.502998  0.546011\n",
      "\n",
      "HistGradientBoostingClassifier\n",
      "       accuracy_oc  accuracy_ovr     f1_oc    f1_ovr\n",
      "count     5.000000      5.000000  5.000000  5.000000\n",
      "mean      0.332900      0.346861  0.399589  0.453681\n",
      "std       0.004630      0.074274  0.020394  0.075310\n",
      "min       0.325758      0.228355  0.390323  0.326167\n",
      "50%       0.333333      0.356602  0.390323  0.463303\n",
      "max       0.338745      0.431818  0.436068  0.514889\n",
      "\n"
     ]
    }
   ],
   "source": [
    "estimators = [LogisticRegression(), ExtraTreesClassifier(max_depth=5), HistGradientBoostingClassifier(max_depth=5)]\n",
    "\n",
    "for base_estimator in estimators:\n",
    "\n",
    "    print(base_estimator.__class__.__name__)\n",
    "    scores = compare_meta_models(base_estimator, X, y, scoring)\n",
    "    print(scores.describe(percentiles=[0.5]))\n",
    "    print()"
   ]
  },
  {
   "cell_type": "code",
   "execution_count": 21,
   "metadata": {},
   "outputs": [
    {
     "name": "stdout",
     "output_type": "stream",
     "text": [
      "LogisticRegression\n",
      "Percentage of monotonic constraint respect:\n",
      "\n",
      "\tOrdinalClassifier with calibration: 100.00%\n",
      "\tOrdinalClassifier without calibration: 100.00%\n",
      "\tOVR Classifier: 100.00%\n",
      "\n",
      "ExtraTreesClassifier\n",
      "Percentage of monotonic constraint respect:\n",
      "\n",
      "\tOrdinalClassifier with calibration: 100.00%\n",
      "\tOrdinalClassifier without calibration: 94.50%\n",
      "\tOVR Classifier: 94.75%\n",
      "\n",
      "HistGradientBoostingClassifier\n",
      "Percentage of monotonic constraint respect:\n",
      "\n",
      "\tOrdinalClassifier with calibration: 100.00%\n",
      "\tOrdinalClassifier without calibration: 89.25%\n",
      "\tOVR Classifier: 89.25%\n",
      "\n"
     ]
    }
   ],
   "source": [
    "estimators = [LogisticRegression(), ExtraTreesClassifier(max_depth=5), HistGradientBoostingClassifier(max_depth=5)]\n",
    "\n",
    "for base_estimator in estimators:\n",
    "    print(base_estimator.__class__.__name__)\n",
    "    oc_cal_preds, oc_no_cal_preds, ovr_preds = fit_predict_meta_models(base_estimator, X, y)\n",
    "\n",
    "\n",
    "    print(\"Percentage of monotonic constraint respect:\\n\")\n",
    "    print(\n",
    "        f\"\\tOrdinalClassifier with calibration: {100*check_monotonicity(oc_cal_preds).mean():.2f}%\",\n",
    "        f\"\\tOrdinalClassifier without calibration: {100*check_monotonicity(oc_no_cal_preds).mean():.2f}%\",\n",
    "        f\"\\tOVR Classifier: {100*check_monotonicity(ovr_preds).mean():.2f}%\",\n",
    "        sep=\"\\n\"\n",
    "    )\n",
    "\n",
    "    print()"
   ]
  }
 ],
 "metadata": {
  "kernelspec": {
   "display_name": "lego-dev",
   "language": "python",
   "name": "python3"
  },
  "language_info": {
   "codemirror_mode": {
    "name": "ipython",
    "version": 3
   },
   "file_extension": ".py",
   "mimetype": "text/x-python",
   "name": "python",
   "nbconvert_exporter": "python",
   "pygments_lexer": "ipython3",
   "version": "3.10.13"
  }
 },
 "nbformat": 4,
 "nbformat_minor": 2
}
