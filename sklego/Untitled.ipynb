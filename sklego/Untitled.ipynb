{
 "cells": [
  {
   "cell_type": "code",
   "execution_count": 1,
   "metadata": {},
   "outputs": [
    {
     "name": "stderr",
     "output_type": "stream",
     "text": [
      "/Users/vincent/Development/scikit-lego/venv/lib/python3.6/site-packages/umap/spectral.py:4: NumbaDeprecationWarning: No direct replacement for 'numba.targets' available. Visit https://gitter.im/numba/numba-dev to request help. Thanks!\n",
      "  import numba.targets\n"
     ]
    }
   ],
   "source": [
    "import numpy as np\n",
    "from umap import UMAP\n",
    "from sklearn.datasets import make_blobs"
   ]
  },
  {
   "cell_type": "code",
   "execution_count": 2,
   "metadata": {},
   "outputs": [],
   "source": [
    "from sklego.decomposition import PCAOutlierDetection, UMAPOutlierDetection"
   ]
  },
  {
   "cell_type": "code",
   "execution_count": 3,
   "metadata": {},
   "outputs": [],
   "source": [
    "from sklego.datasets import load_heroes\n",
    "import matplotlib.pylab as plt"
   ]
  },
  {
   "cell_type": "code",
   "execution_count": 4,
   "metadata": {},
   "outputs": [],
   "source": [
    "X = load_heroes(give_pandas=True)[['health', 'attack']].values"
   ]
  },
  {
   "cell_type": "code",
   "execution_count": 5,
   "metadata": {},
   "outputs": [
    {
     "data": {
      "image/png": "[encoded data removed]",
      "text/plain": [
       "<Figure size 432x288 with 1 Axes>"
      ]
     },
     "metadata": {
      "needs_background": "light"
     },
     "output_type": "display_data"
    }
   ],
   "source": [
    "X = X[:30]\n",
    "plt.scatter(X[:, 0], X[:, 1]);"
   ]
  },
  {
   "cell_type": "code",
   "execution_count": 6,
   "metadata": {},
   "outputs": [],
   "source": [
    "mod = UMAP().fit(X)"
   ]
  },
  {
   "cell_type": "code",
   "execution_count": 7,
   "metadata": {},
   "outputs": [],
   "source": [
    "from sklearn.utils import shuffle"
   ]
  },
  {
   "cell_type": "code",
   "execution_count": 35,
   "metadata": {},
   "outputs": [],
   "source": [
    "n_samples = 300\n",
    "X, _ = make_blobs(n_samples=n_samples, random_state=0)\n",
    "X = shuffle(X, random_state=7)\n",
    "X = create_memmap_backed_data(X)"
   ]
  },
  {
   "cell_type": "code",
   "execution_count": 51,
   "metadata": {},
   "outputs": [],
   "source": [
    "mod = UMAPOutlierDetection(n_components=2, threshold=0.01, random_state=42).fit(X)"
   ]
  },
  {
   "cell_type": "code",
   "execution_count": 52,
   "metadata": {},
   "outputs": [],
   "source": [
    "d = mod.decision_function(X)\n",
    "s = mod.score_samples(X)"
   ]
  },
  {
   "cell_type": "code",
   "execution_count": 53,
   "metadata": {},
   "outputs": [
    {
     "data": {
      "image/png": "[encoded data removed]",
      "text/plain": [
       "<Figure size 432x288 with 1 Axes>"
      ]
     },
     "metadata": {
      "needs_background": "light"
     },
     "output_type": "display_data"
    }
   ],
   "source": [
    "plt.scatter(d, s);"
   ]
  },
  {
   "cell_type": "code",
   "execution_count": 38,
   "metadata": {},
   "outputs": [
    {
     "data": {
      "text/plain": [
       "array([ True,  True,  True,  True,  True,  True,  True,  True,  True,\n",
       "        True,  True,  True,  True,  True,  True,  True,  True,  True,\n",
       "        True,  True,  True,  True,  True,  True,  True,  True,  True,\n",
       "        True,  True,  True,  True,  True,  True,  True,  True,  True,\n",
       "        True,  True,  True,  True,  True,  True,  True,  True,  True,\n",
       "        True,  True,  True,  True,  True,  True,  True,  True,  True,\n",
       "        True,  True,  True,  True,  True,  True,  True,  True,  True,\n",
       "        True,  True,  True,  True,  True,  True,  True,  True,  True,\n",
       "        True,  True,  True,  True,  True,  True,  True,  True,  True,\n",
       "        True,  True,  True,  True,  True,  True,  True,  True,  True,\n",
       "        True,  True,  True,  True,  True,  True,  True,  True,  True,\n",
       "        True,  True,  True,  True,  True,  True,  True,  True,  True,\n",
       "        True,  True,  True,  True,  True,  True,  True,  True,  True,\n",
       "        True,  True,  True,  True,  True,  True,  True,  True,  True,\n",
       "        True,  True,  True,  True,  True,  True,  True,  True,  True,\n",
       "        True,  True,  True,  True,  True,  True,  True,  True,  True,\n",
       "        True,  True,  True,  True,  True,  True,  True,  True,  True,\n",
       "        True,  True,  True,  True,  True,  True,  True,  True,  True,\n",
       "        True,  True,  True,  True,  True,  True,  True,  True,  True,\n",
       "        True,  True,  True,  True,  True,  True,  True,  True,  True,\n",
       "        True,  True,  True,  True,  True,  True,  True,  True,  True,\n",
       "        True,  True,  True,  True,  True,  True,  True,  True,  True,\n",
       "        True,  True,  True,  True,  True,  True,  True,  True,  True,\n",
       "        True,  True,  True,  True,  True,  True,  True,  True,  True,\n",
       "        True,  True,  True,  True,  True,  True,  True,  True,  True,\n",
       "        True,  True,  True,  True,  True,  True,  True,  True,  True,\n",
       "        True,  True,  True,  True,  True,  True,  True,  True,  True,\n",
       "        True,  True,  True,  True,  True,  True,  True,  True,  True,\n",
       "        True,  True,  True,  True,  True,  True,  True,  True,  True,\n",
       "        True,  True,  True,  True,  True,  True,  True,  True,  True,\n",
       "        True,  True,  True,  True,  True,  True,  True,  True,  True,\n",
       "        True,  True,  True,  True,  True,  True,  True,  True,  True,\n",
       "        True,  True,  True,  True,  True,  True,  True,  True,  True,\n",
       "        True,  True,  True])"
      ]
     },
     "execution_count": 38,
     "metadata": {},
     "output_type": "execute_result"
    }
   ],
   "source": [
    "dec_pred = (d >= 0).astype(np.int)\n",
    "dec_pred[dec_pred == 0] = -1\n",
    "dec_pred == mod.predict(X)"
   ]
  },
  {
   "cell_type": "code",
   "execution_count": 39,
   "metadata": {},
   "outputs": [],
   "source": [
    "def check_outliers_train(name, estimator_orig, readonly_memmap=True):\n",
    "    n_samples = 300\n",
    "    X, _ = make_blobs(n_samples=n_samples, random_state=0)\n",
    "    X = shuffle(X, random_state=7)\n",
    "\n",
    "    if readonly_memmap:\n",
    "        X = create_memmap_backed_data(X)\n",
    "\n",
    "    n_samples, n_features = X.shape\n",
    "    estimator = clone(estimator_orig)\n",
    "    set_random_state(estimator)\n",
    "\n",
    "    # fit\n",
    "    estimator.fit(X)\n",
    "    # with lists\n",
    "    estimator.fit(X.tolist())\n",
    "\n",
    "    y_pred = estimator.predict(X)\n",
    "    assert y_pred.shape == (n_samples,)\n",
    "    assert y_pred.dtype.kind == 'i'\n",
    "    assert_array_equal(np.unique(y_pred), np.array([-1, 1]))\n",
    "\n",
    "    decision = estimator.decision_function(X)\n",
    "    scores = estimator.score_samples(X)\n",
    "    for output in [decision, scores]:\n",
    "        assert output.dtype == np.dtype('float')\n",
    "        assert output.shape == (n_samples,)\n",
    "\n",
    "    # raises error on malformed input for predict\n",
    "    assert_raises(ValueError, estimator.predict, X.T)\n",
    "    # decision_function agrees with predict\n",
    "    dec_pred = (decision >= 0).astype(np.int)\n",
    "    dec_pred[dec_pred == 0] = -1\n",
    "    assert_array_equal(dec_pred, y_pred)\n",
    "\n",
    "    # raises error on malformed input for decision_function\n",
    "    assert_raises(ValueError, estimator.decision_function, X.T)\n",
    "\n",
    "    # decision_function is a translation of score_samples\n",
    "    y_dec = scores - estimator.offset_\n",
    "    assert_allclose(y_dec, decision)\n",
    "\n",
    "    # raises error on malformed input for score_samples\n",
    "    assert_raises(ValueError, estimator.score_samples, X.T)\n",
    "\n",
    "    # contamination parameter (not for OneClassSVM which has the nu parameter)\n",
    "    if (hasattr(estimator, 'contamination')\n",
    "            and not hasattr(estimator, 'novelty')):\n",
    "        # proportion of outliers equal to contamination parameter when not\n",
    "        # set to 'auto'. This is true for the training set and cannot thus be\n",
    "        # checked as follows for estimators with a novelty parameter such as\n",
    "        # LocalOutlierFactor (tested in check_outliers_fit_predict)\n",
    "        expected_outliers = 30\n",
    "        contamination = expected_outliers / n_samples\n",
    "        estimator.set_params(contamination=contamination)\n",
    "        estimator.fit(X)\n",
    "        y_pred = estimator.predict(X)\n",
    "\n",
    "        num_outliers = np.sum(y_pred != 1)\n",
    "        # num_outliers should be equal to expected_outliers unless\n",
    "        # there are ties in the decision_function values. this can\n",
    "        # only be tested for estimators with a decision_function\n",
    "        # method, i.e. all estimators except LOF which is already\n",
    "        # excluded from this if branch.\n",
    "        if num_outliers != expected_outliers:\n",
    "            decision = estimator.decision_function(X)\n",
    "            check_outlier_corruption(num_outliers, expected_outliers, decision)\n",
    "\n",
    "        # raises error when contamination is a scalar and not in [0,1]\n",
    "        for contamination in [-0.5, 2.3]:\n",
    "            estimator.set_params(contamination=contamination)\n",
    "            assert_raises(ValueError, estimator.fit, X)"
   ]
  },
  {
   "cell_type": "code",
   "execution_count": 54,
   "metadata": {},
   "outputs": [
    {
     "name": "stdout",
     "output_type": "stream",
     "text": [
      "[-0.04933301 -0.97430072  0.01670717 -0.91673621 -1.11791664 -1.70266679\n",
      " -0.36537922 -0.46948099 -0.95488954 -2.90885917 -0.18917199 -0.57484254\n",
      " -0.49201954 -0.65378682 -0.9296337  -1.71413471 -0.44387766 -1.61473923\n",
      " -1.07551132 -1.68697785 -0.16216747 -0.83524618 -1.55779608 -1.6535795\n",
      " -0.21558973 -0.964576   -0.9780625  -1.74281482 -1.49431383 -1.52790619\n",
      " -1.8965112  -0.77717905 -1.7709041  -0.32377237 -0.32311938 -0.26361722\n",
      " -1.77408594 -0.94761617 -0.67290537 -0.84156394 -1.13610061 -0.8311014\n",
      " -1.22773195 -1.41046672 -1.19090663 -0.37696298 -0.94424751 -2.68796486\n",
      " -1.09516732 -3.06136706 -0.77406075 -0.27346234 -2.17263101 -0.77720508\n",
      " -1.30903345 -1.38346989 -2.34883508 -0.80519705 -1.35970239 -0.10556305\n",
      " -0.78489564 -0.6318852  -0.3727315  -0.70657406 -1.48997734 -2.27763895\n",
      " -0.62059444 -3.63759644 -0.78673579 -0.91389987 -0.23620622 -0.45951545\n",
      " -2.65805389 -1.11239727 -0.7757159  -0.80449962 -1.01135059 -1.40388214\n",
      " -1.21948875 -1.47117077 -0.51681533 -0.23231159 -0.46294451 -0.9375396\n",
      " -0.66483877 -0.61345346 -0.80632454 -1.60401574 -0.91783491 -0.70175581\n",
      " -0.76780985 -1.53923652 -1.00159644 -2.9787171  -1.54559888 -1.07512795\n",
      " -1.26406146 -0.72217364 -0.69113707 -1.01416258 -0.2477848  -2.15643418\n",
      " -1.16632083 -0.17715199 -1.01293449 -0.56958596 -0.72764353 -0.83005049\n",
      " -1.58534299 -0.12326091 -1.79459669 -2.56063765 -0.87102774 -2.63902641\n",
      " -1.34298252 -0.46289557 -0.65493683 -0.21086782 -1.19484456 -1.94823504\n",
      " -0.1616957  -2.62048166 -0.22651233 -0.85300558 -1.33315315 -0.92304276\n",
      " -0.99042216 -0.13021946 -0.22668097 -0.87056881 -1.73710182 -0.91674861\n",
      " -0.36705537 -0.16361318 -1.70574259 -0.38379221 -1.25590671 -1.46198803\n",
      " -1.64725587 -1.14539587 -1.48484646 -0.8308841  -1.36235345 -0.72108769\n",
      " -0.83234877 -1.7371969  -0.9440209  -0.09808833 -1.71908948 -1.1137441\n",
      " -1.34736904 -2.64655512 -0.7492979  -0.21629361 -0.99035195 -1.11941263\n",
      " -0.83170069 -0.61326025 -0.27699388 -0.31078738 -1.39516435 -0.46183694\n",
      " -1.41704792 -0.99338799 -0.84455884 -0.17637871 -0.8807113  -2.17825042\n",
      " -1.08069777 -0.51476421 -0.92151841 -0.20944592 -0.46748682 -1.83331547\n",
      " -0.78049837 -0.33659915 -0.56845173 -1.96861497 -1.73296121 -0.7696523\n",
      " -0.66787521 -0.85372031 -2.88546279 -0.30490792 -0.31665838 -1.01699926\n",
      " -1.0401048  -0.27451971 -0.87558357 -0.80214904 -2.16920795 -2.26572784\n",
      " -3.01828483 -1.29025015 -1.23160226 -0.80244715 -0.70610689 -0.87119512\n",
      " -1.98738685 -0.40748949 -1.43789753 -0.06673149 -0.75733996 -0.57074826\n",
      " -0.12788973 -1.05599859 -1.89034593 -0.73767949 -0.46702643 -1.3241309\n",
      " -0.38503427 -0.02764973 -0.3220458  -0.24410954 -0.87355482 -1.2099118\n",
      " -1.96158353 -1.30804865 -0.63651011 -1.07209017 -0.15357466 -0.09156779\n",
      " -1.1909554  -0.5176133  -0.77873125 -0.23766793 -0.30092668 -1.32057952\n",
      " -0.38296443 -1.05383948 -0.58399326 -0.86825721 -1.69878736 -1.42658255\n",
      " -0.66913802 -0.21867638 -0.13322388 -1.23681118 -2.66590479 -1.19484188\n",
      " -0.69623119 -1.04369358 -1.05651684 -1.55125065 -0.15001818 -1.35088872\n",
      " -1.53656888 -0.87705544 -1.33502351 -0.26436065 -0.8881587  -0.34499434\n",
      " -0.65734415 -0.98240939 -0.51545823 -1.21943128 -1.05787965 -1.21252003\n",
      " -1.39699066 -2.52547784 -1.41098878 -0.95127705 -0.48880038 -1.14799573\n",
      " -0.95278662 -0.16429755 -0.39953059 -2.32439933 -0.79953758 -1.76044411\n",
      " -1.23922722 -1.6305821  -3.24715492 -0.93384203 -0.4946832  -1.28355132\n",
      " -1.35192465 -0.45094891 -2.06512857 -0.88848977 -0.5168437  -1.13058964\n",
      " -0.83079819 -0.34118014 -1.30307245 -0.3015412  -1.88847325 -2.55924739\n",
      " -0.65486289 -0.6230941  -1.04333345 -0.82109759 -0.88058531 -1.01831893\n",
      " -1.45856094 -0.63842718 -0.60132308 -3.02849725 -0.6567204  -0.45509045]\n"
     ]
    },
    {
     "ename": "AssertionError",
     "evalue": "\nArrays are not equal\n\nMismatched elements: 4 / 300 (1.33%)\nMax absolute difference: 2\nMax relative difference: 2.\n x: array([-1, -1,  1, -1, -1, -1, -1, -1, -1, -1, -1, -1, -1, -1, -1, -1, -1,\n       -1, -1, -1, -1, -1, -1, -1, -1, -1, -1, -1, -1, -1, -1, -1, -1, -1,\n       -1, -1, -1, -1, -1, -1, -1, -1, -1, -1, -1, -1, -1, -1, -1, -1, -1,...\n y: array([-1, -1, -1, -1, -1, -1, -1, -1, -1, -1,  1, -1, -1, -1, -1, -1, -1,\n       -1, -1, -1, -1, -1, -1, -1, -1, -1, -1, -1, -1, -1, -1, -1, -1, -1,\n       -1, -1, -1, -1, -1, -1, -1, -1, -1, -1, -1, -1, -1, -1, -1, -1, -1,...",
     "output_type": "error",
     "traceback": [
      "\u001b[0;31m---------------------------------------------------------------------------\u001b[0m",
      "\u001b[0;31mAssertionError\u001b[0m                            Traceback (most recent call last)",
      "\u001b[0;32m<ipython-input-54-bb59194d1ff1>\u001b[0m in \u001b[0;36m<module>\u001b[0;34m\u001b[0m\n\u001b[1;32m      2\u001b[0m \u001b[0;32mfrom\u001b[0m \u001b[0msklearn\u001b[0m\u001b[0;34m.\u001b[0m\u001b[0mutils\u001b[0m\u001b[0;34m.\u001b[0m\u001b[0mtesting\u001b[0m \u001b[0;32mimport\u001b[0m \u001b[0mset_random_state\u001b[0m\u001b[0;34m,\u001b[0m \u001b[0massert_array_equal\u001b[0m\u001b[0;34m,\u001b[0m \u001b[0massert_raises\u001b[0m\u001b[0;34m,\u001b[0m \u001b[0mcreate_memmap_backed_data\u001b[0m\u001b[0;34m\u001b[0m\u001b[0;34m\u001b[0m\u001b[0m\n\u001b[1;32m      3\u001b[0m \u001b[0;34m\u001b[0m\u001b[0m\n\u001b[0;32m----> 4\u001b[0;31m \u001b[0mcheck_outliers_train\u001b[0m\u001b[0;34m(\u001b[0m\u001b[0;34m'umap'\u001b[0m\u001b[0;34m,\u001b[0m \u001b[0mUMAPOutlierDetection\u001b[0m\u001b[0;34m(\u001b[0m\u001b[0mn_components\u001b[0m\u001b[0;34m=\u001b[0m\u001b[0;36m2\u001b[0m\u001b[0;34m,\u001b[0m \u001b[0mthreshold\u001b[0m\u001b[0;34m=\u001b[0m\u001b[0;36m0.1\u001b[0m\u001b[0;34m,\u001b[0m \u001b[0mvariant\u001b[0m\u001b[0;34m=\u001b[0m\u001b[0;34m'absolute'\u001b[0m\u001b[0;34m)\u001b[0m\u001b[0;34m,\u001b[0m \u001b[0;32mFalse\u001b[0m\u001b[0;34m)\u001b[0m\u001b[0;34m\u001b[0m\u001b[0;34m\u001b[0m\u001b[0m\n\u001b[0m",
      "\u001b[0;32m<ipython-input-39-1b4b860d31c6>\u001b[0m in \u001b[0;36mcheck_outliers_train\u001b[0;34m(name, estimator_orig, readonly_memmap)\u001b[0m\n\u001b[1;32m     33\u001b[0m     \u001b[0mprint\u001b[0m\u001b[0;34m(\u001b[0m\u001b[0mdecision\u001b[0m\u001b[0;34m)\u001b[0m\u001b[0;34m\u001b[0m\u001b[0;34m\u001b[0m\u001b[0m\n\u001b[1;32m     34\u001b[0m     \u001b[0mdec_pred\u001b[0m\u001b[0;34m[\u001b[0m\u001b[0mdec_pred\u001b[0m \u001b[0;34m==\u001b[0m \u001b[0;36m0\u001b[0m\u001b[0;34m]\u001b[0m \u001b[0;34m=\u001b[0m \u001b[0;34m-\u001b[0m\u001b[0;36m1\u001b[0m\u001b[0;34m\u001b[0m\u001b[0;34m\u001b[0m\u001b[0m\n\u001b[0;32m---> 35\u001b[0;31m     \u001b[0massert_array_equal\u001b[0m\u001b[0;34m(\u001b[0m\u001b[0mdec_pred\u001b[0m\u001b[0;34m,\u001b[0m \u001b[0my_pred\u001b[0m\u001b[0;34m)\u001b[0m\u001b[0;34m\u001b[0m\u001b[0;34m\u001b[0m\u001b[0m\n\u001b[0m\u001b[1;32m     36\u001b[0m \u001b[0;34m\u001b[0m\u001b[0m\n\u001b[1;32m     37\u001b[0m     \u001b[0;31m# raises error on malformed input for decision_function\u001b[0m\u001b[0;34m\u001b[0m\u001b[0;34m\u001b[0m\u001b[0;34m\u001b[0m\u001b[0m\n",
      "\u001b[0;32m~/Development/scikit-lego/venv/lib/python3.6/site-packages/numpy/testing/_private/utils.py\u001b[0m in \u001b[0;36massert_array_equal\u001b[0;34m(x, y, err_msg, verbose)\u001b[0m\n\u001b[1;32m    934\u001b[0m     \u001b[0m__tracebackhide__\u001b[0m \u001b[0;34m=\u001b[0m \u001b[0;32mTrue\u001b[0m  \u001b[0;31m# Hide traceback for py.test\u001b[0m\u001b[0;34m\u001b[0m\u001b[0;34m\u001b[0m\u001b[0m\n\u001b[1;32m    935\u001b[0m     assert_array_compare(operator.__eq__, x, y, err_msg=err_msg,\n\u001b[0;32m--> 936\u001b[0;31m                          verbose=verbose, header='Arrays are not equal')\n\u001b[0m\u001b[1;32m    937\u001b[0m \u001b[0;34m\u001b[0m\u001b[0m\n\u001b[1;32m    938\u001b[0m \u001b[0;34m\u001b[0m\u001b[0m\n",
      "\u001b[0;32m~/Development/scikit-lego/venv/lib/python3.6/site-packages/numpy/testing/_private/utils.py\u001b[0m in \u001b[0;36massert_array_compare\u001b[0;34m(comparison, x, y, err_msg, verbose, header, precision, equal_nan, equal_inf)\u001b[0m\n\u001b[1;32m    844\u001b[0m                                 \u001b[0mverbose\u001b[0m\u001b[0;34m=\u001b[0m\u001b[0mverbose\u001b[0m\u001b[0;34m,\u001b[0m \u001b[0mheader\u001b[0m\u001b[0;34m=\u001b[0m\u001b[0mheader\u001b[0m\u001b[0;34m,\u001b[0m\u001b[0;34m\u001b[0m\u001b[0;34m\u001b[0m\u001b[0m\n\u001b[1;32m    845\u001b[0m                                 names=('x', 'y'), precision=precision)\n\u001b[0;32m--> 846\u001b[0;31m             \u001b[0;32mraise\u001b[0m \u001b[0mAssertionError\u001b[0m\u001b[0;34m(\u001b[0m\u001b[0mmsg\u001b[0m\u001b[0;34m)\u001b[0m\u001b[0;34m\u001b[0m\u001b[0;34m\u001b[0m\u001b[0m\n\u001b[0m\u001b[1;32m    847\u001b[0m     \u001b[0;32mexcept\u001b[0m \u001b[0mValueError\u001b[0m\u001b[0;34m:\u001b[0m\u001b[0;34m\u001b[0m\u001b[0;34m\u001b[0m\u001b[0m\n\u001b[1;32m    848\u001b[0m         \u001b[0;32mimport\u001b[0m \u001b[0mtraceback\u001b[0m\u001b[0;34m\u001b[0m\u001b[0;34m\u001b[0m\u001b[0m\n",
      "\u001b[0;31mAssertionError\u001b[0m: \nArrays are not equal\n\nMismatched elements: 4 / 300 (1.33%)\nMax absolute difference: 2\nMax relative difference: 2.\n x: array([-1, -1,  1, -1, -1, -1, -1, -1, -1, -1, -1, -1, -1, -1, -1, -1, -1,\n       -1, -1, -1, -1, -1, -1, -1, -1, -1, -1, -1, -1, -1, -1, -1, -1, -1,\n       -1, -1, -1, -1, -1, -1, -1, -1, -1, -1, -1, -1, -1, -1, -1, -1, -1,...\n y: array([-1, -1, -1, -1, -1, -1, -1, -1, -1, -1,  1, -1, -1, -1, -1, -1, -1,\n       -1, -1, -1, -1, -1, -1, -1, -1, -1, -1, -1, -1, -1, -1, -1, -1, -1,\n       -1, -1, -1, -1, -1, -1, -1, -1, -1, -1, -1, -1, -1, -1, -1, -1, -1,..."
     ]
    }
   ],
   "source": [
    "from sklearn.base import clone \n",
    "from sklearn.utils.testing import set_random_state, assert_array_equal, assert_raises, create_memmap_backed_data\n",
    "\n",
    "check_outliers_train('umap', UMAPOutlierDetection(n_components=2, threshold=0.1, variant='absolute'), False)"
   ]
  },
  {
   "cell_type": "code",
   "execution_count": null,
   "metadata": {},
   "outputs": [],
   "source": []
  }
 ],
 "metadata": {
  "kernelspec": {
   "display_name": "Python 3",
   "language": "python",
   "name": "python3"
  },
  "language_info": {
   "codemirror_mode": {
    "name": "ipython",
    "version": 3
   },
   "file_extension": ".py",
   "mimetype": "text/x-python",
   "name": "python",
   "nbconvert_exporter": "python",
   "pygments_lexer": "ipython3",
   "version": "3.6.8"
  }
 },
 "nbformat": 4,
 "nbformat_minor": 4
}
