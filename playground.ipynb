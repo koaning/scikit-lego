{
 "cells": [
  {
   "cell_type": "code",
   "execution_count": 1,
   "metadata": {},
   "outputs": [],
   "source": [
    "import numpy as np \n"
   ]
  },
  {
   "cell_type": "code",
   "execution_count": 2,
   "metadata": {},
   "outputs": [],
   "source": [
    "features = ['1', '2', '3', '4']\n",
    "selected_features = ['1', '4']"
   ]
  },
  {
   "cell_type": "code",
   "execution_count": 8,
   "metadata": {},
   "outputs": [],
   "source": [
    "features_array = np.array(features)\n",
    "selected_features_array = np.array(selected_features)\n",
    "\n",
    "# Initialize a mask with False values\n",
    "# mask = np.full(len(features), False)\n",
    "\n",
    "# # Find the indices where elements in features match elements in selected_features\n",
    "# indices = np.where(np.isin(features_array, selected_features_array))\n",
    "\n",
    "# # Update the mask at the found indices to True\n",
    "# mask[indices] = True\n",
    "\n",
    "# print(mask)"
   ]
  },
  {
   "cell_type": "code",
   "execution_count": 10,
   "metadata": {},
   "outputs": [],
   "source": [
    "mask = np.isin(features_array, selected_features_array)"
   ]
  },
  {
   "cell_type": "code",
   "execution_count": 11,
   "metadata": {},
   "outputs": [
    {
     "data": {
      "text/plain": [
       "array([ True, False, False,  True])"
      ]
     },
     "execution_count": 11,
     "metadata": {},
     "output_type": "execute_result"
    }
   ],
   "source": [
    "mask"
   ]
  },
  {
   "cell_type": "code",
   "execution_count": null,
   "metadata": {},
   "outputs": [],
   "source": [
    "mrmr = MinimumRelevanceMinimumRedundancy(k=5, relevance_func='c', redundancy_func='f')\n",
    "mrmr = mrmr.fit_tranform(X, y)\n",
    "\n",
    "mrmr.scores_ = []"
   ]
  }
 ],
 "metadata": {
  "kernelspec": {
   "display_name": "venv_scikit-lego",
   "language": "python",
   "name": "python3"
  },
  "language_info": {
   "codemirror_mode": {
    "name": "ipython",
    "version": 3
   },
   "file_extension": ".py",
   "mimetype": "text/x-python",
   "name": "python",
   "nbconvert_exporter": "python",
   "pygments_lexer": "ipython3",
   "version": "3.9.12"
  }
 },
 "nbformat": 4,
 "nbformat_minor": 2
}
