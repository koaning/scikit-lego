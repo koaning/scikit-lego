{
 "cells": [
  {
   "cell_type": "markdown",
   "metadata": {},
   "source": [
    "# Create a transformer that creates time series features\n",
    "\n",
    "**Author:** Sarah Stolle  \n",
    "**Date:** 20-03-2019\n",
    "\n",
    "**Goal:** Create a transformer for the scikit-lego package that can implement automatic feature generation of time-series features that are often of interest. \n",
    "\n",
    "**Prerequisites:** \n",
    "- A pandas data frame that contains a datetime column"
   ]
  },
  {
   "cell_type": "markdown",
   "metadata": {},
   "source": [
    "### Load packages"
   ]
  },
  {
   "cell_type": "code",
   "execution_count": 7,
   "metadata": {},
   "outputs": [],
   "source": [
    "import random\n",
    "import datetime as dt\n",
    "import numpy as np\n",
    "import pandas as pd\n",
    "import plotnine as pn\n",
    "from sklearn.base import BaseEstimator, TransformerMixin\n",
    "from sklego\n"
   ]
  },
  {
   "cell_type": "markdown",
   "metadata": {},
   "source": [
    "### Generate example data frame"
   ]
  },
  {
   "cell_type": "code",
   "execution_count": 119,
   "metadata": {
    "scrolled": true
   },
   "outputs": [
    {
     "data": {
      "text/html": [
       "<div>\n",
       "<style scoped>\n",
       "    .dataframe tbody tr th:only-of-type {\n",
       "        vertical-align: middle;\n",
       "    }\n",
       "\n",
       "    .dataframe tbody tr th {\n",
       "        vertical-align: top;\n",
       "    }\n",
       "\n",
       "    .dataframe thead th {\n",
       "        text-align: right;\n",
       "    }\n",
       "</style>\n",
       "<table border=\"1\" class=\"dataframe\">\n",
       "  <thead>\n",
       "    <tr style=\"text-align: right;\">\n",
       "      <th></th>\n",
       "      <th>date</th>\n",
       "      <th>amount</th>\n",
       "      <th>y</th>\n",
       "    </tr>\n",
       "  </thead>\n",
       "  <tbody>\n",
       "    <tr>\n",
       "      <th>0</th>\n",
       "      <td>2017-04-06 12:11:16.220936</td>\n",
       "      <td>66</td>\n",
       "      <td>1</td>\n",
       "    </tr>\n",
       "    <tr>\n",
       "      <th>2</th>\n",
       "      <td>2018-03-12 03:21:47.469091</td>\n",
       "      <td>42</td>\n",
       "      <td>1</td>\n",
       "    </tr>\n",
       "    <tr>\n",
       "      <th>1</th>\n",
       "      <td>2018-10-01 16:27:54.369271</td>\n",
       "      <td>22</td>\n",
       "      <td>0</td>\n",
       "    </tr>\n",
       "    <tr>\n",
       "      <th>4</th>\n",
       "      <td>2018-11-04 05:49:04.951890</td>\n",
       "      <td>23</td>\n",
       "      <td>0</td>\n",
       "    </tr>\n",
       "    <tr>\n",
       "      <th>3</th>\n",
       "      <td>2019-09-28 15:20:07.702827</td>\n",
       "      <td>36</td>\n",
       "      <td>0</td>\n",
       "    </tr>\n",
       "  </tbody>\n",
       "</table>\n",
       "</div>"
      ],
      "text/plain": [
       "                        date  amount  y\n",
       "0 2017-04-06 12:11:16.220936      66  1\n",
       "2 2018-03-12 03:21:47.469091      42  1\n",
       "1 2018-10-01 16:27:54.369271      22  0\n",
       "4 2018-11-04 05:49:04.951890      23  0\n",
       "3 2019-09-28 15:20:07.702827      36  0"
      ]
     },
     "execution_count": 119,
     "metadata": {},
     "output_type": "execute_result"
    }
   ],
   "source": [
    "random.seed(121)\n",
    "\n",
    "start_date = dt.datetime(2017, 1, 1)\n",
    "end_date = dt.datetime(2019, 12,31)\n",
    "\n",
    "def get_random_date(start_date, end_date):\n",
    "    return start_date + (end_date - start_date) * random.random()\n",
    "\n",
    "n = 5\n",
    "ex_data = pd.DataFrame({\n",
    "    \"date\": [get_random_date(start_date, end_date) for i in np.arange(n)],\n",
    "    \"amount\": [random.randint(0,100) for i in np.arange(n)],\n",
    "    \"y\": [random.randint(0,1) for i in np.arange(n)]\n",
    "}).sort_values(by=\"date\")\n",
    "ex_data.head()"
   ]
  },
  {
   "cell_type": "code",
   "execution_count": 123,
   "metadata": {},
   "outputs": [
    {
     "data": {
      "text/plain": [
       "array([0, 0, 0, 1, 1])"
      ]
     },
     "execution_count": 123,
     "metadata": {},
     "output_type": "execute_result"
    }
   ],
   "source": [
    "np.random.randint(0, 2, 5)"
   ]
  },
  {
   "cell_type": "code",
   "execution_count": 64,
   "metadata": {},
   "outputs": [
    {
     "data": {
      "text/plain": [
       "False"
      ]
     },
     "execution_count": 64,
     "metadata": {},
     "output_type": "execute_result"
    }
   ],
   "source": [
    "isinstance(ex_data['date'], np.datetime64)"
   ]
  },
  {
   "cell_type": "code",
   "execution_count": 15,
   "metadata": {},
   "outputs": [
    {
     "data": {
      "text/plain": [
       "<matplotlib.axes._subplots.AxesSubplot at 0x132aef6d8>"
      ]
     },
     "execution_count": 15,
     "metadata": {},
     "output_type": "execute_result"
    },
    {
     "data": {
      "image/png": "[encoded data removed]",
      "text/plain": [
       "<Figure size 432x288 with 1 Axes>"
      ]
     },
     "metadata": {
      "needs_background": "light"
     },
     "output_type": "display_data"
    }
   ],
   "source": [
    "ex_data.plot(\"date\", \"amount\")"
   ]
  },
  {
   "cell_type": "markdown",
   "metadata": {},
   "source": [
    "### Generate days of the week feature"
   ]
  },
  {
   "cell_type": "code",
   "execution_count": 12,
   "metadata": {},
   "outputs": [],
   "source": [
    "def get_days_of_week(dataf: pd.DataFrame, date_col: str=\"date\"):\n",
    "    \"\"\"\n",
    "    The day of the week with Monday=0, Sunday=6.\n",
    "    \n",
    "    :param dataf: data frame that contains a date column. (type pandas.DataFrame)\n",
    "    :param date_col: name of the date column\n",
    "    :returns pandas.DataFrame with an extra column day_of_week\n",
    "    \"\"\"\n",
    "    \n",
    "    return dataf.assign(day_of_week=lambda d: d[date_col].dt.dayofweek)\n",
    "    "
   ]
  },
  {
   "cell_type": "code",
   "execution_count": 80,
   "metadata": {
    "scrolled": true
   },
   "outputs": [
    {
     "data": {
      "text/html": [
       "<div>\n",
       "<style scoped>\n",
       "    .dataframe tbody tr th:only-of-type {\n",
       "        vertical-align: middle;\n",
       "    }\n",
       "\n",
       "    .dataframe tbody tr th {\n",
       "        vertical-align: top;\n",
       "    }\n",
       "\n",
       "    .dataframe thead th {\n",
       "        text-align: right;\n",
       "    }\n",
       "</style>\n",
       "<table border=\"1\" class=\"dataframe\">\n",
       "  <thead>\n",
       "    <tr style=\"text-align: right;\">\n",
       "      <th></th>\n",
       "      <th>date</th>\n",
       "      <th>amount</th>\n",
       "      <th>y</th>\n",
       "      <th>day_of_week</th>\n",
       "    </tr>\n",
       "  </thead>\n",
       "  <tbody>\n",
       "    <tr>\n",
       "      <th>15</th>\n",
       "      <td>2017-01-27 16:35:12.885618</td>\n",
       "      <td>41</td>\n",
       "      <td>1</td>\n",
       "      <td>4</td>\n",
       "    </tr>\n",
       "    <tr>\n",
       "      <th>0</th>\n",
       "      <td>2017-04-06 12:11:16.220936</td>\n",
       "      <td>29</td>\n",
       "      <td>1</td>\n",
       "      <td>3</td>\n",
       "    </tr>\n",
       "    <tr>\n",
       "      <th>7</th>\n",
       "      <td>2017-11-09 12:49:13.681169</td>\n",
       "      <td>41</td>\n",
       "      <td>1</td>\n",
       "      <td>3</td>\n",
       "    </tr>\n",
       "    <tr>\n",
       "      <th>2</th>\n",
       "      <td>2018-03-12 03:21:47.469091</td>\n",
       "      <td>44</td>\n",
       "      <td>1</td>\n",
       "      <td>0</td>\n",
       "    </tr>\n",
       "    <tr>\n",
       "      <th>9</th>\n",
       "      <td>2018-04-07 19:34:24.664380</td>\n",
       "      <td>82</td>\n",
       "      <td>0</td>\n",
       "      <td>5</td>\n",
       "    </tr>\n",
       "  </tbody>\n",
       "</table>\n",
       "</div>"
      ],
      "text/plain": [
       "                         date  amount  y  day_of_week\n",
       "15 2017-01-27 16:35:12.885618      41  1            4\n",
       "0  2017-04-06 12:11:16.220936      29  1            3\n",
       "7  2017-11-09 12:49:13.681169      41  1            3\n",
       "2  2018-03-12 03:21:47.469091      44  1            0\n",
       "9  2018-04-07 19:34:24.664380      82  0            5"
      ]
     },
     "execution_count": 80,
     "metadata": {},
     "output_type": "execute_result"
    }
   ],
   "source": [
    "ex_data = ex_data.pipe(get_days_of_week)\n",
    "ex_data.head()"
   ]
  },
  {
   "cell_type": "markdown",
   "metadata": {},
   "source": [
    "### Create time-series-feature-adder class"
   ]
  },
  {
   "cell_type": "code",
   "execution_count": 142,
   "metadata": {},
   "outputs": [],
   "source": [
    "class TimeSeriesFeatureAdder(TransformerMixin, BaseEstimator):\n",
    "    \"\"\"\n",
    "    Add common time-series features to data frame in your scikit-learn pipeline. \n",
    "    Currently it return the day of the week. \n",
    "    \n",
    "    :param date_col: name of the date column (default= 'date')\n",
    "    :param make_dummies: boolean whether the days of week will be added as dummy variables or as one column (default= false)\n",
    "    \n",
    "    \"\"\"\n",
    "    \n",
    "    def __init__(self, date_col=\"date\", make_dummies=False):\n",
    "        self.date_col = date_col\n",
    "        self.make_dummies = make_dummies\n",
    "        \n",
    "    def fit(self, X, y):\n",
    "        _ = X.get(self.date_col, f\"Date column {self.date_col} doesn't exist. Please provide another one.\")\n",
    "        if isinstance(_, str):\n",
    "            print (_)\n",
    "\n",
    "#         TODO: check that column is date time, below doesn't work   \n",
    "#         assert isinstance(X[date_col], np.datetime64)\n",
    "        return self\n",
    "    \n",
    "    def transform(self, X, y):\n",
    "        X = self._get_days_of_week(X, self.date_col)\n",
    "        \n",
    "        return X\n",
    "    \n",
    "    \n",
    "    def _get_days_of_week(self, dataf: pd.DataFrame, date_col: str=\"date\"):\n",
    "        \"\"\"\n",
    "        The day of the week with Monday=0, Sunday=6.\n",
    "\n",
    "        :param dataf: data frame that contains a date column. (type pandas.DataFrame)\n",
    "        :returns pandas.DataFrame with an extra column day_of_week\n",
    "        \"\"\"\n",
    "        df_with_days_of_week = dataf.assign(day_of_week=lambda d: d[date_col].dt.dayofweek)\n",
    "        if self.make_dummies:\n",
    "            df_with_days_of_week = pd.get_dummies(df_with_days_of_week, columns=[\"day_of_week\"], prefix=\"day\", \n",
    "                                                  dtype=int)\n",
    "        \n",
    "        return df_with_days_of_week\n"
   ]
  },
  {
   "cell_type": "code",
   "execution_count": 133,
   "metadata": {},
   "outputs": [
    {
     "data": {
      "text/html": [
       "<div>\n",
       "<style scoped>\n",
       "    .dataframe tbody tr th:only-of-type {\n",
       "        vertical-align: middle;\n",
       "    }\n",
       "\n",
       "    .dataframe tbody tr th {\n",
       "        vertical-align: top;\n",
       "    }\n",
       "\n",
       "    .dataframe thead th {\n",
       "        text-align: right;\n",
       "    }\n",
       "</style>\n",
       "<table border=\"1\" class=\"dataframe\">\n",
       "  <thead>\n",
       "    <tr style=\"text-align: right;\">\n",
       "      <th></th>\n",
       "      <th>date</th>\n",
       "      <th>amount</th>\n",
       "      <th>y</th>\n",
       "    </tr>\n",
       "  </thead>\n",
       "  <tbody>\n",
       "    <tr>\n",
       "      <th>0</th>\n",
       "      <td>2019-01-01</td>\n",
       "      <td>85</td>\n",
       "      <td>0</td>\n",
       "    </tr>\n",
       "    <tr>\n",
       "      <th>1</th>\n",
       "      <td>2019-01-03</td>\n",
       "      <td>61</td>\n",
       "      <td>1</td>\n",
       "    </tr>\n",
       "    <tr>\n",
       "      <th>2</th>\n",
       "      <td>2019-01-05</td>\n",
       "      <td>38</td>\n",
       "      <td>1</td>\n",
       "    </tr>\n",
       "    <tr>\n",
       "      <th>3</th>\n",
       "      <td>2019-01-07</td>\n",
       "      <td>74</td>\n",
       "      <td>0</td>\n",
       "    </tr>\n",
       "    <tr>\n",
       "      <th>4</th>\n",
       "      <td>2019-01-09</td>\n",
       "      <td>18</td>\n",
       "      <td>0</td>\n",
       "    </tr>\n",
       "  </tbody>\n",
       "</table>\n",
       "</div>"
      ],
      "text/plain": [
       "        date  amount  y\n",
       "0 2019-01-01      85  0\n",
       "1 2019-01-03      61  1\n",
       "2 2019-01-05      38  1\n",
       "3 2019-01-07      74  0\n",
       "4 2019-01-09      18  0"
      ]
     },
     "execution_count": 133,
     "metadata": {},
     "output_type": "execute_result"
    }
   ],
   "source": [
    "start_date = dt.datetime(2019, 1, 1)\n",
    "end_date = dt.datetime(2019, 1, 10)\n",
    "\n",
    "ex_data = pd.DataFrame({\n",
    "    \"date\": pd.date_range(start_date, end_date, freq=\"2D\"),\n",
    "    \"amount\": [85, 61, 38, 74, 18],\n",
    "    \"y\": [0, 1, 1, 0, 0]\n",
    "}).sort_values(by=\"date\")\n",
    "ex_data"
   ]
  },
  {
   "cell_type": "code",
   "execution_count": 143,
   "metadata": {},
   "outputs": [
    {
     "data": {
      "text/html": [
       "<div>\n",
       "<style scoped>\n",
       "    .dataframe tbody tr th:only-of-type {\n",
       "        vertical-align: middle;\n",
       "    }\n",
       "\n",
       "    .dataframe tbody tr th {\n",
       "        vertical-align: top;\n",
       "    }\n",
       "\n",
       "    .dataframe thead th {\n",
       "        text-align: right;\n",
       "    }\n",
       "</style>\n",
       "<table border=\"1\" class=\"dataframe\">\n",
       "  <thead>\n",
       "    <tr style=\"text-align: right;\">\n",
       "      <th></th>\n",
       "      <th>date</th>\n",
       "      <th>amount</th>\n",
       "      <th>day_0</th>\n",
       "      <th>day_1</th>\n",
       "      <th>day_2</th>\n",
       "      <th>day_3</th>\n",
       "      <th>day_5</th>\n",
       "    </tr>\n",
       "  </thead>\n",
       "  <tbody>\n",
       "    <tr>\n",
       "      <th>0</th>\n",
       "      <td>2019-01-01</td>\n",
       "      <td>85</td>\n",
       "      <td>0</td>\n",
       "      <td>1</td>\n",
       "      <td>0</td>\n",
       "      <td>0</td>\n",
       "      <td>0</td>\n",
       "    </tr>\n",
       "    <tr>\n",
       "      <th>1</th>\n",
       "      <td>2019-01-03</td>\n",
       "      <td>61</td>\n",
       "      <td>0</td>\n",
       "      <td>0</td>\n",
       "      <td>0</td>\n",
       "      <td>1</td>\n",
       "      <td>0</td>\n",
       "    </tr>\n",
       "    <tr>\n",
       "      <th>2</th>\n",
       "      <td>2019-01-05</td>\n",
       "      <td>38</td>\n",
       "      <td>0</td>\n",
       "      <td>0</td>\n",
       "      <td>0</td>\n",
       "      <td>0</td>\n",
       "      <td>1</td>\n",
       "    </tr>\n",
       "    <tr>\n",
       "      <th>3</th>\n",
       "      <td>2019-01-07</td>\n",
       "      <td>74</td>\n",
       "      <td>1</td>\n",
       "      <td>0</td>\n",
       "      <td>0</td>\n",
       "      <td>0</td>\n",
       "      <td>0</td>\n",
       "    </tr>\n",
       "    <tr>\n",
       "      <th>4</th>\n",
       "      <td>2019-01-09</td>\n",
       "      <td>18</td>\n",
       "      <td>0</td>\n",
       "      <td>0</td>\n",
       "      <td>1</td>\n",
       "      <td>0</td>\n",
       "      <td>0</td>\n",
       "    </tr>\n",
       "  </tbody>\n",
       "</table>\n",
       "</div>"
      ],
      "text/plain": [
       "        date  amount  day_0  day_1  day_2  day_3  day_5\n",
       "0 2019-01-01      85      0      1      0      0      0\n",
       "1 2019-01-03      61      0      0      0      1      0\n",
       "2 2019-01-05      38      0      0      0      0      1\n",
       "3 2019-01-07      74      1      0      0      0      0\n",
       "4 2019-01-09      18      0      0      1      0      0"
      ]
     },
     "execution_count": 143,
     "metadata": {},
     "output_type": "execute_result"
    }
   ],
   "source": [
    "y = ex_data[\"y\"]\n",
    "X = ex_data.loc[:, ex_data.columns.isin([\"date\", \"amount\"])].reset_index(drop=True)\n",
    "tsfa = TimeSeriesFeatureAdder(make_dummies=True)\n",
    "tsfa.fit(X,y)\n",
    "result= tsfa.transform(X,y)\n",
    "result"
   ]
  },
  {
   "cell_type": "code",
   "execution_count": 144,
   "metadata": {},
   "outputs": [],
   "source": [
    "expected_result = (X\n",
    "                   .assign(\n",
    "                    day_0=[0, 0, 0, 1, 0],\n",
    "                    day_1=[1, 0, 0, 0, 0],\n",
    "                    day_2=[0, 0, 0, 0, 1],\n",
    "                    day_3=[0, 1, 0, 0, 0],\n",
    "                    day_5=[0, 0, 1, 0, 0]))"
   ]
  },
  {
   "cell_type": "code",
   "execution_count": 145,
   "metadata": {},
   "outputs": [
    {
     "data": {
      "text/plain": [
       "date      datetime64[ns]\n",
       "amount             int64\n",
       "day_0              int64\n",
       "day_1              int64\n",
       "day_2              int64\n",
       "day_3              int64\n",
       "day_5              int64\n",
       "dtype: object"
      ]
     },
     "execution_count": 145,
     "metadata": {},
     "output_type": "execute_result"
    }
   ],
   "source": [
    "result.dtypes"
   ]
  },
  {
   "cell_type": "code",
   "execution_count": 146,
   "metadata": {},
   "outputs": [],
   "source": [
    "pd.testing.assert_frame_equal(result, expected_result)"
   ]
  }
 ],
 "metadata": {
  "kernelspec": {
   "display_name": "Python 3",
   "language": "python",
   "name": "python3"
  },
  "language_info": {
   "codemirror_mode": {
    "name": "ipython",
    "version": 3
   },
   "file_extension": ".py",
   "mimetype": "text/x-python",
   "name": "python",
   "nbconvert_exporter": "python",
   "pygments_lexer": "ipython3",
   "version": "3.7.2"
  }
 },
 "nbformat": 4,
 "nbformat_minor": 2
}
