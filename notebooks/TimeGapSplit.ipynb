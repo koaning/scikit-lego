{
 "cells": [
  {
   "cell_type": "code",
   "execution_count": 1,
   "metadata": {
    "ExecuteTime": {
     "end_time": "2019-04-01T12:59:45.053997Z",
     "start_time": "2019-04-01T12:59:44.405540Z"
    }
   },
   "outputs": [],
   "source": [
    "%load_ext autoreload\n",
    "%autoreload 2\n",
    "%matplotlib inline"
   ]
  },
  {
   "cell_type": "code",
   "execution_count": 2,
   "metadata": {
    "ExecuteTime": {
     "end_time": "2019-04-01T12:59:45.378389Z",
     "start_time": "2019-04-01T12:59:45.056523Z"
    }
   },
   "outputs": [],
   "source": [
    "import pandas as pd\n",
    "import numpy as np\n",
    "import matplotlib.pyplot as plt\n",
    "from datetime import timedelta"
   ]
  },
  {
   "cell_type": "code",
   "execution_count": 3,
   "metadata": {
    "ExecuteTime": {
     "end_time": "2019-04-01T13:59:03.192464Z",
     "start_time": "2019-04-01T13:59:03.109303Z"
    }
   },
   "outputs": [],
   "source": [
    "from sklego.model_selection import TimeGapSplit"
   ]
  },
  {
   "cell_type": "code",
   "execution_count": 4,
   "metadata": {
    "ExecuteTime": {
     "end_time": "2019-04-01T12:59:45.457016Z",
     "start_time": "2019-04-01T12:59:45.426899Z"
    }
   },
   "outputs": [],
   "source": [
    "target_set_pd = pd.DataFrame(np.random.randint(0, 30, size=(30, 4)), columns=list('ABCy'))\n",
    "target_set_pd['date'] = pd.date_range(start='1/1/2018', end='1/30/2018')[::-1]"
   ]
  },
  {
   "cell_type": "code",
   "execution_count": 5,
   "metadata": {
    "ExecuteTime": {
     "end_time": "2019-04-01T12:59:45.486001Z",
     "start_time": "2019-04-01T12:59:45.459063Z"
    }
   },
   "outputs": [],
   "source": [
    "target_set_pd = target_set_pd.sort_values('date')"
   ]
  },
  {
   "cell_type": "code",
   "execution_count": 6,
   "metadata": {
    "ExecuteTime": {
     "end_time": "2019-04-01T12:59:45.607666Z",
     "start_time": "2019-04-01T12:59:45.488166Z"
    }
   },
   "outputs": [
    {
     "data": {
      "text/html": [
       "<div>\n",
       "<style scoped>\n",
       "    .dataframe tbody tr th:only-of-type {\n",
       "        vertical-align: middle;\n",
       "    }\n",
       "\n",
       "    .dataframe tbody tr th {\n",
       "        vertical-align: top;\n",
       "    }\n",
       "\n",
       "    .dataframe thead th {\n",
       "        text-align: right;\n",
       "    }\n",
       "</style>\n",
       "<table border=\"1\" class=\"dataframe\">\n",
       "  <thead>\n",
       "    <tr style=\"text-align: right;\">\n",
       "      <th></th>\n",
       "      <th>A</th>\n",
       "      <th>B</th>\n",
       "      <th>C</th>\n",
       "      <th>y</th>\n",
       "      <th>date</th>\n",
       "    </tr>\n",
       "  </thead>\n",
       "  <tbody>\n",
       "    <tr>\n",
       "      <th>29</th>\n",
       "      <td>10</td>\n",
       "      <td>23</td>\n",
       "      <td>7</td>\n",
       "      <td>15</td>\n",
       "      <td>2018-01-01</td>\n",
       "    </tr>\n",
       "    <tr>\n",
       "      <th>28</th>\n",
       "      <td>10</td>\n",
       "      <td>15</td>\n",
       "      <td>25</td>\n",
       "      <td>27</td>\n",
       "      <td>2018-01-02</td>\n",
       "    </tr>\n",
       "    <tr>\n",
       "      <th>27</th>\n",
       "      <td>22</td>\n",
       "      <td>28</td>\n",
       "      <td>10</td>\n",
       "      <td>0</td>\n",
       "      <td>2018-01-03</td>\n",
       "    </tr>\n",
       "    <tr>\n",
       "      <th>26</th>\n",
       "      <td>18</td>\n",
       "      <td>11</td>\n",
       "      <td>17</td>\n",
       "      <td>6</td>\n",
       "      <td>2018-01-04</td>\n",
       "    </tr>\n",
       "    <tr>\n",
       "      <th>25</th>\n",
       "      <td>3</td>\n",
       "      <td>5</td>\n",
       "      <td>11</td>\n",
       "      <td>2</td>\n",
       "      <td>2018-01-05</td>\n",
       "    </tr>\n",
       "  </tbody>\n",
       "</table>\n",
       "</div>"
      ],
      "text/plain": [
       "     A   B   C   y       date\n",
       "29  10  23   7  15 2018-01-01\n",
       "28  10  15  25  27 2018-01-02\n",
       "27  22  28  10   0 2018-01-03\n",
       "26  18  11  17   6 2018-01-04\n",
       "25   3   5  11   2 2018-01-05"
      ]
     },
     "execution_count": 6,
     "metadata": {},
     "output_type": "execute_result"
    }
   ],
   "source": [
    "target_set_pd.head()"
   ]
  },
  {
   "cell_type": "code",
   "execution_count": 7,
   "metadata": {
    "ExecuteTime": {
     "end_time": "2019-04-01T12:59:45.643520Z",
     "start_time": "2019-04-01T12:59:45.610331Z"
    }
   },
   "outputs": [],
   "source": [
    "train = target_set_pd.head(25)"
   ]
  },
  {
   "cell_type": "code",
   "execution_count": 8,
   "metadata": {
    "ExecuteTime": {
     "end_time": "2019-04-01T12:59:45.673480Z",
     "start_time": "2019-04-01T12:59:45.645738Z"
    }
   },
   "outputs": [],
   "source": [
    "X_train = train[['A', 'B', 'C']]\n",
    "y_train = train['y']"
   ]
  },
  {
   "cell_type": "code",
   "execution_count": 9,
   "metadata": {
    "ExecuteTime": {
     "end_time": "2019-04-01T12:59:45.824939Z",
     "start_time": "2019-04-01T12:59:45.675463Z"
    }
   },
   "outputs": [
    {
     "name": "stdout",
     "output_type": "stream",
     "text": [
      "Nbr folds: 6\n",
      "\n",
      "Train:\n",
      "4 unique days, 3 days 00:00:00, nbr_samples: 4\n",
      "2018-01-01 00:00:00\n",
      "2018-01-04 00:00:00\n",
      "Valid:\n",
      "3 unique days, 2 days 00:00:00, nbr_samples: 3\n",
      "2018-01-06 00:00:00\n",
      "2018-01-08 00:00:00\n",
      "\n",
      "Train:\n",
      "4 unique days, 3 days 00:00:00, nbr_samples: 4\n",
      "2018-01-04 00:00:00\n",
      "2018-01-07 00:00:00\n",
      "Valid:\n",
      "3 unique days, 2 days 00:00:00, nbr_samples: 3\n",
      "2018-01-09 00:00:00\n",
      "2018-01-11 00:00:00\n",
      "\n",
      "Train:\n",
      "4 unique days, 3 days 00:00:00, nbr_samples: 4\n",
      "2018-01-07 00:00:00\n",
      "2018-01-10 00:00:00\n",
      "Valid:\n",
      "3 unique days, 2 days 00:00:00, nbr_samples: 3\n",
      "2018-01-12 00:00:00\n",
      "2018-01-14 00:00:00\n",
      "\n",
      "Train:\n",
      "4 unique days, 3 days 00:00:00, nbr_samples: 4\n",
      "2018-01-10 00:00:00\n",
      "2018-01-13 00:00:00\n",
      "Valid:\n",
      "3 unique days, 2 days 00:00:00, nbr_samples: 3\n",
      "2018-01-15 00:00:00\n",
      "2018-01-17 00:00:00\n",
      "\n",
      "Train:\n",
      "4 unique days, 3 days 00:00:00, nbr_samples: 4\n",
      "2018-01-13 00:00:00\n",
      "2018-01-16 00:00:00\n",
      "Valid:\n",
      "3 unique days, 2 days 00:00:00, nbr_samples: 3\n",
      "2018-01-18 00:00:00\n",
      "2018-01-20 00:00:00\n",
      "\n",
      "Train:\n",
      "4 unique days, 3 days 00:00:00, nbr_samples: 4\n",
      "2018-01-16 00:00:00\n",
      "2018-01-19 00:00:00\n",
      "Valid:\n",
      "3 unique days, 2 days 00:00:00, nbr_samples: 3\n",
      "2018-01-21 00:00:00\n",
      "2018-01-23 00:00:00\n",
      "\n"
     ]
    }
   ],
   "source": [
    "cv = TimeGapSplit(df=target_set_pd, date_col='date',\n",
    "                           train_duration=timedelta(days=5),\n",
    "                           valid_duration=timedelta(days=3),\n",
    "                           gap_duration=timedelta(days=1))\n",
    "def printSplitInfo(X, indicies, org_pd):\n",
    "    mindate = org_pd.loc[X.iloc[indicies].index]['date'].min()\n",
    "    maxdate = org_pd.loc[X.iloc[indicies].index]['date'].max()\n",
    "    dates = org_pd[(org_pd['date'] >= mindate) & (org_pd['date'] <= maxdate)]['date']\n",
    "    print(\"{} unique days, {}, nbr_samples: {}\".format(\n",
    "        len(dates.unique()),\n",
    "        pd.to_datetime(maxdate, format='%Y%m%d') - pd.to_datetime(mindate, format='%Y%m%d'),\n",
    "        len(indicies)))\n",
    "    print(mindate)\n",
    "    print(maxdate)\n",
    "\n",
    "print(\"Nbr folds: {}\\n\".format(len(list(cv.split(X_train, y_train)))))\n",
    "for i in cv.split(X_train, y_train):\n",
    "    print(\"Train:\")\n",
    "    printSplitInfo(X_train, i[0], target_set_pd)\n",
    "    print(\"Valid:\")\n",
    "    printSplitInfo(X_train, i[1], target_set_pd)\n",
    "    print()"
   ]
  },
  {
   "cell_type": "code",
   "execution_count": 10,
   "metadata": {
    "ExecuteTime": {
     "end_time": "2019-04-01T12:59:46.521386Z",
     "start_time": "2019-04-01T12:59:45.828272Z"
    }
   },
   "outputs": [
    {
     "data": {
      "text/html": [
       "<script type=\"text/javascript\">window.PlotlyConfig = {MathJaxConfig: 'local'};</script><script type=\"text/javascript\">if (window.MathJax) {MathJax.Hub.Config({SVG: {font: \"STIX-Web\"}});}</script><script>requirejs.config({paths: { 'plotly': ['https://cdn.plot.ly/plotly-latest.min']},});if(!window._Plotly) {require(['plotly'],function(plotly) {window._Plotly=plotly;});}</script>"
      ],
      "text/vnd.plotly.v1+html": [
       "<script type=\"text/javascript\">window.PlotlyConfig = {MathJaxConfig: 'local'};</script><script type=\"text/javascript\">if (window.MathJax) {MathJax.Hub.Config({SVG: {font: \"STIX-Web\"}});}</script><script>requirejs.config({paths: { 'plotly': ['https://cdn.plot.ly/plotly-latest.min']},});if(!window._Plotly) {require(['plotly'],function(plotly) {window._Plotly=plotly;});}</script>"
      ]
     },
     "metadata": {},
     "output_type": "display_data"
    }
   ],
   "source": [
    "import plotly.offline as py\n",
    "import plotly.figure_factory as ff\n",
    "py.init_notebook_mode(connected=True)\n"
   ]
  },
  {
   "cell_type": "code",
   "execution_count": 11,
   "metadata": {
    "ExecuteTime": {
     "end_time": "2019-04-01T12:59:46.642457Z",
     "start_time": "2019-04-01T12:59:46.523745Z"
    }
   },
   "outputs": [
    {
     "data": {
      "application/vnd.plotly.v1+json": {
       "config": {
        "linkText": "Export to plot.ly",
        "plotlyServerURL": "https://plot.ly",
        "showLink": false
       },
       "data": [
        {
         "marker": {
          "color": "white"
         },
         "name": "",
         "showlegend": false,
         "type": "scatter",
         "uid": "053e21b7-05d9-48de-86a1-649617e0c578",
         "x": [
          "2018-01-01",
          "2018-01-04 23:59:00"
         ],
         "y": [
          5,
          5
         ]
        },
        {
         "marker": {
          "color": "white"
         },
         "name": "",
         "showlegend": false,
         "type": "scatter",
         "uid": "bc7531cf-9e51-4391-82c8-c30e41d03a54",
         "x": [
          "2018-01-04 23:59:00",
          "2018-01-06"
         ],
         "y": [
          5,
          5
         ]
        },
        {
         "marker": {
          "color": "white"
         },
         "name": "",
         "showlegend": false,
         "type": "scatter",
         "uid": "1c3f5083-aab0-4316-8adb-b21c0ea9a82e",
         "x": [
          "2018-01-06",
          "2018-01-08 23:59:00"
         ],
         "y": [
          5,
          5
         ]
        },
        {
         "marker": {
          "color": "white"
         },
         "name": "",
         "showlegend": false,
         "type": "scatter",
         "uid": "baa7f5b2-6cd3-48a3-993b-6891a6c2ec47",
         "x": [
          "2018-01-04",
          "2018-01-07 23:59:00"
         ],
         "y": [
          4,
          4
         ]
        },
        {
         "marker": {
          "color": "white"
         },
         "name": "",
         "showlegend": false,
         "type": "scatter",
         "uid": "620ac26c-c86b-4524-bb04-4aa88973da82",
         "x": [
          "2018-01-07 23:59:00",
          "2018-01-09"
         ],
         "y": [
          4,
          4
         ]
        },
        {
         "marker": {
          "color": "white"
         },
         "name": "",
         "showlegend": false,
         "type": "scatter",
         "uid": "0e087cd0-808a-41a2-b88c-dbc01f92d4bd",
         "x": [
          "2018-01-09",
          "2018-01-11 23:59:00"
         ],
         "y": [
          4,
          4
         ]
        },
        {
         "marker": {
          "color": "white"
         },
         "name": "",
         "showlegend": false,
         "type": "scatter",
         "uid": "70dcfa5e-1a2f-4594-bab6-e4416face06c",
         "x": [
          "2018-01-07",
          "2018-01-10 23:59:00"
         ],
         "y": [
          3,
          3
         ]
        },
        {
         "marker": {
          "color": "white"
         },
         "name": "",
         "showlegend": false,
         "type": "scatter",
         "uid": "80f57348-2974-4411-820e-b0106e445257",
         "x": [
          "2018-01-10 23:59:00",
          "2018-01-12"
         ],
         "y": [
          3,
          3
         ]
        },
        {
         "marker": {
          "color": "white"
         },
         "name": "",
         "showlegend": false,
         "type": "scatter",
         "uid": "900a1a40-727a-49c4-a90b-e62ae166edc8",
         "x": [
          "2018-01-12",
          "2018-01-14 23:59:00"
         ],
         "y": [
          3,
          3
         ]
        },
        {
         "marker": {
          "color": "white"
         },
         "name": "",
         "showlegend": false,
         "type": "scatter",
         "uid": "bd628247-c3fd-40e7-8b6a-a4d650e2773e",
         "x": [
          "2018-01-10",
          "2018-01-13 23:59:00"
         ],
         "y": [
          2,
          2
         ]
        },
        {
         "marker": {
          "color": "white"
         },
         "name": "",
         "showlegend": false,
         "type": "scatter",
         "uid": "113be96c-b1a9-4c4d-b9d7-4199ecacb5fd",
         "x": [
          "2018-01-13 23:59:00",
          "2018-01-15"
         ],
         "y": [
          2,
          2
         ]
        },
        {
         "marker": {
          "color": "white"
         },
         "name": "",
         "showlegend": false,
         "type": "scatter",
         "uid": "79116b51-01ff-432b-b9aa-5028bf47e718",
         "x": [
          "2018-01-15",
          "2018-01-17 23:59:00"
         ],
         "y": [
          2,
          2
         ]
        },
        {
         "marker": {
          "color": "white"
         },
         "name": "",
         "showlegend": false,
         "type": "scatter",
         "uid": "fe1bac4c-9ba7-4954-bda0-c4e0c1a52d86",
         "x": [
          "2018-01-13",
          "2018-01-16 23:59:00"
         ],
         "y": [
          1,
          1
         ]
        },
        {
         "marker": {
          "color": "white"
         },
         "name": "",
         "showlegend": false,
         "type": "scatter",
         "uid": "1b5e31e2-d984-47c2-a06a-aada0c96ff02",
         "x": [
          "2018-01-16 23:59:00",
          "2018-01-18"
         ],
         "y": [
          1,
          1
         ]
        },
        {
         "marker": {
          "color": "white"
         },
         "name": "",
         "showlegend": false,
         "type": "scatter",
         "uid": "6ccf95af-99b4-43cd-9393-e9a471b1bcf9",
         "x": [
          "2018-01-18",
          "2018-01-20 23:59:00"
         ],
         "y": [
          1,
          1
         ]
        },
        {
         "marker": {
          "color": "white"
         },
         "name": "",
         "showlegend": false,
         "type": "scatter",
         "uid": "05d94ee9-05b7-4106-b98c-b0ce2a595b5c",
         "x": [
          "2018-01-16",
          "2018-01-19 23:59:00"
         ],
         "y": [
          0,
          0
         ]
        },
        {
         "marker": {
          "color": "white"
         },
         "name": "",
         "showlegend": false,
         "type": "scatter",
         "uid": "63c6a210-2561-4d9e-9e17-70af7a423308",
         "x": [
          "2018-01-19 23:59:00",
          "2018-01-21"
         ],
         "y": [
          0,
          0
         ]
        },
        {
         "marker": {
          "color": "white"
         },
         "name": "",
         "showlegend": false,
         "type": "scatter",
         "uid": "19bf9da3-b6ff-43dd-ad58-47523529a11e",
         "x": [
          "2018-01-21",
          "2018-01-23 23:59:00"
         ],
         "y": [
          0,
          0
         ]
        }
       ],
       "layout": {
        "annotations": [
         {
          "font": {
           "color": "white"
          },
          "showarrow": false,
          "text": "Train",
          "x": "2018-01-01",
          "xanchor": "left",
          "y": 5
         },
         {
          "font": {
           "color": "white"
          },
          "showarrow": false,
          "text": "Gap",
          "x": "2018-01-04 23:59:00",
          "xanchor": "left",
          "y": 5
         },
         {
          "font": {
           "color": "white"
          },
          "showarrow": false,
          "text": "Valid",
          "x": "2018-01-06",
          "xanchor": "left",
          "y": 5
         },
         {
          "font": {
           "color": "white"
          },
          "showarrow": false,
          "text": "Train",
          "x": "2018-01-04",
          "xanchor": "left",
          "y": 4
         },
         {
          "font": {
           "color": "white"
          },
          "showarrow": false,
          "text": "Gap",
          "x": "2018-01-07 23:59:00",
          "xanchor": "left",
          "y": 4
         },
         {
          "font": {
           "color": "white"
          },
          "showarrow": false,
          "text": "Valid",
          "x": "2018-01-09",
          "xanchor": "left",
          "y": 4
         },
         {
          "font": {
           "color": "white"
          },
          "showarrow": false,
          "text": "Train",
          "x": "2018-01-07",
          "xanchor": "left",
          "y": 3
         },
         {
          "font": {
           "color": "white"
          },
          "showarrow": false,
          "text": "Gap",
          "x": "2018-01-10 23:59:00",
          "xanchor": "left",
          "y": 3
         },
         {
          "font": {
           "color": "white"
          },
          "showarrow": false,
          "text": "Valid",
          "x": "2018-01-12",
          "xanchor": "left",
          "y": 3
         },
         {
          "font": {
           "color": "white"
          },
          "showarrow": false,
          "text": "Train",
          "x": "2018-01-10",
          "xanchor": "left",
          "y": 2
         },
         {
          "font": {
           "color": "white"
          },
          "showarrow": false,
          "text": "Gap",
          "x": "2018-01-13 23:59:00",
          "xanchor": "left",
          "y": 2
         },
         {
          "font": {
           "color": "white"
          },
          "showarrow": false,
          "text": "Valid",
          "x": "2018-01-15",
          "xanchor": "left",
          "y": 2
         },
         {
          "font": {
           "color": "white"
          },
          "showarrow": false,
          "text": "Train",
          "x": "2018-01-13",
          "xanchor": "left",
          "y": 1
         },
         {
          "font": {
           "color": "white"
          },
          "showarrow": false,
          "text": "Gap",
          "x": "2018-01-16 23:59:00",
          "xanchor": "left",
          "y": 1
         },
         {
          "font": {
           "color": "white"
          },
          "showarrow": false,
          "text": "Valid",
          "x": "2018-01-18",
          "xanchor": "left",
          "y": 1
         },
         {
          "font": {
           "color": "white"
          },
          "showarrow": false,
          "text": "Train",
          "x": "2018-01-16",
          "xanchor": "left",
          "y": 0
         },
         {
          "font": {
           "color": "white"
          },
          "showarrow": false,
          "text": "Gap",
          "x": "2018-01-19 23:59:00",
          "xanchor": "left",
          "y": 0
         },
         {
          "font": {
           "color": "white"
          },
          "showarrow": false,
          "text": "Valid",
          "x": "2018-01-21",
          "xanchor": "left",
          "y": 0
         }
        ],
        "height": 600,
        "hovermode": "closest",
        "shapes": [
         {
          "fillcolor": "rgb(37, 121, 178)",
          "line": {
           "width": 0
          },
          "opacity": 1,
          "type": "rect",
          "x0": "2018-01-01",
          "x1": "2018-01-04 23:59:00",
          "xref": "x",
          "y0": 4.8,
          "y1": 5.2,
          "yref": "y"
         },
         {
          "fillcolor": "rgb(169, 169, 169)",
          "line": {
           "width": 0
          },
          "opacity": 1,
          "type": "rect",
          "x0": "2018-01-04 23:59:00",
          "x1": "2018-01-06",
          "xref": "x",
          "y0": 4.8,
          "y1": 5.2,
          "yref": "y"
         },
         {
          "fillcolor": "rgb(242, 121, 33)",
          "line": {
           "width": 0
          },
          "opacity": 1,
          "type": "rect",
          "x0": "2018-01-06",
          "x1": "2018-01-08 23:59:00",
          "xref": "x",
          "y0": 4.8,
          "y1": 5.2,
          "yref": "y"
         },
         {
          "fillcolor": "rgb(37, 121, 178)",
          "line": {
           "width": 0
          },
          "opacity": 1,
          "type": "rect",
          "x0": "2018-01-04",
          "x1": "2018-01-07 23:59:00",
          "xref": "x",
          "y0": 3.8,
          "y1": 4.2,
          "yref": "y"
         },
         {
          "fillcolor": "rgb(169, 169, 169)",
          "line": {
           "width": 0
          },
          "opacity": 1,
          "type": "rect",
          "x0": "2018-01-07 23:59:00",
          "x1": "2018-01-09",
          "xref": "x",
          "y0": 3.8,
          "y1": 4.2,
          "yref": "y"
         },
         {
          "fillcolor": "rgb(242, 121, 33)",
          "line": {
           "width": 0
          },
          "opacity": 1,
          "type": "rect",
          "x0": "2018-01-09",
          "x1": "2018-01-11 23:59:00",
          "xref": "x",
          "y0": 3.8,
          "y1": 4.2,
          "yref": "y"
         },
         {
          "fillcolor": "rgb(37, 121, 178)",
          "line": {
           "width": 0
          },
          "opacity": 1,
          "type": "rect",
          "x0": "2018-01-07",
          "x1": "2018-01-10 23:59:00",
          "xref": "x",
          "y0": 2.8,
          "y1": 3.2,
          "yref": "y"
         },
         {
          "fillcolor": "rgb(169, 169, 169)",
          "line": {
           "width": 0
          },
          "opacity": 1,
          "type": "rect",
          "x0": "2018-01-10 23:59:00",
          "x1": "2018-01-12",
          "xref": "x",
          "y0": 2.8,
          "y1": 3.2,
          "yref": "y"
         },
         {
          "fillcolor": "rgb(242, 121, 33)",
          "line": {
           "width": 0
          },
          "opacity": 1,
          "type": "rect",
          "x0": "2018-01-12",
          "x1": "2018-01-14 23:59:00",
          "xref": "x",
          "y0": 2.8,
          "y1": 3.2,
          "yref": "y"
         },
         {
          "fillcolor": "rgb(37, 121, 178)",
          "line": {
           "width": 0
          },
          "opacity": 1,
          "type": "rect",
          "x0": "2018-01-10",
          "x1": "2018-01-13 23:59:00",
          "xref": "x",
          "y0": 1.8,
          "y1": 2.2,
          "yref": "y"
         },
         {
          "fillcolor": "rgb(169, 169, 169)",
          "line": {
           "width": 0
          },
          "opacity": 1,
          "type": "rect",
          "x0": "2018-01-13 23:59:00",
          "x1": "2018-01-15",
          "xref": "x",
          "y0": 1.8,
          "y1": 2.2,
          "yref": "y"
         },
         {
          "fillcolor": "rgb(242, 121, 33)",
          "line": {
           "width": 0
          },
          "opacity": 1,
          "type": "rect",
          "x0": "2018-01-15",
          "x1": "2018-01-17 23:59:00",
          "xref": "x",
          "y0": 1.8,
          "y1": 2.2,
          "yref": "y"
         },
         {
          "fillcolor": "rgb(37, 121, 178)",
          "line": {
           "width": 0
          },
          "opacity": 1,
          "type": "rect",
          "x0": "2018-01-13",
          "x1": "2018-01-16 23:59:00",
          "xref": "x",
          "y0": 0.8,
          "y1": 1.2,
          "yref": "y"
         },
         {
          "fillcolor": "rgb(169, 169, 169)",
          "line": {
           "width": 0
          },
          "opacity": 1,
          "type": "rect",
          "x0": "2018-01-16 23:59:00",
          "x1": "2018-01-18",
          "xref": "x",
          "y0": 0.8,
          "y1": 1.2,
          "yref": "y"
         },
         {
          "fillcolor": "rgb(242, 121, 33)",
          "line": {
           "width": 0
          },
          "opacity": 1,
          "type": "rect",
          "x0": "2018-01-18",
          "x1": "2018-01-20 23:59:00",
          "xref": "x",
          "y0": 0.8,
          "y1": 1.2,
          "yref": "y"
         },
         {
          "fillcolor": "rgb(37, 121, 178)",
          "line": {
           "width": 0
          },
          "opacity": 1,
          "type": "rect",
          "x0": "2018-01-16",
          "x1": "2018-01-19 23:59:00",
          "xref": "x",
          "y0": -0.2,
          "y1": 0.2,
          "yref": "y"
         },
         {
          "fillcolor": "rgb(169, 169, 169)",
          "line": {
           "width": 0
          },
          "opacity": 1,
          "type": "rect",
          "x0": "2018-01-19 23:59:00",
          "x1": "2018-01-21",
          "xref": "x",
          "y0": -0.2,
          "y1": 0.2,
          "yref": "y"
         },
         {
          "fillcolor": "rgb(242, 121, 33)",
          "line": {
           "width": 0
          },
          "opacity": 1,
          "type": "rect",
          "x0": "2018-01-21",
          "x1": "2018-01-23 23:59:00",
          "xref": "x",
          "y0": -0.2,
          "y1": 0.2,
          "yref": "y"
         }
        ],
        "showlegend": false,
        "title": {
         "text": "Gantt Chart"
        },
        "width": 900,
        "xaxis": {
         "rangeselector": {
          "buttons": [
           {
            "count": 7,
            "label": "1w",
            "step": "day",
            "stepmode": "backward"
           },
           {
            "count": 1,
            "label": "1m",
            "step": "month",
            "stepmode": "backward"
           },
           {
            "count": 6,
            "label": "6m",
            "step": "month",
            "stepmode": "backward"
           },
           {
            "count": 1,
            "label": "YTD",
            "step": "year",
            "stepmode": "todate"
           },
           {
            "count": 1,
            "label": "1y",
            "step": "year",
            "stepmode": "backward"
           },
           {
            "step": "all"
           }
          ]
         },
         "showgrid": false,
         "type": "date",
         "zeroline": false
        },
        "yaxis": {
         "autorange": false,
         "range": [
          -1,
          7
         ],
         "showgrid": false,
         "ticktext": [
          "CV 5",
          "CV 4",
          "CV 3",
          "CV 2",
          "CV 1",
          "CV 0"
         ],
         "tickvals": [
          0,
          1,
          2,
          3,
          4,
          5
         ],
         "zeroline": false
        }
       }
      },
      "text/html": [
       "<div id=\"5966db53-8df8-4bca-bc9d-5aad85fa4a81\" style=\"height: 600px; width: 900px;\" class=\"plotly-graph-div\"></div><script type=\"text/javascript\">require([\"plotly\"], function(Plotly) { window.PLOTLYENV=window.PLOTLYENV || {};window.PLOTLYENV.BASE_URL=\"https://plot.ly\";\n",
       "if (document.getElementById(\"5966db53-8df8-4bca-bc9d-5aad85fa4a81\")) {\n",
       "    Plotly.newPlot(\"5966db53-8df8-4bca-bc9d-5aad85fa4a81\", [{\"marker\": {\"color\": \"white\"}, \"name\": \"\", \"showlegend\": false, \"x\": [\"2018-01-01\", \"2018-01-04 23:59:00\"], \"y\": [5, 5], \"type\": \"scatter\", \"uid\": \"4b1ff690-b05b-46b7-9bef-0f11301aa004\"}, {\"marker\": {\"color\": \"white\"}, \"name\": \"\", \"showlegend\": false, \"x\": [\"2018-01-04 23:59:00\", \"2018-01-06\"], \"y\": [5, 5], \"type\": \"scatter\", \"uid\": \"2823cd3e-9517-42ae-b924-18b27a16ab73\"}, {\"marker\": {\"color\": \"white\"}, \"name\": \"\", \"showlegend\": false, \"x\": [\"2018-01-06\", \"2018-01-08 23:59:00\"], \"y\": [5, 5], \"type\": \"scatter\", \"uid\": \"4c43aecc-c5d7-4092-a727-ddc04dd67336\"}, {\"marker\": {\"color\": \"white\"}, \"name\": \"\", \"showlegend\": false, \"x\": [\"2018-01-04\", \"2018-01-07 23:59:00\"], \"y\": [4, 4], \"type\": \"scatter\", \"uid\": \"31208716-5477-4496-b705-aafa5d8b6cbd\"}, {\"marker\": {\"color\": \"white\"}, \"name\": \"\", \"showlegend\": false, \"x\": [\"2018-01-07 23:59:00\", \"2018-01-09\"], \"y\": [4, 4], \"type\": \"scatter\", \"uid\": \"54278556-8734-4a99-8288-dc82c8934d52\"}, {\"marker\": {\"color\": \"white\"}, \"name\": \"\", \"showlegend\": false, \"x\": [\"2018-01-09\", \"2018-01-11 23:59:00\"], \"y\": [4, 4], \"type\": \"scatter\", \"uid\": \"0e5aa367-6a21-4175-8b93-ff8999e87a04\"}, {\"marker\": {\"color\": \"white\"}, \"name\": \"\", \"showlegend\": false, \"x\": [\"2018-01-07\", \"2018-01-10 23:59:00\"], \"y\": [3, 3], \"type\": \"scatter\", \"uid\": \"9c9f8948-310f-4c44-90d7-dc84d708e8ed\"}, {\"marker\": {\"color\": \"white\"}, \"name\": \"\", \"showlegend\": false, \"x\": [\"2018-01-10 23:59:00\", \"2018-01-12\"], \"y\": [3, 3], \"type\": \"scatter\", \"uid\": \"199f5866-4555-4fab-b90f-c094f92669f3\"}, {\"marker\": {\"color\": \"white\"}, \"name\": \"\", \"showlegend\": false, \"x\": [\"2018-01-12\", \"2018-01-14 23:59:00\"], \"y\": [3, 3], \"type\": \"scatter\", \"uid\": \"32be88c9-0e91-403a-a64d-c1a031159a36\"}, {\"marker\": {\"color\": \"white\"}, \"name\": \"\", \"showlegend\": false, \"x\": [\"2018-01-10\", \"2018-01-13 23:59:00\"], \"y\": [2, 2], \"type\": \"scatter\", \"uid\": \"d1524836-c3a8-4c75-b996-9717e55b74ae\"}, {\"marker\": {\"color\": \"white\"}, \"name\": \"\", \"showlegend\": false, \"x\": [\"2018-01-13 23:59:00\", \"2018-01-15\"], \"y\": [2, 2], \"type\": \"scatter\", \"uid\": \"e8c58c39-88ff-4cf8-9b59-b1c18580bffa\"}, {\"marker\": {\"color\": \"white\"}, \"name\": \"\", \"showlegend\": false, \"x\": [\"2018-01-15\", \"2018-01-17 23:59:00\"], \"y\": [2, 2], \"type\": \"scatter\", \"uid\": \"28b7b057-309c-4b87-8ae9-20bd6743081f\"}, {\"marker\": {\"color\": \"white\"}, \"name\": \"\", \"showlegend\": false, \"x\": [\"2018-01-13\", \"2018-01-16 23:59:00\"], \"y\": [1, 1], \"type\": \"scatter\", \"uid\": \"6bb42054-f4eb-49a3-bdc2-c3506f6303d3\"}, {\"marker\": {\"color\": \"white\"}, \"name\": \"\", \"showlegend\": false, \"x\": [\"2018-01-16 23:59:00\", \"2018-01-18\"], \"y\": [1, 1], \"type\": \"scatter\", \"uid\": \"6795e6da-962a-4ee5-bbe3-f1ccf3e132c4\"}, {\"marker\": {\"color\": \"white\"}, \"name\": \"\", \"showlegend\": false, \"x\": [\"2018-01-18\", \"2018-01-20 23:59:00\"], \"y\": [1, 1], \"type\": \"scatter\", \"uid\": \"5a738d67-9514-4489-937e-1e0e22f5e2bd\"}, {\"marker\": {\"color\": \"white\"}, \"name\": \"\", \"showlegend\": false, \"x\": [\"2018-01-16\", \"2018-01-19 23:59:00\"], \"y\": [0, 0], \"type\": \"scatter\", \"uid\": \"8c17328e-04d8-4102-86f1-d2ff60f66a45\"}, {\"marker\": {\"color\": \"white\"}, \"name\": \"\", \"showlegend\": false, \"x\": [\"2018-01-19 23:59:00\", \"2018-01-21\"], \"y\": [0, 0], \"type\": \"scatter\", \"uid\": \"f0755290-8c8b-4e51-ad8d-bf171a806a71\"}, {\"marker\": {\"color\": \"white\"}, \"name\": \"\", \"showlegend\": false, \"x\": [\"2018-01-21\", \"2018-01-23 23:59:00\"], \"y\": [0, 0], \"type\": \"scatter\", \"uid\": \"b576c325-33e6-409e-a830-2fe4d87f1b9d\"}], {\"annotations\": [{\"font\": {\"color\": \"white\"}, \"showarrow\": false, \"text\": \"Train\", \"x\": \"2018-01-01\", \"xanchor\": \"left\", \"y\": 5}, {\"font\": {\"color\": \"white\"}, \"showarrow\": false, \"text\": \"Gap\", \"x\": \"2018-01-04 23:59:00\", \"xanchor\": \"left\", \"y\": 5}, {\"font\": {\"color\": \"white\"}, \"showarrow\": false, \"text\": \"Valid\", \"x\": \"2018-01-06\", \"xanchor\": \"left\", \"y\": 5}, {\"font\": {\"color\": \"white\"}, \"showarrow\": false, \"text\": \"Train\", \"x\": \"2018-01-04\", \"xanchor\": \"left\", \"y\": 4}, {\"font\": {\"color\": \"white\"}, \"showarrow\": false, \"text\": \"Gap\", \"x\": \"2018-01-07 23:59:00\", \"xanchor\": \"left\", \"y\": 4}, {\"font\": {\"color\": \"white\"}, \"showarrow\": false, \"text\": \"Valid\", \"x\": \"2018-01-09\", \"xanchor\": \"left\", \"y\": 4}, {\"font\": {\"color\": \"white\"}, \"showarrow\": false, \"text\": \"Train\", \"x\": \"2018-01-07\", \"xanchor\": \"left\", \"y\": 3}, {\"font\": {\"color\": \"white\"}, \"showarrow\": false, \"text\": \"Gap\", \"x\": \"2018-01-10 23:59:00\", \"xanchor\": \"left\", \"y\": 3}, {\"font\": {\"color\": \"white\"}, \"showarrow\": false, \"text\": \"Valid\", \"x\": \"2018-01-12\", \"xanchor\": \"left\", \"y\": 3}, {\"font\": {\"color\": \"white\"}, \"showarrow\": false, \"text\": \"Train\", \"x\": \"2018-01-10\", \"xanchor\": \"left\", \"y\": 2}, {\"font\": {\"color\": \"white\"}, \"showarrow\": false, \"text\": \"Gap\", \"x\": \"2018-01-13 23:59:00\", \"xanchor\": \"left\", \"y\": 2}, {\"font\": {\"color\": \"white\"}, \"showarrow\": false, \"text\": \"Valid\", \"x\": \"2018-01-15\", \"xanchor\": \"left\", \"y\": 2}, {\"font\": {\"color\": \"white\"}, \"showarrow\": false, \"text\": \"Train\", \"x\": \"2018-01-13\", \"xanchor\": \"left\", \"y\": 1}, {\"font\": {\"color\": \"white\"}, \"showarrow\": false, \"text\": \"Gap\", \"x\": \"2018-01-16 23:59:00\", \"xanchor\": \"left\", \"y\": 1}, {\"font\": {\"color\": \"white\"}, \"showarrow\": false, \"text\": \"Valid\", \"x\": \"2018-01-18\", \"xanchor\": \"left\", \"y\": 1}, {\"font\": {\"color\": \"white\"}, \"showarrow\": false, \"text\": \"Train\", \"x\": \"2018-01-16\", \"xanchor\": \"left\", \"y\": 0}, {\"font\": {\"color\": \"white\"}, \"showarrow\": false, \"text\": \"Gap\", \"x\": \"2018-01-19 23:59:00\", \"xanchor\": \"left\", \"y\": 0}, {\"font\": {\"color\": \"white\"}, \"showarrow\": false, \"text\": \"Valid\", \"x\": \"2018-01-21\", \"xanchor\": \"left\", \"y\": 0}], \"height\": 600, \"hovermode\": \"closest\", \"shapes\": [{\"fillcolor\": \"rgb(37, 121, 178)\", \"line\": {\"width\": 0}, \"opacity\": 1, \"type\": \"rect\", \"x0\": \"2018-01-01\", \"x1\": \"2018-01-04 23:59:00\", \"xref\": \"x\", \"y0\": 4.8, \"y1\": 5.2, \"yref\": \"y\"}, {\"fillcolor\": \"rgb(169, 169, 169)\", \"line\": {\"width\": 0}, \"opacity\": 1, \"type\": \"rect\", \"x0\": \"2018-01-04 23:59:00\", \"x1\": \"2018-01-06\", \"xref\": \"x\", \"y0\": 4.8, \"y1\": 5.2, \"yref\": \"y\"}, {\"fillcolor\": \"rgb(242, 121, 33)\", \"line\": {\"width\": 0}, \"opacity\": 1, \"type\": \"rect\", \"x0\": \"2018-01-06\", \"x1\": \"2018-01-08 23:59:00\", \"xref\": \"x\", \"y0\": 4.8, \"y1\": 5.2, \"yref\": \"y\"}, {\"fillcolor\": \"rgb(37, 121, 178)\", \"line\": {\"width\": 0}, \"opacity\": 1, \"type\": \"rect\", \"x0\": \"2018-01-04\", \"x1\": \"2018-01-07 23:59:00\", \"xref\": \"x\", \"y0\": 3.8, \"y1\": 4.2, \"yref\": \"y\"}, {\"fillcolor\": \"rgb(169, 169, 169)\", \"line\": {\"width\": 0}, \"opacity\": 1, \"type\": \"rect\", \"x0\": \"2018-01-07 23:59:00\", \"x1\": \"2018-01-09\", \"xref\": \"x\", \"y0\": 3.8, \"y1\": 4.2, \"yref\": \"y\"}, {\"fillcolor\": \"rgb(242, 121, 33)\", \"line\": {\"width\": 0}, \"opacity\": 1, \"type\": \"rect\", \"x0\": \"2018-01-09\", \"x1\": \"2018-01-11 23:59:00\", \"xref\": \"x\", \"y0\": 3.8, \"y1\": 4.2, \"yref\": \"y\"}, {\"fillcolor\": \"rgb(37, 121, 178)\", \"line\": {\"width\": 0}, \"opacity\": 1, \"type\": \"rect\", \"x0\": \"2018-01-07\", \"x1\": \"2018-01-10 23:59:00\", \"xref\": \"x\", \"y0\": 2.8, \"y1\": 3.2, \"yref\": \"y\"}, {\"fillcolor\": \"rgb(169, 169, 169)\", \"line\": {\"width\": 0}, \"opacity\": 1, \"type\": \"rect\", \"x0\": \"2018-01-10 23:59:00\", \"x1\": \"2018-01-12\", \"xref\": \"x\", \"y0\": 2.8, \"y1\": 3.2, \"yref\": \"y\"}, {\"fillcolor\": \"rgb(242, 121, 33)\", \"line\": {\"width\": 0}, \"opacity\": 1, \"type\": \"rect\", \"x0\": \"2018-01-12\", \"x1\": \"2018-01-14 23:59:00\", \"xref\": \"x\", \"y0\": 2.8, \"y1\": 3.2, \"yref\": \"y\"}, {\"fillcolor\": \"rgb(37, 121, 178)\", \"line\": {\"width\": 0}, \"opacity\": 1, \"type\": \"rect\", \"x0\": \"2018-01-10\", \"x1\": \"2018-01-13 23:59:00\", \"xref\": \"x\", \"y0\": 1.8, \"y1\": 2.2, \"yref\": \"y\"}, {\"fillcolor\": \"rgb(169, 169, 169)\", \"line\": {\"width\": 0}, \"opacity\": 1, \"type\": \"rect\", \"x0\": \"2018-01-13 23:59:00\", \"x1\": \"2018-01-15\", \"xref\": \"x\", \"y0\": 1.8, \"y1\": 2.2, \"yref\": \"y\"}, {\"fillcolor\": \"rgb(242, 121, 33)\", \"line\": {\"width\": 0}, \"opacity\": 1, \"type\": \"rect\", \"x0\": \"2018-01-15\", \"x1\": \"2018-01-17 23:59:00\", \"xref\": \"x\", \"y0\": 1.8, \"y1\": 2.2, \"yref\": \"y\"}, {\"fillcolor\": \"rgb(37, 121, 178)\", \"line\": {\"width\": 0}, \"opacity\": 1, \"type\": \"rect\", \"x0\": \"2018-01-13\", \"x1\": \"2018-01-16 23:59:00\", \"xref\": \"x\", \"y0\": 0.8, \"y1\": 1.2, \"yref\": \"y\"}, {\"fillcolor\": \"rgb(169, 169, 169)\", \"line\": {\"width\": 0}, \"opacity\": 1, \"type\": \"rect\", \"x0\": \"2018-01-16 23:59:00\", \"x1\": \"2018-01-18\", \"xref\": \"x\", \"y0\": 0.8, \"y1\": 1.2, \"yref\": \"y\"}, {\"fillcolor\": \"rgb(242, 121, 33)\", \"line\": {\"width\": 0}, \"opacity\": 1, \"type\": \"rect\", \"x0\": \"2018-01-18\", \"x1\": \"2018-01-20 23:59:00\", \"xref\": \"x\", \"y0\": 0.8, \"y1\": 1.2, \"yref\": \"y\"}, {\"fillcolor\": \"rgb(37, 121, 178)\", \"line\": {\"width\": 0}, \"opacity\": 1, \"type\": \"rect\", \"x0\": \"2018-01-16\", \"x1\": \"2018-01-19 23:59:00\", \"xref\": \"x\", \"y0\": -0.2, \"y1\": 0.2, \"yref\": \"y\"}, {\"fillcolor\": \"rgb(169, 169, 169)\", \"line\": {\"width\": 0}, \"opacity\": 1, \"type\": \"rect\", \"x0\": \"2018-01-19 23:59:00\", \"x1\": \"2018-01-21\", \"xref\": \"x\", \"y0\": -0.2, \"y1\": 0.2, \"yref\": \"y\"}, {\"fillcolor\": \"rgb(242, 121, 33)\", \"line\": {\"width\": 0}, \"opacity\": 1, \"type\": \"rect\", \"x0\": \"2018-01-21\", \"x1\": \"2018-01-23 23:59:00\", \"xref\": \"x\", \"y0\": -0.2, \"y1\": 0.2, \"yref\": \"y\"}], \"showlegend\": false, \"title\": {\"text\": \"Gantt Chart\"}, \"width\": 900, \"xaxis\": {\"rangeselector\": {\"buttons\": [{\"count\": 7, \"label\": \"1w\", \"step\": \"day\", \"stepmode\": \"backward\"}, {\"count\": 1, \"label\": \"1m\", \"step\": \"month\", \"stepmode\": \"backward\"}, {\"count\": 6, \"label\": \"6m\", \"step\": \"month\", \"stepmode\": \"backward\"}, {\"count\": 1, \"label\": \"YTD\", \"step\": \"year\", \"stepmode\": \"todate\"}, {\"count\": 1, \"label\": \"1y\", \"step\": \"year\", \"stepmode\": \"backward\"}, {\"step\": \"all\"}]}, \"showgrid\": false, \"type\": \"date\", \"zeroline\": false}, \"yaxis\": {\"autorange\": false, \"range\": [-1, 7], \"showgrid\": false, \"ticktext\": [\"CV 5\", \"CV 4\", \"CV 3\", \"CV 2\", \"CV 1\", \"CV 0\"], \"tickvals\": [0, 1, 2, 3, 4, 5], \"zeroline\": false}}, {\"showLink\": false, \"linkText\": \"Export to plot.ly\", \"plotlyServerURL\": \"https://plot.ly\"}); \n",
       "}\n",
       "});</script>"
      ],
      "text/vnd.plotly.v1+html": [
       "<div id=\"5966db53-8df8-4bca-bc9d-5aad85fa4a81\" style=\"height: 600px; width: 900px;\" class=\"plotly-graph-div\"></div><script type=\"text/javascript\">require([\"plotly\"], function(Plotly) { window.PLOTLYENV=window.PLOTLYENV || {};window.PLOTLYENV.BASE_URL=\"https://plot.ly\";\n",
       "if (document.getElementById(\"5966db53-8df8-4bca-bc9d-5aad85fa4a81\")) {\n",
       "    Plotly.newPlot(\"5966db53-8df8-4bca-bc9d-5aad85fa4a81\", [{\"marker\": {\"color\": \"white\"}, \"name\": \"\", \"showlegend\": false, \"x\": [\"2018-01-01\", \"2018-01-04 23:59:00\"], \"y\": [5, 5], \"type\": \"scatter\", \"uid\": \"4b1ff690-b05b-46b7-9bef-0f11301aa004\"}, {\"marker\": {\"color\": \"white\"}, \"name\": \"\", \"showlegend\": false, \"x\": [\"2018-01-04 23:59:00\", \"2018-01-06\"], \"y\": [5, 5], \"type\": \"scatter\", \"uid\": \"2823cd3e-9517-42ae-b924-18b27a16ab73\"}, {\"marker\": {\"color\": \"white\"}, \"name\": \"\", \"showlegend\": false, \"x\": [\"2018-01-06\", \"2018-01-08 23:59:00\"], \"y\": [5, 5], \"type\": \"scatter\", \"uid\": \"4c43aecc-c5d7-4092-a727-ddc04dd67336\"}, {\"marker\": {\"color\": \"white\"}, \"name\": \"\", \"showlegend\": false, \"x\": [\"2018-01-04\", \"2018-01-07 23:59:00\"], \"y\": [4, 4], \"type\": \"scatter\", \"uid\": \"31208716-5477-4496-b705-aafa5d8b6cbd\"}, {\"marker\": {\"color\": \"white\"}, \"name\": \"\", \"showlegend\": false, \"x\": [\"2018-01-07 23:59:00\", \"2018-01-09\"], \"y\": [4, 4], \"type\": \"scatter\", \"uid\": \"54278556-8734-4a99-8288-dc82c8934d52\"}, {\"marker\": {\"color\": \"white\"}, \"name\": \"\", \"showlegend\": false, \"x\": [\"2018-01-09\", \"2018-01-11 23:59:00\"], \"y\": [4, 4], \"type\": \"scatter\", \"uid\": \"0e5aa367-6a21-4175-8b93-ff8999e87a04\"}, {\"marker\": {\"color\": \"white\"}, \"name\": \"\", \"showlegend\": false, \"x\": [\"2018-01-07\", \"2018-01-10 23:59:00\"], \"y\": [3, 3], \"type\": \"scatter\", \"uid\": \"9c9f8948-310f-4c44-90d7-dc84d708e8ed\"}, {\"marker\": {\"color\": \"white\"}, \"name\": \"\", \"showlegend\": false, \"x\": [\"2018-01-10 23:59:00\", \"2018-01-12\"], \"y\": [3, 3], \"type\": \"scatter\", \"uid\": \"199f5866-4555-4fab-b90f-c094f92669f3\"}, {\"marker\": {\"color\": \"white\"}, \"name\": \"\", \"showlegend\": false, \"x\": [\"2018-01-12\", \"2018-01-14 23:59:00\"], \"y\": [3, 3], \"type\": \"scatter\", \"uid\": \"32be88c9-0e91-403a-a64d-c1a031159a36\"}, {\"marker\": {\"color\": \"white\"}, \"name\": \"\", \"showlegend\": false, \"x\": [\"2018-01-10\", \"2018-01-13 23:59:00\"], \"y\": [2, 2], \"type\": \"scatter\", \"uid\": \"d1524836-c3a8-4c75-b996-9717e55b74ae\"}, {\"marker\": {\"color\": \"white\"}, \"name\": \"\", \"showlegend\": false, \"x\": [\"2018-01-13 23:59:00\", \"2018-01-15\"], \"y\": [2, 2], \"type\": \"scatter\", \"uid\": \"e8c58c39-88ff-4cf8-9b59-b1c18580bffa\"}, {\"marker\": {\"color\": \"white\"}, \"name\": \"\", \"showlegend\": false, \"x\": [\"2018-01-15\", \"2018-01-17 23:59:00\"], \"y\": [2, 2], \"type\": \"scatter\", \"uid\": \"28b7b057-309c-4b87-8ae9-20bd6743081f\"}, {\"marker\": {\"color\": \"white\"}, \"name\": \"\", \"showlegend\": false, \"x\": [\"2018-01-13\", \"2018-01-16 23:59:00\"], \"y\": [1, 1], \"type\": \"scatter\", \"uid\": \"6bb42054-f4eb-49a3-bdc2-c3506f6303d3\"}, {\"marker\": {\"color\": \"white\"}, \"name\": \"\", \"showlegend\": false, \"x\": [\"2018-01-16 23:59:00\", \"2018-01-18\"], \"y\": [1, 1], \"type\": \"scatter\", \"uid\": \"6795e6da-962a-4ee5-bbe3-f1ccf3e132c4\"}, {\"marker\": {\"color\": \"white\"}, \"name\": \"\", \"showlegend\": false, \"x\": [\"2018-01-18\", \"2018-01-20 23:59:00\"], \"y\": [1, 1], \"type\": \"scatter\", \"uid\": \"5a738d67-9514-4489-937e-1e0e22f5e2bd\"}, {\"marker\": {\"color\": \"white\"}, \"name\": \"\", \"showlegend\": false, \"x\": [\"2018-01-16\", \"2018-01-19 23:59:00\"], \"y\": [0, 0], \"type\": \"scatter\", \"uid\": \"8c17328e-04d8-4102-86f1-d2ff60f66a45\"}, {\"marker\": {\"color\": \"white\"}, \"name\": \"\", \"showlegend\": false, \"x\": [\"2018-01-19 23:59:00\", \"2018-01-21\"], \"y\": [0, 0], \"type\": \"scatter\", \"uid\": \"f0755290-8c8b-4e51-ad8d-bf171a806a71\"}, {\"marker\": {\"color\": \"white\"}, \"name\": \"\", \"showlegend\": false, \"x\": [\"2018-01-21\", \"2018-01-23 23:59:00\"], \"y\": [0, 0], \"type\": \"scatter\", \"uid\": \"b576c325-33e6-409e-a830-2fe4d87f1b9d\"}], {\"annotations\": [{\"font\": {\"color\": \"white\"}, \"showarrow\": false, \"text\": \"Train\", \"x\": \"2018-01-01\", \"xanchor\": \"left\", \"y\": 5}, {\"font\": {\"color\": \"white\"}, \"showarrow\": false, \"text\": \"Gap\", \"x\": \"2018-01-04 23:59:00\", \"xanchor\": \"left\", \"y\": 5}, {\"font\": {\"color\": \"white\"}, \"showarrow\": false, \"text\": \"Valid\", \"x\": \"2018-01-06\", \"xanchor\": \"left\", \"y\": 5}, {\"font\": {\"color\": \"white\"}, \"showarrow\": false, \"text\": \"Train\", \"x\": \"2018-01-04\", \"xanchor\": \"left\", \"y\": 4}, {\"font\": {\"color\": \"white\"}, \"showarrow\": false, \"text\": \"Gap\", \"x\": \"2018-01-07 23:59:00\", \"xanchor\": \"left\", \"y\": 4}, {\"font\": {\"color\": \"white\"}, \"showarrow\": false, \"text\": \"Valid\", \"x\": \"2018-01-09\", \"xanchor\": \"left\", \"y\": 4}, {\"font\": {\"color\": \"white\"}, \"showarrow\": false, \"text\": \"Train\", \"x\": \"2018-01-07\", \"xanchor\": \"left\", \"y\": 3}, {\"font\": {\"color\": \"white\"}, \"showarrow\": false, \"text\": \"Gap\", \"x\": \"2018-01-10 23:59:00\", \"xanchor\": \"left\", \"y\": 3}, {\"font\": {\"color\": \"white\"}, \"showarrow\": false, \"text\": \"Valid\", \"x\": \"2018-01-12\", \"xanchor\": \"left\", \"y\": 3}, {\"font\": {\"color\": \"white\"}, \"showarrow\": false, \"text\": \"Train\", \"x\": \"2018-01-10\", \"xanchor\": \"left\", \"y\": 2}, {\"font\": {\"color\": \"white\"}, \"showarrow\": false, \"text\": \"Gap\", \"x\": \"2018-01-13 23:59:00\", \"xanchor\": \"left\", \"y\": 2}, {\"font\": {\"color\": \"white\"}, \"showarrow\": false, \"text\": \"Valid\", \"x\": \"2018-01-15\", \"xanchor\": \"left\", \"y\": 2}, {\"font\": {\"color\": \"white\"}, \"showarrow\": false, \"text\": \"Train\", \"x\": \"2018-01-13\", \"xanchor\": \"left\", \"y\": 1}, {\"font\": {\"color\": \"white\"}, \"showarrow\": false, \"text\": \"Gap\", \"x\": \"2018-01-16 23:59:00\", \"xanchor\": \"left\", \"y\": 1}, {\"font\": {\"color\": \"white\"}, \"showarrow\": false, \"text\": \"Valid\", \"x\": \"2018-01-18\", \"xanchor\": \"left\", \"y\": 1}, {\"font\": {\"color\": \"white\"}, \"showarrow\": false, \"text\": \"Train\", \"x\": \"2018-01-16\", \"xanchor\": \"left\", \"y\": 0}, {\"font\": {\"color\": \"white\"}, \"showarrow\": false, \"text\": \"Gap\", \"x\": \"2018-01-19 23:59:00\", \"xanchor\": \"left\", \"y\": 0}, {\"font\": {\"color\": \"white\"}, \"showarrow\": false, \"text\": \"Valid\", \"x\": \"2018-01-21\", \"xanchor\": \"left\", \"y\": 0}], \"height\": 600, \"hovermode\": \"closest\", \"shapes\": [{\"fillcolor\": \"rgb(37, 121, 178)\", \"line\": {\"width\": 0}, \"opacity\": 1, \"type\": \"rect\", \"x0\": \"2018-01-01\", \"x1\": \"2018-01-04 23:59:00\", \"xref\": \"x\", \"y0\": 4.8, \"y1\": 5.2, \"yref\": \"y\"}, {\"fillcolor\": \"rgb(169, 169, 169)\", \"line\": {\"width\": 0}, \"opacity\": 1, \"type\": \"rect\", \"x0\": \"2018-01-04 23:59:00\", \"x1\": \"2018-01-06\", \"xref\": \"x\", \"y0\": 4.8, \"y1\": 5.2, \"yref\": \"y\"}, {\"fillcolor\": \"rgb(242, 121, 33)\", \"line\": {\"width\": 0}, \"opacity\": 1, \"type\": \"rect\", \"x0\": \"2018-01-06\", \"x1\": \"2018-01-08 23:59:00\", \"xref\": \"x\", \"y0\": 4.8, \"y1\": 5.2, \"yref\": \"y\"}, {\"fillcolor\": \"rgb(37, 121, 178)\", \"line\": {\"width\": 0}, \"opacity\": 1, \"type\": \"rect\", \"x0\": \"2018-01-04\", \"x1\": \"2018-01-07 23:59:00\", \"xref\": \"x\", \"y0\": 3.8, \"y1\": 4.2, \"yref\": \"y\"}, {\"fillcolor\": \"rgb(169, 169, 169)\", \"line\": {\"width\": 0}, \"opacity\": 1, \"type\": \"rect\", \"x0\": \"2018-01-07 23:59:00\", \"x1\": \"2018-01-09\", \"xref\": \"x\", \"y0\": 3.8, \"y1\": 4.2, \"yref\": \"y\"}, {\"fillcolor\": \"rgb(242, 121, 33)\", \"line\": {\"width\": 0}, \"opacity\": 1, \"type\": \"rect\", \"x0\": \"2018-01-09\", \"x1\": \"2018-01-11 23:59:00\", \"xref\": \"x\", \"y0\": 3.8, \"y1\": 4.2, \"yref\": \"y\"}, {\"fillcolor\": \"rgb(37, 121, 178)\", \"line\": {\"width\": 0}, \"opacity\": 1, \"type\": \"rect\", \"x0\": \"2018-01-07\", \"x1\": \"2018-01-10 23:59:00\", \"xref\": \"x\", \"y0\": 2.8, \"y1\": 3.2, \"yref\": \"y\"}, {\"fillcolor\": \"rgb(169, 169, 169)\", \"line\": {\"width\": 0}, \"opacity\": 1, \"type\": \"rect\", \"x0\": \"2018-01-10 23:59:00\", \"x1\": \"2018-01-12\", \"xref\": \"x\", \"y0\": 2.8, \"y1\": 3.2, \"yref\": \"y\"}, {\"fillcolor\": \"rgb(242, 121, 33)\", \"line\": {\"width\": 0}, \"opacity\": 1, \"type\": \"rect\", \"x0\": \"2018-01-12\", \"x1\": \"2018-01-14 23:59:00\", \"xref\": \"x\", \"y0\": 2.8, \"y1\": 3.2, \"yref\": \"y\"}, {\"fillcolor\": \"rgb(37, 121, 178)\", \"line\": {\"width\": 0}, \"opacity\": 1, \"type\": \"rect\", \"x0\": \"2018-01-10\", \"x1\": \"2018-01-13 23:59:00\", \"xref\": \"x\", \"y0\": 1.8, \"y1\": 2.2, \"yref\": \"y\"}, {\"fillcolor\": \"rgb(169, 169, 169)\", \"line\": {\"width\": 0}, \"opacity\": 1, \"type\": \"rect\", \"x0\": \"2018-01-13 23:59:00\", \"x1\": \"2018-01-15\", \"xref\": \"x\", \"y0\": 1.8, \"y1\": 2.2, \"yref\": \"y\"}, {\"fillcolor\": \"rgb(242, 121, 33)\", \"line\": {\"width\": 0}, \"opacity\": 1, \"type\": \"rect\", \"x0\": \"2018-01-15\", \"x1\": \"2018-01-17 23:59:00\", \"xref\": \"x\", \"y0\": 1.8, \"y1\": 2.2, \"yref\": \"y\"}, {\"fillcolor\": \"rgb(37, 121, 178)\", \"line\": {\"width\": 0}, \"opacity\": 1, \"type\": \"rect\", \"x0\": \"2018-01-13\", \"x1\": \"2018-01-16 23:59:00\", \"xref\": \"x\", \"y0\": 0.8, \"y1\": 1.2, \"yref\": \"y\"}, {\"fillcolor\": \"rgb(169, 169, 169)\", \"line\": {\"width\": 0}, \"opacity\": 1, \"type\": \"rect\", \"x0\": \"2018-01-16 23:59:00\", \"x1\": \"2018-01-18\", \"xref\": \"x\", \"y0\": 0.8, \"y1\": 1.2, \"yref\": \"y\"}, {\"fillcolor\": \"rgb(242, 121, 33)\", \"line\": {\"width\": 0}, \"opacity\": 1, \"type\": \"rect\", \"x0\": \"2018-01-18\", \"x1\": \"2018-01-20 23:59:00\", \"xref\": \"x\", \"y0\": 0.8, \"y1\": 1.2, \"yref\": \"y\"}, {\"fillcolor\": \"rgb(37, 121, 178)\", \"line\": {\"width\": 0}, \"opacity\": 1, \"type\": \"rect\", \"x0\": \"2018-01-16\", \"x1\": \"2018-01-19 23:59:00\", \"xref\": \"x\", \"y0\": -0.2, \"y1\": 0.2, \"yref\": \"y\"}, {\"fillcolor\": \"rgb(169, 169, 169)\", \"line\": {\"width\": 0}, \"opacity\": 1, \"type\": \"rect\", \"x0\": \"2018-01-19 23:59:00\", \"x1\": \"2018-01-21\", \"xref\": \"x\", \"y0\": -0.2, \"y1\": 0.2, \"yref\": \"y\"}, {\"fillcolor\": \"rgb(242, 121, 33)\", \"line\": {\"width\": 0}, \"opacity\": 1, \"type\": \"rect\", \"x0\": \"2018-01-21\", \"x1\": \"2018-01-23 23:59:00\", \"xref\": \"x\", \"y0\": -0.2, \"y1\": 0.2, \"yref\": \"y\"}], \"showlegend\": false, \"title\": {\"text\": \"Gantt Chart\"}, \"width\": 900, \"xaxis\": {\"rangeselector\": {\"buttons\": [{\"count\": 7, \"label\": \"1w\", \"step\": \"day\", \"stepmode\": \"backward\"}, {\"count\": 1, \"label\": \"1m\", \"step\": \"month\", \"stepmode\": \"backward\"}, {\"count\": 6, \"label\": \"6m\", \"step\": \"month\", \"stepmode\": \"backward\"}, {\"count\": 1, \"label\": \"YTD\", \"step\": \"year\", \"stepmode\": \"todate\"}, {\"count\": 1, \"label\": \"1y\", \"step\": \"year\", \"stepmode\": \"backward\"}, {\"step\": \"all\"}]}, \"showgrid\": false, \"type\": \"date\", \"zeroline\": false}, \"yaxis\": {\"autorange\": false, \"range\": [-1, 7], \"showgrid\": false, \"ticktext\": [\"CV 5\", \"CV 4\", \"CV 3\", \"CV 2\", \"CV 1\", \"CV 0\"], \"tickvals\": [0, 1, 2, 3, 4, 5], \"zeroline\": false}}, {\"showLink\": false, \"linkText\": \"Export to plot.ly\", \"plotlyServerURL\": \"https://plot.ly\"}); \n",
       "}\n",
       "});</script>"
      ]
     },
     "metadata": {},
     "output_type": "display_data"
    }
   ],
   "source": [
    "plot_list = []\n",
    "for i, indices in enumerate(cv.split(X_train, y_train)):\n",
    "    train_mindate = target_set_pd.loc[X_train.iloc[indices[0]].index]['date'].min()\n",
    "    train_maxdate = target_set_pd.loc[X_train.iloc[indices[0]].index]['date'].max() + timedelta(hours=23, minutes=59)\n",
    "    valid_mindate = target_set_pd.loc[X_train.iloc[indices[1]].index]['date'].min()\n",
    "    valid_maxdate = target_set_pd.loc[X_train.iloc[indices[1]].index]['date'].max() + timedelta(hours=23, minutes=59)\n",
    "    \n",
    "    plot_list.append(dict(Task=\"CV {}\".format(i), y=5-i, Resource='Train',\n",
    "         Start=train_mindate,\n",
    "         Finish=train_maxdate))\n",
    "    plot_list.append(dict(Task=\"CV {}\".format(i), y=5-i, Resource='Gap',\n",
    "         Start=train_maxdate,\n",
    "         Finish=valid_mindate))\n",
    "    plot_list.append(dict(Task=\"CV {}\".format(i), y=5-i, Resource='Valid',\n",
    "         Start=valid_mindate,\n",
    "         Finish=valid_maxdate))\n",
    "    \n",
    "colors = {'Train': '#2579B2',\n",
    "          'Gap': '#A9A9A9',\n",
    "          'Valid': '#F27921',}\n",
    "\n",
    "fig = ff.create_gantt(plot_list, group_tasks=True, colors=colors, index_col='Resource')\n",
    "fig['layout']['annotations'] = [dict(x=x['Start'], y=x['y'],\n",
    "                                     text=x['Resource'], showarrow=False,\n",
    "                                     font=dict(color='white'), xanchor='left') for x in plot_list]\n",
    "\n",
    "py.iplot(fig, filename='gantt-group-tasks-together')"
   ]
  },
  {
   "cell_type": "code",
   "execution_count": null,
   "metadata": {},
   "outputs": [],
   "source": []
  }
 ],
 "metadata": {
  "kernelspec": {
   "display_name": "Python 3",
   "language": "python",
   "name": "python3"
  },
  "language_info": {
   "codemirror_mode": {
    "name": "ipython",
    "version": 3
   },
   "file_extension": ".py",
   "mimetype": "text/x-python",
   "name": "python",
   "nbconvert_exporter": "python",
   "pygments_lexer": "ipython3",
   "version": "3.6.2"
  },
  "toc": {
   "colors": {
    "hover_highlight": "#DAA520",
    "navigate_num": "#000000",
    "navigate_text": "#333333",
    "running_highlight": "#FF0000",
    "selected_highlight": "#FFD700",
    "sidebar_border": "#EEEEEE",
    "wrapper_background": "#FFFFFF"
   },
   "moveMenuLeft": true,
   "nav_menu": {
    "height": "12px",
    "width": "252px"
   },
   "navigate_menu": true,
   "number_sections": true,
   "sideBar": true,
   "threshold": 4,
   "toc_cell": false,
   "toc_section_display": "block",
   "toc_window_display": false,
   "widenNotebook": false
  }
 },
 "nbformat": 4,
 "nbformat_minor": 2
}
