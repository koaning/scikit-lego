{
 "cells": [
  {
   "cell_type": "code",
   "execution_count": 1,
   "metadata": {
    "ExecuteTime": {
     "end_time": "2019-04-01T12:59:45.053997Z",
     "start_time": "2019-04-01T12:59:44.405540Z"
    }
   },
   "outputs": [],
   "source": [
    "%load_ext autoreload\n",
    "%autoreload 2\n",
    "%matplotlib inline"
   ]
  },
  {
   "cell_type": "code",
   "execution_count": 2,
   "metadata": {
    "ExecuteTime": {
     "end_time": "2019-04-01T12:59:45.378389Z",
     "start_time": "2019-04-01T12:59:45.056523Z"
    }
   },
   "outputs": [],
   "source": [
    "import pandas as pd\n",
    "import numpy as np\n",
    "import matplotlib.pyplot as plt\n",
    "from datetime import timedelta"
   ]
  },
  {
   "cell_type": "code",
   "execution_count": 3,
   "metadata": {
    "ExecuteTime": {
     "end_time": "2019-04-01T13:59:03.192464Z",
     "start_time": "2019-04-01T13:59:03.109303Z"
    }
   },
   "outputs": [],
   "source": [
    "from sklego.model_selection import TimeGapSplit"
   ]
  },
  {
   "cell_type": "code",
   "execution_count": 4,
   "metadata": {
    "ExecuteTime": {
     "end_time": "2019-04-01T12:59:45.457016Z",
     "start_time": "2019-04-01T12:59:45.426899Z"
    }
   },
   "outputs": [],
   "source": [
    "target_set_pd = pd.DataFrame(np.random.randint(0, 30, size=(30, 4)), columns=list('ABCy'))\n",
    "target_set_pd['date'] = pd.date_range(start='1/1/2018', end='1/30/2018')[::-1]"
   ]
  },
  {
   "cell_type": "code",
   "execution_count": 5,
   "metadata": {
    "ExecuteTime": {
     "end_time": "2019-04-01T12:59:45.486001Z",
     "start_time": "2019-04-01T12:59:45.459063Z"
    }
   },
   "outputs": [],
   "source": [
    "target_set_pd = target_set_pd.sort_values('date')"
   ]
  },
  {
   "cell_type": "code",
   "execution_count": 6,
   "metadata": {
    "ExecuteTime": {
     "end_time": "2019-04-01T12:59:45.607666Z",
     "start_time": "2019-04-01T12:59:45.488166Z"
    }
   },
   "outputs": [
    {
     "data": {
      "text/html": [
       "<div>\n",
       "<style scoped>\n",
       "    .dataframe tbody tr th:only-of-type {\n",
       "        vertical-align: middle;\n",
       "    }\n",
       "\n",
       "    .dataframe tbody tr th {\n",
       "        vertical-align: top;\n",
       "    }\n",
       "\n",
       "    .dataframe thead th {\n",
       "        text-align: right;\n",
       "    }\n",
       "</style>\n",
       "<table border=\"1\" class=\"dataframe\">\n",
       "  <thead>\n",
       "    <tr style=\"text-align: right;\">\n",
       "      <th></th>\n",
       "      <th>A</th>\n",
       "      <th>B</th>\n",
       "      <th>C</th>\n",
       "      <th>y</th>\n",
       "      <th>date</th>\n",
       "    </tr>\n",
       "  </thead>\n",
       "  <tbody>\n",
       "    <tr>\n",
       "      <th>29</th>\n",
       "      <td>10</td>\n",
       "      <td>4</td>\n",
       "      <td>4</td>\n",
       "      <td>15</td>\n",
       "      <td>2018-01-01</td>\n",
       "    </tr>\n",
       "    <tr>\n",
       "      <th>28</th>\n",
       "      <td>15</td>\n",
       "      <td>27</td>\n",
       "      <td>18</td>\n",
       "      <td>19</td>\n",
       "      <td>2018-01-02</td>\n",
       "    </tr>\n",
       "    <tr>\n",
       "      <th>27</th>\n",
       "      <td>4</td>\n",
       "      <td>11</td>\n",
       "      <td>9</td>\n",
       "      <td>22</td>\n",
       "      <td>2018-01-03</td>\n",
       "    </tr>\n",
       "    <tr>\n",
       "      <th>26</th>\n",
       "      <td>21</td>\n",
       "      <td>26</td>\n",
       "      <td>13</td>\n",
       "      <td>29</td>\n",
       "      <td>2018-01-04</td>\n",
       "    </tr>\n",
       "    <tr>\n",
       "      <th>25</th>\n",
       "      <td>17</td>\n",
       "      <td>16</td>\n",
       "      <td>27</td>\n",
       "      <td>2</td>\n",
       "      <td>2018-01-05</td>\n",
       "    </tr>\n",
       "  </tbody>\n",
       "</table>\n",
       "</div>"
      ],
      "text/plain": [
       "     A   B   C   y       date\n",
       "29  10   4   4  15 2018-01-01\n",
       "28  15  27  18  19 2018-01-02\n",
       "27   4  11   9  22 2018-01-03\n",
       "26  21  26  13  29 2018-01-04\n",
       "25  17  16  27   2 2018-01-05"
      ]
     },
     "execution_count": 6,
     "metadata": {},
     "output_type": "execute_result"
    }
   ],
   "source": [
    "target_set_pd.head()"
   ]
  },
  {
   "cell_type": "code",
   "execution_count": 7,
   "metadata": {
    "ExecuteTime": {
     "end_time": "2019-04-01T12:59:45.643520Z",
     "start_time": "2019-04-01T12:59:45.610331Z"
    }
   },
   "outputs": [],
   "source": [
    "train = target_set_pd.head(25)"
   ]
  },
  {
   "cell_type": "code",
   "execution_count": 8,
   "metadata": {
    "ExecuteTime": {
     "end_time": "2019-04-01T12:59:45.673480Z",
     "start_time": "2019-04-01T12:59:45.645738Z"
    }
   },
   "outputs": [],
   "source": [
    "X_train = train[['A', 'B', 'C']]\n",
    "y_train = train['y']"
   ]
  },
  {
   "cell_type": "code",
   "execution_count": 13,
   "metadata": {
    "ExecuteTime": {
     "end_time": "2019-04-01T12:59:45.824939Z",
     "start_time": "2019-04-01T12:59:45.675463Z"
    }
   },
   "outputs": [
    {
     "name": "stdout",
     "output_type": "stream",
     "text": [
      "Nbr folds: 6\n",
      "\n",
      "Train:\n",
      "5 unique days, 4 days 00:00:00, nbr_samples: 5\n",
      "2018-01-01 00:00:00\n",
      "2018-01-05 00:00:00\n",
      "Valid:\n",
      "3 unique days, 2 days 00:00:00, nbr_samples: 3\n",
      "2018-01-06 00:00:00\n",
      "2018-01-08 00:00:00\n",
      "\n",
      "Train:\n",
      "5 unique days, 4 days 00:00:00, nbr_samples: 5\n",
      "2018-01-04 00:00:00\n",
      "2018-01-08 00:00:00\n",
      "Valid:\n",
      "3 unique days, 2 days 00:00:00, nbr_samples: 3\n",
      "2018-01-09 00:00:00\n",
      "2018-01-11 00:00:00\n",
      "\n",
      "Train:\n",
      "5 unique days, 4 days 00:00:00, nbr_samples: 5\n",
      "2018-01-07 00:00:00\n",
      "2018-01-11 00:00:00\n",
      "Valid:\n",
      "3 unique days, 2 days 00:00:00, nbr_samples: 3\n",
      "2018-01-12 00:00:00\n",
      "2018-01-14 00:00:00\n",
      "\n",
      "Train:\n",
      "5 unique days, 4 days 00:00:00, nbr_samples: 5\n",
      "2018-01-10 00:00:00\n",
      "2018-01-14 00:00:00\n",
      "Valid:\n",
      "3 unique days, 2 days 00:00:00, nbr_samples: 3\n",
      "2018-01-15 00:00:00\n",
      "2018-01-17 00:00:00\n",
      "\n",
      "Train:\n",
      "5 unique days, 4 days 00:00:00, nbr_samples: 5\n",
      "2018-01-13 00:00:00\n",
      "2018-01-17 00:00:00\n",
      "Valid:\n",
      "3 unique days, 2 days 00:00:00, nbr_samples: 3\n",
      "2018-01-18 00:00:00\n",
      "2018-01-20 00:00:00\n",
      "\n",
      "Train:\n",
      "5 unique days, 4 days 00:00:00, nbr_samples: 5\n",
      "2018-01-16 00:00:00\n",
      "2018-01-20 00:00:00\n",
      "Valid:\n",
      "3 unique days, 2 days 00:00:00, nbr_samples: 3\n",
      "2018-01-21 00:00:00\n",
      "2018-01-23 00:00:00\n",
      "\n"
     ]
    }
   ],
   "source": [
    "cv = TimeGapSplit(df=target_set_pd, date_col='date',\n",
    "                           train_duration=timedelta(days=5),\n",
    "                           valid_duration=timedelta(days=3),\n",
    "                           gap_duration=timedelta(days=0))\n",
    "def printSplitInfo(X, indicies, org_pd):\n",
    "    mindate = org_pd.loc[X.iloc[indicies].index]['date'].min()\n",
    "    maxdate = org_pd.loc[X.iloc[indicies].index]['date'].max()\n",
    "    dates = org_pd[(org_pd['date'] >= mindate) & (org_pd['date'] <= maxdate)]['date']\n",
    "    print(\"{} unique days, {}, nbr_samples: {}\".format(\n",
    "        len(dates.unique()),\n",
    "        pd.to_datetime(maxdate, format='%Y%m%d') - pd.to_datetime(mindate, format='%Y%m%d'),\n",
    "        len(indicies)))\n",
    "    print(mindate)\n",
    "    print(maxdate)\n",
    "\n",
    "print(\"Nbr folds: {}\\n\".format(len(list(cv.split(X_train, y_train)))))\n",
    "for i in cv.split(X_train, y_train):\n",
    "    print(\"Train:\")\n",
    "    printSplitInfo(X_train, i[0], target_set_pd)\n",
    "    print(\"Valid:\")\n",
    "    printSplitInfo(X_train, i[1], target_set_pd)\n",
    "    print()"
   ]
  },
  {
   "cell_type": "code",
   "execution_count": 15,
   "metadata": {
    "ExecuteTime": {
     "end_time": "2019-04-01T12:59:46.521386Z",
     "start_time": "2019-04-01T12:59:45.828272Z"
    }
   },
   "outputs": [
    {
     "data": {
      "text/html": [
       "<script type=\"text/javascript\">window.PlotlyConfig = {MathJaxConfig: 'local'};</script><script type=\"text/javascript\">if (window.MathJax) {MathJax.Hub.Config({SVG: {font: \"STIX-Web\"}});}</script><script>requirejs.config({paths: { 'plotly': ['https://cdn.plot.ly/plotly-latest.min']},});if(!window._Plotly) {require(['plotly'],function(plotly) {window._Plotly=plotly;});}</script>"
      ],
      "text/vnd.plotly.v1+html": [
       "<script type=\"text/javascript\">window.PlotlyConfig = {MathJaxConfig: 'local'};</script><script type=\"text/javascript\">if (window.MathJax) {MathJax.Hub.Config({SVG: {font: \"STIX-Web\"}});}</script><script>requirejs.config({paths: { 'plotly': ['https://cdn.plot.ly/plotly-latest.min']},});if(!window._Plotly) {require(['plotly'],function(plotly) {window._Plotly=plotly;});}</script>"
      ]
     },
     "metadata": {},
     "output_type": "display_data"
    }
   ],
   "source": [
    "import plotly.offline as py\n",
    "import plotly.figure_factory as ff\n",
    "py.init_notebook_mode(connected=True)\n"
   ]
  },
  {
   "cell_type": "code",
   "execution_count": 16,
   "metadata": {
    "ExecuteTime": {
     "end_time": "2019-04-01T12:59:46.642457Z",
     "start_time": "2019-04-01T12:59:46.523745Z"
    }
   },
   "outputs": [
    {
     "data": {
      "application/vnd.plotly.v1+json": {
       "config": {
        "linkText": "Export to plot.ly",
        "plotlyServerURL": "https://plot.ly",
        "showLink": false
       },
       "data": [
        {
         "marker": {
          "color": "white"
         },
         "name": "",
         "showlegend": false,
         "type": "scatter",
         "uid": "75bde6c5-9719-4f6f-a719-fe750c626d37",
         "x": [
          "2018-01-01",
          "2018-01-05"
         ],
         "y": [
          5,
          5
         ]
        },
        {
         "marker": {
          "color": "white"
         },
         "name": "",
         "showlegend": false,
         "type": "scatter",
         "uid": "b79e13db-3557-4922-b0a7-b921dedcf379",
         "x": [
          "2018-01-06",
          "2018-01-08"
         ],
         "y": [
          5,
          5
         ]
        },
        {
         "marker": {
          "color": "white"
         },
         "name": "",
         "showlegend": false,
         "type": "scatter",
         "uid": "16528130-8ad2-42df-a4b1-e116758c5c31",
         "x": [
          "2018-01-04",
          "2018-01-08"
         ],
         "y": [
          4,
          4
         ]
        },
        {
         "marker": {
          "color": "white"
         },
         "name": "",
         "showlegend": false,
         "type": "scatter",
         "uid": "2f6cb872-7b48-4283-ad11-c2f3df66bece",
         "x": [
          "2018-01-09",
          "2018-01-11"
         ],
         "y": [
          4,
          4
         ]
        },
        {
         "marker": {
          "color": "white"
         },
         "name": "",
         "showlegend": false,
         "type": "scatter",
         "uid": "98f777fb-f07e-4cba-9490-1424b50f79e3",
         "x": [
          "2018-01-07",
          "2018-01-11"
         ],
         "y": [
          3,
          3
         ]
        },
        {
         "marker": {
          "color": "white"
         },
         "name": "",
         "showlegend": false,
         "type": "scatter",
         "uid": "41ce675d-ea9c-4d42-bf0b-01f9c30a9ce8",
         "x": [
          "2018-01-12",
          "2018-01-14"
         ],
         "y": [
          3,
          3
         ]
        },
        {
         "marker": {
          "color": "white"
         },
         "name": "",
         "showlegend": false,
         "type": "scatter",
         "uid": "19a5eb4c-206c-4610-b663-7ddf7597458d",
         "x": [
          "2018-01-10",
          "2018-01-14"
         ],
         "y": [
          2,
          2
         ]
        },
        {
         "marker": {
          "color": "white"
         },
         "name": "",
         "showlegend": false,
         "type": "scatter",
         "uid": "21925ab0-c268-44d1-bd1c-92c746d83070",
         "x": [
          "2018-01-15",
          "2018-01-17"
         ],
         "y": [
          2,
          2
         ]
        },
        {
         "marker": {
          "color": "white"
         },
         "name": "",
         "showlegend": false,
         "type": "scatter",
         "uid": "1aeb97c5-d0e9-448c-8593-736e28ab63e4",
         "x": [
          "2018-01-13",
          "2018-01-17"
         ],
         "y": [
          1,
          1
         ]
        },
        {
         "marker": {
          "color": "white"
         },
         "name": "",
         "showlegend": false,
         "type": "scatter",
         "uid": "668ff41f-1824-4cbe-b84c-ed837c602697",
         "x": [
          "2018-01-18",
          "2018-01-20"
         ],
         "y": [
          1,
          1
         ]
        },
        {
         "marker": {
          "color": "white"
         },
         "name": "",
         "showlegend": false,
         "type": "scatter",
         "uid": "f91c9f23-ec67-4cb9-bc1b-306e5f6acc65",
         "x": [
          "2018-01-16",
          "2018-01-20"
         ],
         "y": [
          0,
          0
         ]
        },
        {
         "marker": {
          "color": "white"
         },
         "name": "",
         "showlegend": false,
         "type": "scatter",
         "uid": "c37c98f3-517b-4ff1-bc9b-a8d17c45e9b1",
         "x": [
          "2018-01-21",
          "2018-01-23"
         ],
         "y": [
          0,
          0
         ]
        }
       ],
       "layout": {
        "annotations": [
         {
          "font": {
           "color": "white"
          },
          "showarrow": false,
          "text": "Train",
          "x": "2018-01-01",
          "xanchor": "left",
          "y": 5
         },
         {
          "font": {
           "color": "white"
          },
          "showarrow": false,
          "text": "Valid",
          "x": "2018-01-06",
          "xanchor": "left",
          "y": 5
         },
         {
          "font": {
           "color": "white"
          },
          "showarrow": false,
          "text": "Train",
          "x": "2018-01-04",
          "xanchor": "left",
          "y": 4
         },
         {
          "font": {
           "color": "white"
          },
          "showarrow": false,
          "text": "Valid",
          "x": "2018-01-09",
          "xanchor": "left",
          "y": 4
         },
         {
          "font": {
           "color": "white"
          },
          "showarrow": false,
          "text": "Train",
          "x": "2018-01-07",
          "xanchor": "left",
          "y": 3
         },
         {
          "font": {
           "color": "white"
          },
          "showarrow": false,
          "text": "Valid",
          "x": "2018-01-12",
          "xanchor": "left",
          "y": 3
         },
         {
          "font": {
           "color": "white"
          },
          "showarrow": false,
          "text": "Train",
          "x": "2018-01-10",
          "xanchor": "left",
          "y": 2
         },
         {
          "font": {
           "color": "white"
          },
          "showarrow": false,
          "text": "Valid",
          "x": "2018-01-15",
          "xanchor": "left",
          "y": 2
         },
         {
          "font": {
           "color": "white"
          },
          "showarrow": false,
          "text": "Train",
          "x": "2018-01-13",
          "xanchor": "left",
          "y": 1
         },
         {
          "font": {
           "color": "white"
          },
          "showarrow": false,
          "text": "Valid",
          "x": "2018-01-18",
          "xanchor": "left",
          "y": 1
         },
         {
          "font": {
           "color": "white"
          },
          "showarrow": false,
          "text": "Train",
          "x": "2018-01-16",
          "xanchor": "left",
          "y": 0
         },
         {
          "font": {
           "color": "white"
          },
          "showarrow": false,
          "text": "Valid",
          "x": "2018-01-21",
          "xanchor": "left",
          "y": 0
         }
        ],
        "height": 600,
        "hovermode": "closest",
        "shapes": [
         {
          "fillcolor": "rgb(37, 121, 178)",
          "line": {
           "width": 0
          },
          "opacity": 1,
          "type": "rect",
          "x0": "2018-01-01",
          "x1": "2018-01-05",
          "xref": "x",
          "y0": 4.8,
          "y1": 5.2,
          "yref": "y"
         },
         {
          "fillcolor": "rgb(242, 121, 33)",
          "line": {
           "width": 0
          },
          "opacity": 1,
          "type": "rect",
          "x0": "2018-01-06",
          "x1": "2018-01-08",
          "xref": "x",
          "y0": 4.8,
          "y1": 5.2,
          "yref": "y"
         },
         {
          "fillcolor": "rgb(37, 121, 178)",
          "line": {
           "width": 0
          },
          "opacity": 1,
          "type": "rect",
          "x0": "2018-01-04",
          "x1": "2018-01-08",
          "xref": "x",
          "y0": 3.8,
          "y1": 4.2,
          "yref": "y"
         },
         {
          "fillcolor": "rgb(242, 121, 33)",
          "line": {
           "width": 0
          },
          "opacity": 1,
          "type": "rect",
          "x0": "2018-01-09",
          "x1": "2018-01-11",
          "xref": "x",
          "y0": 3.8,
          "y1": 4.2,
          "yref": "y"
         },
         {
          "fillcolor": "rgb(37, 121, 178)",
          "line": {
           "width": 0
          },
          "opacity": 1,
          "type": "rect",
          "x0": "2018-01-07",
          "x1": "2018-01-11",
          "xref": "x",
          "y0": 2.8,
          "y1": 3.2,
          "yref": "y"
         },
         {
          "fillcolor": "rgb(242, 121, 33)",
          "line": {
           "width": 0
          },
          "opacity": 1,
          "type": "rect",
          "x0": "2018-01-12",
          "x1": "2018-01-14",
          "xref": "x",
          "y0": 2.8,
          "y1": 3.2,
          "yref": "y"
         },
         {
          "fillcolor": "rgb(37, 121, 178)",
          "line": {
           "width": 0
          },
          "opacity": 1,
          "type": "rect",
          "x0": "2018-01-10",
          "x1": "2018-01-14",
          "xref": "x",
          "y0": 1.8,
          "y1": 2.2,
          "yref": "y"
         },
         {
          "fillcolor": "rgb(242, 121, 33)",
          "line": {
           "width": 0
          },
          "opacity": 1,
          "type": "rect",
          "x0": "2018-01-15",
          "x1": "2018-01-17",
          "xref": "x",
          "y0": 1.8,
          "y1": 2.2,
          "yref": "y"
         },
         {
          "fillcolor": "rgb(37, 121, 178)",
          "line": {
           "width": 0
          },
          "opacity": 1,
          "type": "rect",
          "x0": "2018-01-13",
          "x1": "2018-01-17",
          "xref": "x",
          "y0": 0.8,
          "y1": 1.2,
          "yref": "y"
         },
         {
          "fillcolor": "rgb(242, 121, 33)",
          "line": {
           "width": 0
          },
          "opacity": 1,
          "type": "rect",
          "x0": "2018-01-18",
          "x1": "2018-01-20",
          "xref": "x",
          "y0": 0.8,
          "y1": 1.2,
          "yref": "y"
         },
         {
          "fillcolor": "rgb(37, 121, 178)",
          "line": {
           "width": 0
          },
          "opacity": 1,
          "type": "rect",
          "x0": "2018-01-16",
          "x1": "2018-01-20",
          "xref": "x",
          "y0": -0.2,
          "y1": 0.2,
          "yref": "y"
         },
         {
          "fillcolor": "rgb(242, 121, 33)",
          "line": {
           "width": 0
          },
          "opacity": 1,
          "type": "rect",
          "x0": "2018-01-21",
          "x1": "2018-01-23",
          "xref": "x",
          "y0": -0.2,
          "y1": 0.2,
          "yref": "y"
         }
        ],
        "showlegend": false,
        "title": {
         "text": "Gantt Chart"
        },
        "width": 900,
        "xaxis": {
         "rangeselector": {
          "buttons": [
           {
            "count": 7,
            "label": "1w",
            "step": "day",
            "stepmode": "backward"
           },
           {
            "count": 1,
            "label": "1m",
            "step": "month",
            "stepmode": "backward"
           },
           {
            "count": 6,
            "label": "6m",
            "step": "month",
            "stepmode": "backward"
           },
           {
            "count": 1,
            "label": "YTD",
            "step": "year",
            "stepmode": "todate"
           },
           {
            "count": 1,
            "label": "1y",
            "step": "year",
            "stepmode": "backward"
           },
           {
            "step": "all"
           }
          ]
         },
         "showgrid": false,
         "type": "date",
         "zeroline": false
        },
        "yaxis": {
         "autorange": false,
         "range": [
          -1,
          7
         ],
         "showgrid": false,
         "ticktext": [
          "CV 5",
          "CV 4",
          "CV 3",
          "CV 2",
          "CV 1",
          "CV 0"
         ],
         "tickvals": [
          0,
          1,
          2,
          3,
          4,
          5
         ],
         "zeroline": false
        }
       }
      },
      "text/html": [
       "<div id=\"2298e680-b4a6-4db9-b244-d84177d88fb2\" style=\"height: 600px; width: 900px;\" class=\"plotly-graph-div\"></div><script type=\"text/javascript\">require([\"plotly\"], function(Plotly) { window.PLOTLYENV=window.PLOTLYENV || {};window.PLOTLYENV.BASE_URL=\"https://plot.ly\";\n",
       "if (document.getElementById(\"2298e680-b4a6-4db9-b244-d84177d88fb2\")) {\n",
       "    Plotly.newPlot(\"2298e680-b4a6-4db9-b244-d84177d88fb2\", [{\"marker\": {\"color\": \"white\"}, \"name\": \"\", \"showlegend\": false, \"x\": [\"2018-01-01\", \"2018-01-05\"], \"y\": [5, 5], \"type\": \"scatter\", \"uid\": \"6fde8e0c-3e95-4b15-894b-0bdfae5b8d1b\"}, {\"marker\": {\"color\": \"white\"}, \"name\": \"\", \"showlegend\": false, \"x\": [\"2018-01-06\", \"2018-01-08\"], \"y\": [5, 5], \"type\": \"scatter\", \"uid\": \"095e1e26-d113-4d28-ab07-d790cffa8de3\"}, {\"marker\": {\"color\": \"white\"}, \"name\": \"\", \"showlegend\": false, \"x\": [\"2018-01-04\", \"2018-01-08\"], \"y\": [4, 4], \"type\": \"scatter\", \"uid\": \"0654f473-0b50-4bcb-821f-ba6c02dea79c\"}, {\"marker\": {\"color\": \"white\"}, \"name\": \"\", \"showlegend\": false, \"x\": [\"2018-01-09\", \"2018-01-11\"], \"y\": [4, 4], \"type\": \"scatter\", \"uid\": \"cb730a37-6155-45ea-94eb-c116c64b4fdd\"}, {\"marker\": {\"color\": \"white\"}, \"name\": \"\", \"showlegend\": false, \"x\": [\"2018-01-07\", \"2018-01-11\"], \"y\": [3, 3], \"type\": \"scatter\", \"uid\": \"7268d8be-ba9d-4d12-bfed-ccf5c5cb72ff\"}, {\"marker\": {\"color\": \"white\"}, \"name\": \"\", \"showlegend\": false, \"x\": [\"2018-01-12\", \"2018-01-14\"], \"y\": [3, 3], \"type\": \"scatter\", \"uid\": \"1db59a55-e2b2-4efd-b04b-6e8ee7df337c\"}, {\"marker\": {\"color\": \"white\"}, \"name\": \"\", \"showlegend\": false, \"x\": [\"2018-01-10\", \"2018-01-14\"], \"y\": [2, 2], \"type\": \"scatter\", \"uid\": \"21d58637-be92-4bc6-9788-d30d13f0c9c4\"}, {\"marker\": {\"color\": \"white\"}, \"name\": \"\", \"showlegend\": false, \"x\": [\"2018-01-15\", \"2018-01-17\"], \"y\": [2, 2], \"type\": \"scatter\", \"uid\": \"844728f5-985f-41cb-a270-e8874e6eab0a\"}, {\"marker\": {\"color\": \"white\"}, \"name\": \"\", \"showlegend\": false, \"x\": [\"2018-01-13\", \"2018-01-17\"], \"y\": [1, 1], \"type\": \"scatter\", \"uid\": \"4184b77f-7ceb-4b6a-b8fa-0fd7b97238cb\"}, {\"marker\": {\"color\": \"white\"}, \"name\": \"\", \"showlegend\": false, \"x\": [\"2018-01-18\", \"2018-01-20\"], \"y\": [1, 1], \"type\": \"scatter\", \"uid\": \"693f9464-1695-45c6-a6ed-3351fe7d71e0\"}, {\"marker\": {\"color\": \"white\"}, \"name\": \"\", \"showlegend\": false, \"x\": [\"2018-01-16\", \"2018-01-20\"], \"y\": [0, 0], \"type\": \"scatter\", \"uid\": \"5e7f1712-ecfd-418c-ba87-3dcef91747b2\"}, {\"marker\": {\"color\": \"white\"}, \"name\": \"\", \"showlegend\": false, \"x\": [\"2018-01-21\", \"2018-01-23\"], \"y\": [0, 0], \"type\": \"scatter\", \"uid\": \"55b3d5b4-4790-4dbe-ba9b-957179d9de84\"}], {\"annotations\": [{\"font\": {\"color\": \"white\"}, \"showarrow\": false, \"text\": \"Train\", \"x\": \"2018-01-01\", \"xanchor\": \"left\", \"y\": 5}, {\"font\": {\"color\": \"white\"}, \"showarrow\": false, \"text\": \"Valid\", \"x\": \"2018-01-06\", \"xanchor\": \"left\", \"y\": 5}, {\"font\": {\"color\": \"white\"}, \"showarrow\": false, \"text\": \"Train\", \"x\": \"2018-01-04\", \"xanchor\": \"left\", \"y\": 4}, {\"font\": {\"color\": \"white\"}, \"showarrow\": false, \"text\": \"Valid\", \"x\": \"2018-01-09\", \"xanchor\": \"left\", \"y\": 4}, {\"font\": {\"color\": \"white\"}, \"showarrow\": false, \"text\": \"Train\", \"x\": \"2018-01-07\", \"xanchor\": \"left\", \"y\": 3}, {\"font\": {\"color\": \"white\"}, \"showarrow\": false, \"text\": \"Valid\", \"x\": \"2018-01-12\", \"xanchor\": \"left\", \"y\": 3}, {\"font\": {\"color\": \"white\"}, \"showarrow\": false, \"text\": \"Train\", \"x\": \"2018-01-10\", \"xanchor\": \"left\", \"y\": 2}, {\"font\": {\"color\": \"white\"}, \"showarrow\": false, \"text\": \"Valid\", \"x\": \"2018-01-15\", \"xanchor\": \"left\", \"y\": 2}, {\"font\": {\"color\": \"white\"}, \"showarrow\": false, \"text\": \"Train\", \"x\": \"2018-01-13\", \"xanchor\": \"left\", \"y\": 1}, {\"font\": {\"color\": \"white\"}, \"showarrow\": false, \"text\": \"Valid\", \"x\": \"2018-01-18\", \"xanchor\": \"left\", \"y\": 1}, {\"font\": {\"color\": \"white\"}, \"showarrow\": false, \"text\": \"Train\", \"x\": \"2018-01-16\", \"xanchor\": \"left\", \"y\": 0}, {\"font\": {\"color\": \"white\"}, \"showarrow\": false, \"text\": \"Valid\", \"x\": \"2018-01-21\", \"xanchor\": \"left\", \"y\": 0}], \"height\": 600, \"hovermode\": \"closest\", \"shapes\": [{\"fillcolor\": \"rgb(37, 121, 178)\", \"line\": {\"width\": 0}, \"opacity\": 1, \"type\": \"rect\", \"x0\": \"2018-01-01\", \"x1\": \"2018-01-05\", \"xref\": \"x\", \"y0\": 4.8, \"y1\": 5.2, \"yref\": \"y\"}, {\"fillcolor\": \"rgb(242, 121, 33)\", \"line\": {\"width\": 0}, \"opacity\": 1, \"type\": \"rect\", \"x0\": \"2018-01-06\", \"x1\": \"2018-01-08\", \"xref\": \"x\", \"y0\": 4.8, \"y1\": 5.2, \"yref\": \"y\"}, {\"fillcolor\": \"rgb(37, 121, 178)\", \"line\": {\"width\": 0}, \"opacity\": 1, \"type\": \"rect\", \"x0\": \"2018-01-04\", \"x1\": \"2018-01-08\", \"xref\": \"x\", \"y0\": 3.8, \"y1\": 4.2, \"yref\": \"y\"}, {\"fillcolor\": \"rgb(242, 121, 33)\", \"line\": {\"width\": 0}, \"opacity\": 1, \"type\": \"rect\", \"x0\": \"2018-01-09\", \"x1\": \"2018-01-11\", \"xref\": \"x\", \"y0\": 3.8, \"y1\": 4.2, \"yref\": \"y\"}, {\"fillcolor\": \"rgb(37, 121, 178)\", \"line\": {\"width\": 0}, \"opacity\": 1, \"type\": \"rect\", \"x0\": \"2018-01-07\", \"x1\": \"2018-01-11\", \"xref\": \"x\", \"y0\": 2.8, \"y1\": 3.2, \"yref\": \"y\"}, {\"fillcolor\": \"rgb(242, 121, 33)\", \"line\": {\"width\": 0}, \"opacity\": 1, \"type\": \"rect\", \"x0\": \"2018-01-12\", \"x1\": \"2018-01-14\", \"xref\": \"x\", \"y0\": 2.8, \"y1\": 3.2, \"yref\": \"y\"}, {\"fillcolor\": \"rgb(37, 121, 178)\", \"line\": {\"width\": 0}, \"opacity\": 1, \"type\": \"rect\", \"x0\": \"2018-01-10\", \"x1\": \"2018-01-14\", \"xref\": \"x\", \"y0\": 1.8, \"y1\": 2.2, \"yref\": \"y\"}, {\"fillcolor\": \"rgb(242, 121, 33)\", \"line\": {\"width\": 0}, \"opacity\": 1, \"type\": \"rect\", \"x0\": \"2018-01-15\", \"x1\": \"2018-01-17\", \"xref\": \"x\", \"y0\": 1.8, \"y1\": 2.2, \"yref\": \"y\"}, {\"fillcolor\": \"rgb(37, 121, 178)\", \"line\": {\"width\": 0}, \"opacity\": 1, \"type\": \"rect\", \"x0\": \"2018-01-13\", \"x1\": \"2018-01-17\", \"xref\": \"x\", \"y0\": 0.8, \"y1\": 1.2, \"yref\": \"y\"}, {\"fillcolor\": \"rgb(242, 121, 33)\", \"line\": {\"width\": 0}, \"opacity\": 1, \"type\": \"rect\", \"x0\": \"2018-01-18\", \"x1\": \"2018-01-20\", \"xref\": \"x\", \"y0\": 0.8, \"y1\": 1.2, \"yref\": \"y\"}, {\"fillcolor\": \"rgb(37, 121, 178)\", \"line\": {\"width\": 0}, \"opacity\": 1, \"type\": \"rect\", \"x0\": \"2018-01-16\", \"x1\": \"2018-01-20\", \"xref\": \"x\", \"y0\": -0.2, \"y1\": 0.2, \"yref\": \"y\"}, {\"fillcolor\": \"rgb(242, 121, 33)\", \"line\": {\"width\": 0}, \"opacity\": 1, \"type\": \"rect\", \"x0\": \"2018-01-21\", \"x1\": \"2018-01-23\", \"xref\": \"x\", \"y0\": -0.2, \"y1\": 0.2, \"yref\": \"y\"}], \"showlegend\": false, \"title\": {\"text\": \"Gantt Chart\"}, \"width\": 900, \"xaxis\": {\"rangeselector\": {\"buttons\": [{\"count\": 7, \"label\": \"1w\", \"step\": \"day\", \"stepmode\": \"backward\"}, {\"count\": 1, \"label\": \"1m\", \"step\": \"month\", \"stepmode\": \"backward\"}, {\"count\": 6, \"label\": \"6m\", \"step\": \"month\", \"stepmode\": \"backward\"}, {\"count\": 1, \"label\": \"YTD\", \"step\": \"year\", \"stepmode\": \"todate\"}, {\"count\": 1, \"label\": \"1y\", \"step\": \"year\", \"stepmode\": \"backward\"}, {\"step\": \"all\"}]}, \"showgrid\": false, \"type\": \"date\", \"zeroline\": false}, \"yaxis\": {\"autorange\": false, \"range\": [-1, 7], \"showgrid\": false, \"ticktext\": [\"CV 5\", \"CV 4\", \"CV 3\", \"CV 2\", \"CV 1\", \"CV 0\"], \"tickvals\": [0, 1, 2, 3, 4, 5], \"zeroline\": false}}, {\"showLink\": false, \"linkText\": \"Export to plot.ly\", \"plotlyServerURL\": \"https://plot.ly\"}); \n",
       "}\n",
       "});</script>"
      ],
      "text/vnd.plotly.v1+html": [
       "<div id=\"2298e680-b4a6-4db9-b244-d84177d88fb2\" style=\"height: 600px; width: 900px;\" class=\"plotly-graph-div\"></div><script type=\"text/javascript\">require([\"plotly\"], function(Plotly) { window.PLOTLYENV=window.PLOTLYENV || {};window.PLOTLYENV.BASE_URL=\"https://plot.ly\";\n",
       "if (document.getElementById(\"2298e680-b4a6-4db9-b244-d84177d88fb2\")) {\n",
       "    Plotly.newPlot(\"2298e680-b4a6-4db9-b244-d84177d88fb2\", [{\"marker\": {\"color\": \"white\"}, \"name\": \"\", \"showlegend\": false, \"x\": [\"2018-01-01\", \"2018-01-05\"], \"y\": [5, 5], \"type\": \"scatter\", \"uid\": \"6fde8e0c-3e95-4b15-894b-0bdfae5b8d1b\"}, {\"marker\": {\"color\": \"white\"}, \"name\": \"\", \"showlegend\": false, \"x\": [\"2018-01-06\", \"2018-01-08\"], \"y\": [5, 5], \"type\": \"scatter\", \"uid\": \"095e1e26-d113-4d28-ab07-d790cffa8de3\"}, {\"marker\": {\"color\": \"white\"}, \"name\": \"\", \"showlegend\": false, \"x\": [\"2018-01-04\", \"2018-01-08\"], \"y\": [4, 4], \"type\": \"scatter\", \"uid\": \"0654f473-0b50-4bcb-821f-ba6c02dea79c\"}, {\"marker\": {\"color\": \"white\"}, \"name\": \"\", \"showlegend\": false, \"x\": [\"2018-01-09\", \"2018-01-11\"], \"y\": [4, 4], \"type\": \"scatter\", \"uid\": \"cb730a37-6155-45ea-94eb-c116c64b4fdd\"}, {\"marker\": {\"color\": \"white\"}, \"name\": \"\", \"showlegend\": false, \"x\": [\"2018-01-07\", \"2018-01-11\"], \"y\": [3, 3], \"type\": \"scatter\", \"uid\": \"7268d8be-ba9d-4d12-bfed-ccf5c5cb72ff\"}, {\"marker\": {\"color\": \"white\"}, \"name\": \"\", \"showlegend\": false, \"x\": [\"2018-01-12\", \"2018-01-14\"], \"y\": [3, 3], \"type\": \"scatter\", \"uid\": \"1db59a55-e2b2-4efd-b04b-6e8ee7df337c\"}, {\"marker\": {\"color\": \"white\"}, \"name\": \"\", \"showlegend\": false, \"x\": [\"2018-01-10\", \"2018-01-14\"], \"y\": [2, 2], \"type\": \"scatter\", \"uid\": \"21d58637-be92-4bc6-9788-d30d13f0c9c4\"}, {\"marker\": {\"color\": \"white\"}, \"name\": \"\", \"showlegend\": false, \"x\": [\"2018-01-15\", \"2018-01-17\"], \"y\": [2, 2], \"type\": \"scatter\", \"uid\": \"844728f5-985f-41cb-a270-e8874e6eab0a\"}, {\"marker\": {\"color\": \"white\"}, \"name\": \"\", \"showlegend\": false, \"x\": [\"2018-01-13\", \"2018-01-17\"], \"y\": [1, 1], \"type\": \"scatter\", \"uid\": \"4184b77f-7ceb-4b6a-b8fa-0fd7b97238cb\"}, {\"marker\": {\"color\": \"white\"}, \"name\": \"\", \"showlegend\": false, \"x\": [\"2018-01-18\", \"2018-01-20\"], \"y\": [1, 1], \"type\": \"scatter\", \"uid\": \"693f9464-1695-45c6-a6ed-3351fe7d71e0\"}, {\"marker\": {\"color\": \"white\"}, \"name\": \"\", \"showlegend\": false, \"x\": [\"2018-01-16\", \"2018-01-20\"], \"y\": [0, 0], \"type\": \"scatter\", \"uid\": \"5e7f1712-ecfd-418c-ba87-3dcef91747b2\"}, {\"marker\": {\"color\": \"white\"}, \"name\": \"\", \"showlegend\": false, \"x\": [\"2018-01-21\", \"2018-01-23\"], \"y\": [0, 0], \"type\": \"scatter\", \"uid\": \"55b3d5b4-4790-4dbe-ba9b-957179d9de84\"}], {\"annotations\": [{\"font\": {\"color\": \"white\"}, \"showarrow\": false, \"text\": \"Train\", \"x\": \"2018-01-01\", \"xanchor\": \"left\", \"y\": 5}, {\"font\": {\"color\": \"white\"}, \"showarrow\": false, \"text\": \"Valid\", \"x\": \"2018-01-06\", \"xanchor\": \"left\", \"y\": 5}, {\"font\": {\"color\": \"white\"}, \"showarrow\": false, \"text\": \"Train\", \"x\": \"2018-01-04\", \"xanchor\": \"left\", \"y\": 4}, {\"font\": {\"color\": \"white\"}, \"showarrow\": false, \"text\": \"Valid\", \"x\": \"2018-01-09\", \"xanchor\": \"left\", \"y\": 4}, {\"font\": {\"color\": \"white\"}, \"showarrow\": false, \"text\": \"Train\", \"x\": \"2018-01-07\", \"xanchor\": \"left\", \"y\": 3}, {\"font\": {\"color\": \"white\"}, \"showarrow\": false, \"text\": \"Valid\", \"x\": \"2018-01-12\", \"xanchor\": \"left\", \"y\": 3}, {\"font\": {\"color\": \"white\"}, \"showarrow\": false, \"text\": \"Train\", \"x\": \"2018-01-10\", \"xanchor\": \"left\", \"y\": 2}, {\"font\": {\"color\": \"white\"}, \"showarrow\": false, \"text\": \"Valid\", \"x\": \"2018-01-15\", \"xanchor\": \"left\", \"y\": 2}, {\"font\": {\"color\": \"white\"}, \"showarrow\": false, \"text\": \"Train\", \"x\": \"2018-01-13\", \"xanchor\": \"left\", \"y\": 1}, {\"font\": {\"color\": \"white\"}, \"showarrow\": false, \"text\": \"Valid\", \"x\": \"2018-01-18\", \"xanchor\": \"left\", \"y\": 1}, {\"font\": {\"color\": \"white\"}, \"showarrow\": false, \"text\": \"Train\", \"x\": \"2018-01-16\", \"xanchor\": \"left\", \"y\": 0}, {\"font\": {\"color\": \"white\"}, \"showarrow\": false, \"text\": \"Valid\", \"x\": \"2018-01-21\", \"xanchor\": \"left\", \"y\": 0}], \"height\": 600, \"hovermode\": \"closest\", \"shapes\": [{\"fillcolor\": \"rgb(37, 121, 178)\", \"line\": {\"width\": 0}, \"opacity\": 1, \"type\": \"rect\", \"x0\": \"2018-01-01\", \"x1\": \"2018-01-05\", \"xref\": \"x\", \"y0\": 4.8, \"y1\": 5.2, \"yref\": \"y\"}, {\"fillcolor\": \"rgb(242, 121, 33)\", \"line\": {\"width\": 0}, \"opacity\": 1, \"type\": \"rect\", \"x0\": \"2018-01-06\", \"x1\": \"2018-01-08\", \"xref\": \"x\", \"y0\": 4.8, \"y1\": 5.2, \"yref\": \"y\"}, {\"fillcolor\": \"rgb(37, 121, 178)\", \"line\": {\"width\": 0}, \"opacity\": 1, \"type\": \"rect\", \"x0\": \"2018-01-04\", \"x1\": \"2018-01-08\", \"xref\": \"x\", \"y0\": 3.8, \"y1\": 4.2, \"yref\": \"y\"}, {\"fillcolor\": \"rgb(242, 121, 33)\", \"line\": {\"width\": 0}, \"opacity\": 1, \"type\": \"rect\", \"x0\": \"2018-01-09\", \"x1\": \"2018-01-11\", \"xref\": \"x\", \"y0\": 3.8, \"y1\": 4.2, \"yref\": \"y\"}, {\"fillcolor\": \"rgb(37, 121, 178)\", \"line\": {\"width\": 0}, \"opacity\": 1, \"type\": \"rect\", \"x0\": \"2018-01-07\", \"x1\": \"2018-01-11\", \"xref\": \"x\", \"y0\": 2.8, \"y1\": 3.2, \"yref\": \"y\"}, {\"fillcolor\": \"rgb(242, 121, 33)\", \"line\": {\"width\": 0}, \"opacity\": 1, \"type\": \"rect\", \"x0\": \"2018-01-12\", \"x1\": \"2018-01-14\", \"xref\": \"x\", \"y0\": 2.8, \"y1\": 3.2, \"yref\": \"y\"}, {\"fillcolor\": \"rgb(37, 121, 178)\", \"line\": {\"width\": 0}, \"opacity\": 1, \"type\": \"rect\", \"x0\": \"2018-01-10\", \"x1\": \"2018-01-14\", \"xref\": \"x\", \"y0\": 1.8, \"y1\": 2.2, \"yref\": \"y\"}, {\"fillcolor\": \"rgb(242, 121, 33)\", \"line\": {\"width\": 0}, \"opacity\": 1, \"type\": \"rect\", \"x0\": \"2018-01-15\", \"x1\": \"2018-01-17\", \"xref\": \"x\", \"y0\": 1.8, \"y1\": 2.2, \"yref\": \"y\"}, {\"fillcolor\": \"rgb(37, 121, 178)\", \"line\": {\"width\": 0}, \"opacity\": 1, \"type\": \"rect\", \"x0\": \"2018-01-13\", \"x1\": \"2018-01-17\", \"xref\": \"x\", \"y0\": 0.8, \"y1\": 1.2, \"yref\": \"y\"}, {\"fillcolor\": \"rgb(242, 121, 33)\", \"line\": {\"width\": 0}, \"opacity\": 1, \"type\": \"rect\", \"x0\": \"2018-01-18\", \"x1\": \"2018-01-20\", \"xref\": \"x\", \"y0\": 0.8, \"y1\": 1.2, \"yref\": \"y\"}, {\"fillcolor\": \"rgb(37, 121, 178)\", \"line\": {\"width\": 0}, \"opacity\": 1, \"type\": \"rect\", \"x0\": \"2018-01-16\", \"x1\": \"2018-01-20\", \"xref\": \"x\", \"y0\": -0.2, \"y1\": 0.2, \"yref\": \"y\"}, {\"fillcolor\": \"rgb(242, 121, 33)\", \"line\": {\"width\": 0}, \"opacity\": 1, \"type\": \"rect\", \"x0\": \"2018-01-21\", \"x1\": \"2018-01-23\", \"xref\": \"x\", \"y0\": -0.2, \"y1\": 0.2, \"yref\": \"y\"}], \"showlegend\": false, \"title\": {\"text\": \"Gantt Chart\"}, \"width\": 900, \"xaxis\": {\"rangeselector\": {\"buttons\": [{\"count\": 7, \"label\": \"1w\", \"step\": \"day\", \"stepmode\": \"backward\"}, {\"count\": 1, \"label\": \"1m\", \"step\": \"month\", \"stepmode\": \"backward\"}, {\"count\": 6, \"label\": \"6m\", \"step\": \"month\", \"stepmode\": \"backward\"}, {\"count\": 1, \"label\": \"YTD\", \"step\": \"year\", \"stepmode\": \"todate\"}, {\"count\": 1, \"label\": \"1y\", \"step\": \"year\", \"stepmode\": \"backward\"}, {\"step\": \"all\"}]}, \"showgrid\": false, \"type\": \"date\", \"zeroline\": false}, \"yaxis\": {\"autorange\": false, \"range\": [-1, 7], \"showgrid\": false, \"ticktext\": [\"CV 5\", \"CV 4\", \"CV 3\", \"CV 2\", \"CV 1\", \"CV 0\"], \"tickvals\": [0, 1, 2, 3, 4, 5], \"zeroline\": false}}, {\"showLink\": false, \"linkText\": \"Export to plot.ly\", \"plotlyServerURL\": \"https://plot.ly\"}); \n",
       "}\n",
       "});</script>"
      ]
     },
     "metadata": {},
     "output_type": "display_data"
    }
   ],
   "source": [
    "plot_list = []\n",
    "for i, indices in enumerate(cv.split(X_train, y_train)):\n",
    "    train_mindate = target_set_pd.loc[X_train.iloc[indices[0]].index]['date'].min()\n",
    "    train_maxdate = target_set_pd.loc[X_train.iloc[indices[0]].index]['date'].max()\n",
    "    valid_mindate = target_set_pd.loc[X_train.iloc[indices[1]].index]['date'].min()\n",
    "    valid_maxdate = target_set_pd.loc[X_train.iloc[indices[1]].index]['date'].max()\n",
    "    \n",
    "    plot_list.append(dict(Task=\"CV {}\".format(i), y=5-i, Resource='Train',\n",
    "         Start=train_mindate,\n",
    "         Finish=train_maxdate))\n",
    "    plot_list.append(dict(Task=\"CV {}\".format(i), y=5-i, Resource='Valid',\n",
    "         Start=valid_mindate,\n",
    "         Finish=valid_maxdate))\n",
    "    \n",
    "colors = {'Train': '#2579B2',\n",
    "          'Valid': '#F27921',}\n",
    "\n",
    "fig = ff.create_gantt(plot_list, group_tasks=True, colors=colors, index_col='Resource')\n",
    "fig['layout']['annotations'] = [dict(x=x['Start'], y=x['y'],\n",
    "                                     text=x['Resource'], showarrow=False,\n",
    "                                     font=dict(color='white'), xanchor='left') for x in plot_list]\n",
    "\n",
    "py.iplot(fig, filename='gantt-group-tasks-together')"
   ]
  },
  {
   "cell_type": "code",
   "execution_count": 21,
   "metadata": {},
   "outputs": [
    {
     "data": {
      "text/plain": [
       "Index(['29_', '28_', '27_', '26_', '25_', '24_', '23_', '22_', '21_', '20_',\n",
       "       '19_', '18_', '17_', '16_', '15_', '14_', '13_', '12_', '11_', '10_',\n",
       "       '9_', '8_', '7_', '6_', '5_', '4_', '3_', '2_', '1_', '0_'],\n",
       "      dtype='object')"
      ]
     },
     "execution_count": 21,
     "metadata": {},
     "output_type": "execute_result"
    }
   ],
   "source": [
    "target_set_pd.index.astype(str) + \"_\""
   ]
  },
  {
   "cell_type": "code",
   "execution_count": null,
   "metadata": {},
   "outputs": [],
   "source": []
  }
 ],
 "metadata": {
  "kernelspec": {
   "display_name": "Python 3",
   "language": "python",
   "name": "python3"
  },
  "language_info": {
   "codemirror_mode": {
    "name": "ipython",
    "version": 3
   },
   "file_extension": ".py",
   "mimetype": "text/x-python",
   "name": "python",
   "nbconvert_exporter": "python",
   "pygments_lexer": "ipython3",
   "version": "3.6.2"
  },
  "toc": {
   "colors": {
    "hover_highlight": "#DAA520",
    "navigate_num": "#000000",
    "navigate_text": "#333333",
    "running_highlight": "#FF0000",
    "selected_highlight": "#FFD700",
    "sidebar_border": "#EEEEEE",
    "wrapper_background": "#FFFFFF"
   },
   "moveMenuLeft": true,
   "nav_menu": {
    "height": "12px",
    "width": "252px"
   },
   "navigate_menu": true,
   "number_sections": true,
   "sideBar": true,
   "threshold": 4,
   "toc_cell": false,
   "toc_section_display": "block",
   "toc_window_display": false,
   "widenNotebook": false
  }
 },
 "nbformat": 4,
 "nbformat_minor": 2
}
