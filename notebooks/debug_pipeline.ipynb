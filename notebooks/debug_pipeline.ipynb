{
 "cells": [
  {
   "cell_type": "markdown",
   "metadata": {},
   "source": [
    "# Debug pipeline\n",
    "\n",
    "A pipeline that has a log statement in between each step, useful for debugging a pipeline."
   ]
  },
  {
   "cell_type": "code",
   "execution_count": 1,
   "metadata": {},
   "outputs": [],
   "source": [
    "import logging\n",
    "\n",
    "import numpy as np\n",
    "import pandas as pd\n",
    "\n",
    "from sklego.transformers import RandomAdder\n",
    "from sklego.pipeline import Pipeline\n",
    "\n",
    "logging.basicConfig(\n",
    "    format=('[%(funcName)s:%(lineno)d] - %(message)s'),\n",
    "    level=logging.INFO\n",
    ")"
   ]
  },
  {
   "cell_type": "code",
   "execution_count": 2,
   "metadata": {},
   "outputs": [
    {
     "name": "stdout",
     "output_type": "stream",
     "text": [
      "Initial X:\n",
      " [[-0.16773481  0.64902899  0.16391525  0.20100636 -0.98979189]\n",
      " [-0.48282472 -0.12298425  0.38843326 -0.19128699  1.29914286]\n",
      " [-0.20224853  0.73222224  1.7676616   0.33681068  0.4259045 ]]\n"
     ]
    }
   ],
   "source": [
    "# Pipeline set-up\n",
    "n_samples, n_features = 3, 5\n",
    "X = np.random.randn(n_samples, n_features)\n",
    "y = np.arange(n_samples)\n",
    "\n",
    "steps = [\n",
    "    ('random_add1', RandomAdder(noise=1)),\n",
    "    ('random_add2', RandomAdder(noise=10)),\n",
    "    ('random_add3', RandomAdder(noise=100)),\n",
    "    ('random_add4', RandomAdder(noise=1000)),\n",
    "]\n",
    "\n",
    "print('Initial X:\\n', X)"
   ]
  },
  {
   "cell_type": "markdown",
   "metadata": {},
   "source": [
    "## Same as sklearn pipeline.\n",
    "\n",
    "This pipeline behaves exactly the same as a normal pipeline."
   ]
  },
  {
   "cell_type": "code",
   "execution_count": 3,
   "metadata": {},
   "outputs": [
    {
     "name": "stdout",
     "output_type": "stream",
     "text": [
      "Transformed X:\n",
      " [[-2.27369773e+03 -1.28385616e+03  7.54308994e+02  8.22750482e+02\n",
      "  -6.87728464e+01]\n",
      " [ 3.92726607e+02 -1.45382252e+03  5.17096026e+02  1.56225333e+03\n",
      "  -9.56081438e+02]\n",
      " [ 3.45906676e+02  9.82796448e+02  1.17405280e+02 -1.37267547e-02\n",
      "  -1.38418879e+03]]\n"
     ]
    }
   ],
   "source": [
    "pipe = Pipeline(steps)\n",
    "\n",
    "pipe.fit(X, y=y)\n",
    "X_out = pipe.transform(X)\n",
    "\n",
    "print('Transformed X:\\n', X_out)"
   ]
  },
  {
   "cell_type": "markdown",
   "metadata": {},
   "source": [
    "## Log statements\n",
    "\n",
    "Tt is possible to set a `log_callback` variable that logs in between each step.\n",
    "\n",
    "_Note: there are __three__ log statements while there are __four__ steps, because there are __three__ moments __in between__ the steps. The output can be checked outside of the pipeline._"
   ]
  },
  {
   "cell_type": "code",
   "execution_count": 4,
   "metadata": {},
   "outputs": [
    {
     "name": "stderr",
     "output_type": "stream",
     "text": [
      "[_default_log_callback:34] - [RandomAdder(noise=1, random_state=None)] shape=(3, 5) time=0:00:00.000152\n",
      "[_default_log_callback:34] - [RandomAdder(noise=10, random_state=None)] shape=(3, 5) time=0:00:00.000152\n",
      "[_default_log_callback:34] - [RandomAdder(noise=100, random_state=None)] shape=(3, 5) time=0:00:00.000112\n"
     ]
    },
    {
     "name": "stdout",
     "output_type": "stream",
     "text": [
      "Transformed X:\n",
      " [[ 1438.49835932   709.83155395  -493.03390806  1135.32602983\n",
      "   2060.47247893]\n",
      " [-1297.46102742  -449.823489   -1320.05596955   771.60161285\n",
      "   2014.15161223]\n",
      " [ -436.68625594   129.65636163   387.20585108  -528.67432801\n",
      "    344.6264161 ]]\n"
     ]
    }
   ],
   "source": [
    "pipe = Pipeline(steps, log_callback='default')\n",
    "\n",
    "pipe.fit(X, y=y)\n",
    "X_out = pipe.transform(X)\n",
    "\n",
    "print('Transformed X:\\n', X_out)"
   ]
  },
  {
   "cell_type": "markdown",
   "metadata": {},
   "source": [
    "## Set the `log_callback` function later\n",
    "\n",
    "It is possible to set the `log_callback` later then initialisation. "
   ]
  },
  {
   "cell_type": "code",
   "execution_count": 5,
   "metadata": {},
   "outputs": [
    {
     "name": "stderr",
     "output_type": "stream",
     "text": [
      "[_default_log_callback:34] - [RandomAdder(noise=1, random_state=None)] shape=(3, 5) time=0:00:00.000179\n",
      "[_default_log_callback:34] - [RandomAdder(noise=10, random_state=None)] shape=(3, 5) time=0:00:00.000147\n",
      "[_default_log_callback:34] - [RandomAdder(noise=100, random_state=None)] shape=(3, 5) time=0:00:00.000106\n"
     ]
    },
    {
     "name": "stdout",
     "output_type": "stream",
     "text": [
      "Transformed X:\n",
      " [[-1977.6463104   1379.71525581   157.89964811  -990.57296446\n",
      "    479.00164998]\n",
      " [  867.50924642  -561.88443294  1217.09638916  -916.91035666\n",
      "   -377.95658548]\n",
      " [ -583.80583492   409.07921835   130.5695047    736.60527176\n",
      "    879.80655116]]\n"
     ]
    }
   ],
   "source": [
    "pipe = Pipeline(steps)\n",
    "pipe.log_callback='default'\n",
    "\n",
    "pipe.fit(X, y=y)\n",
    "X_out = pipe.transform(X)\n",
    "\n",
    "print('Transformed X:\\n', X_out)"
   ]
  },
  {
   "cell_type": "markdown",
   "metadata": {},
   "source": [
    "## Custom `log_callback`\n",
    "\n",
    "The custom log callback function expect the output of each step, which is an tuple containing the output of the step and the step itself, and the execution time of the step."
   ]
  },
  {
   "cell_type": "code",
   "execution_count": 6,
   "metadata": {},
   "outputs": [
    {
     "name": "stderr",
     "output_type": "stream",
     "text": [
      "[log_callback:16] - [RandomAdder(noise=1, random_state=None)] shape=(3, 5) nbytes=120 time=0:00:00.000147\n",
      "[log_callback:16] - [RandomAdder(noise=10, random_state=None)] shape=(3, 5) nbytes=120 time=0:00:00.000124\n",
      "[log_callback:16] - [RandomAdder(noise=100, random_state=None)] shape=(3, 5) nbytes=120 time=0:00:00.000116\n"
     ]
    },
    {
     "name": "stdout",
     "output_type": "stream",
     "text": [
      "Transformed X:\n",
      " [[-810.89092124 -602.61828357 -384.89682475 -378.56788659  321.30563172]\n",
      " [ 587.65339826  172.10799413 -197.44491653   80.98512601 -818.76491327]\n",
      " [1357.06448433 -413.0853857   947.83964204 -261.30476274  -69.51833145]]\n"
     ]
    }
   ],
   "source": [
    "def log_callback(output, execution_time):\n",
    "    '''My custom `log_callback` function\n",
    "    \n",
    "    Parameters\n",
    "    ----------\n",
    "    output : tuple(\n",
    "            numpy.ndarray or pandas.DataFrame\n",
    "            :class:estimator or :class:transformer\n",
    "        )\n",
    "        The output of the step and a step in the pipeline.\n",
    "    execution_time : float\n",
    "        The execution time of the step.\n",
    "    '''\n",
    "    logger = logging.getLogger(__name__)\n",
    "    step_result, step = output\n",
    "    logger.info(f'[{step}] shape={step_result.shape} '\n",
    "                f'nbytes={step_result.nbytes} time={execution_time}')\n",
    "\n",
    "    \n",
    "pipe.log_callback = log_callback\n",
    "\n",
    "pipe.fit(X, y=y)\n",
    "X_out = pipe.transform(X)\n",
    "\n",
    "print('Transformed X:\\n', X_out)"
   ]
  },
  {
   "cell_type": "markdown",
   "metadata": {},
   "source": [
    "## Enough logging\n",
    "\n",
    "Remove the `log_callback` function when not needed anymore."
   ]
  },
  {
   "cell_type": "code",
   "execution_count": 7,
   "metadata": {},
   "outputs": [
    {
     "name": "stdout",
     "output_type": "stream",
     "text": [
      "Transformed X:\n",
      " [[ -797.78866489   821.4417173   -342.52097735   251.97853627\n",
      "  -1899.29137337]\n",
      " [ -641.45239757  -343.39244121  -448.69207308  -977.23496373\n",
      "   1425.05702118]\n",
      " [   -1.89991498  -373.66866774 -1859.99260412  1053.19243903\n",
      "   -277.31909253]]\n"
     ]
    }
   ],
   "source": [
    "pipe.log_callback = None\n",
    "\n",
    "pipe.fit(X, y=y)\n",
    "X_out = pipe.transform(X)\n",
    "\n",
    "print('Transformed X:\\n', X_out)"
   ]
  }
 ],
 "metadata": {
  "kernelspec": {
   "display_name": "Python 3",
   "language": "python",
   "name": "python3"
  },
  "language_info": {
   "codemirror_mode": {
    "name": "ipython",
    "version": 3
   },
   "file_extension": ".py",
   "mimetype": "text/x-python",
   "name": "python",
   "nbconvert_exporter": "python",
   "pygments_lexer": "ipython3",
   "version": "3.6.5"
  }
 },
 "nbformat": 4,
 "nbformat_minor": 2
}
