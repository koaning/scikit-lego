{
 "cells": [
  {
   "cell_type": "code",
   "execution_count": 7,
   "metadata": {},
   "outputs": [
    {
     "data": {
      "text/plain": [
       "function"
      ]
     },
     "execution_count": 7,
     "metadata": {},
     "output_type": "execute_result"
    }
   ],
   "source": [
    "def a():\n",
    "    return\n",
    "\n",
    "type(a)"
   ]
  },
  {
   "cell_type": "code",
   "execution_count": 1,
   "metadata": {},
   "outputs": [],
   "source": [
    "%reload_ext autoreload\n",
    "%autoreload 2"
   ]
  },
  {
   "cell_type": "code",
   "execution_count": 2,
   "metadata": {},
   "outputs": [],
   "source": [
    "import logging\n",
    "\n",
    "import numpy as np\n",
    "import pandas as pd\n",
    "from sklearn.pipeline import Pipeline\n",
    "\n",
    "from sklego.transformers import RandomAdder\n",
    "from sklego.debug_pipeline import DebugPipeline\n",
    "\n",
    "logging.basicConfig(\n",
    "    format=('[%(funcName)s:%(lineno)d] - %(message)s'),\n",
    "    level=logging.INFO\n",
    ")"
   ]
  },
  {
   "cell_type": "code",
   "execution_count": 3,
   "metadata": {},
   "outputs": [
    {
     "name": "stdout",
     "output_type": "stream",
     "text": [
      "X before:           0         1         2         3         4\n",
      "0 -0.940049 -0.075901  0.639286  0.132275  1.602430\n",
      "1 -0.895288 -1.990152 -1.011314  0.066796 -0.472767\n",
      "2 -0.894858 -1.162270  1.709011  0.236347 -2.078978\n",
      "3  2.185371  1.339786  0.246841 -1.329772 -1.062015\n",
      "4  1.202885 -0.579886 -0.230075  0.791553  0.617815\n",
      "5  0.232327 -0.563682  0.435348 -1.613973  1.761367\n",
      "6  0.323429  0.769809  0.478552  0.740840  0.116635\n",
      "7  0.718012  0.601780 -0.837163 -0.725796 -1.190399\n",
      "8 -0.461161 -1.125952  0.315964 -0.067506 -0.647913\n",
      "9  0.255035  1.143398  0.206254 -0.199667 -0.323808\n",
      "X after: \n",
      "[[ -87.10882477 -133.36539532  101.71450612  207.61903647   37.90230601]\n",
      " [ 212.0240614   250.6199743   131.66940743 -299.06546697   44.57263835]\n",
      " [-115.91596354  -47.67033042  395.27175579   -6.99635723  -26.72416042]\n",
      " [-208.08483167  324.28995645 -287.30349345 -101.03733801  487.84684609]\n",
      " [ -67.73895898  -42.39044488 -128.11222684 -220.99077831  107.26380853]\n",
      " [-149.575734    -46.71882313  -64.55530049   -6.62709464 -199.6732081 ]\n",
      " [ 274.2792736   122.86731155  174.6282632   296.12247384  -66.7907997 ]\n",
      " [  25.43322879 -134.0478023  -210.88370482  154.16581838  140.3130443 ]\n",
      " [-162.84637927  106.31890687   75.33614167 -108.35285247 -149.43859023]\n",
      " [-440.09908656 -381.99944717 -195.86399032  -85.58307545   25.84604711]]\n"
     ]
    }
   ],
   "source": [
    "X = pd.DataFrame(np.random.randn(10, 5))\n",
    "y = np.arange(10)\n",
    "\n",
    "pipe_orig = Pipeline([\n",
    "    ('random_add1', RandomAdder(noise=100)),\n",
    "    ('random_add2', RandomAdder(noise=100)),\n",
    "    ('random_add3', RandomAdder(noise=100)),\n",
    "    ('random_add4', RandomAdder(noise=100)),\n",
    "])\n",
    "\n",
    "print(f'X before: {X}')\n",
    "pipe_orig.fit(X, y=y)\n",
    "X_out = pipe_orig.transform(X)\n",
    "print(f'X after: \\n{X_out}')"
   ]
  },
  {
   "cell_type": "code",
   "execution_count": 4,
   "metadata": {},
   "outputs": [
    {
     "name": "stderr",
     "output_type": "stream",
     "text": [
      "[wrapper:24] - [RandomAdder(noise=1, random_state=None)] shape=(10, 5) time=0:00:00.001068\n",
      "[wrapper:24] - [RandomAdder(noise=10, random_state=None)] shape=(10, 5) time=0:00:00.000185\n",
      "[wrapper:24] - [RandomAdder(noise=100, random_state=None)] shape=(10, 5) time=0:00:00.000173\n"
     ]
    }
   ],
   "source": [
    "X = pd.DataFrame(np.random.randn(10, 5))\n",
    "y = np.arange(10)\n",
    "\n",
    "pipe = DebugPipeline([\n",
    "#     ('pipeline_massive', pipe_orig),\n",
    "    ('random_add1', RandomAdder(noise=1)),\n",
    "    ('random_add2', RandomAdder(noise=10)),\n",
    "    ('random_add3', RandomAdder(noise=100)),\n",
    "    ('random_add4', RandomAdder(noise=1000)),\n",
    "])\n",
    "\n",
    "# print(f'X before: {X}')\n",
    "pipe.fit(X, y=y)\n",
    "X_out = pipe.transform(X)\n",
    "# print(f'X after: \\n{X_out}')"
   ]
  },
  {
   "cell_type": "code",
   "execution_count": 5,
   "metadata": {},
   "outputs": [
    {
     "name": "stderr",
     "output_type": "stream",
     "text": [
      "[wrapper:24] - [foo] shape=(3,) time=0:00:00.000014\n"
     ]
    },
    {
     "data": {
      "text/plain": [
       "(array([0, 1, 2]), 'foo')"
      ]
     },
     "execution_count": 5,
     "metadata": {},
     "output_type": "execute_result"
    }
   ],
   "source": [
    "f = pipe.memory.cache(lambda df: (np.array([0, 1, 2]), 'foo'))\n",
    "f(X)"
   ]
  }
 ],
 "metadata": {
  "kernelspec": {
   "display_name": "Python 3",
   "language": "python",
   "name": "python3"
  },
  "language_info": {
   "codemirror_mode": {
    "name": "ipython",
    "version": 3
   },
   "file_extension": ".py",
   "mimetype": "text/x-python",
   "name": "python",
   "nbconvert_exporter": "python",
   "pygments_lexer": "ipython3",
   "version": "3.6.5"
  }
 },
 "nbformat": 4,
 "nbformat_minor": 2
}
