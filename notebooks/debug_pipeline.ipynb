{
 "cells": [
  {
   "cell_type": "markdown",
   "metadata": {},
   "source": [
    "# Debug pipeline\n",
    "\n",
    "A pipeline that has a log statement in between each step, useful for debugging a pipeline."
   ]
  },
  {
   "cell_type": "code",
   "execution_count": 1,
   "metadata": {},
   "outputs": [],
   "source": [
    "import logging\n",
    "\n",
    "import numpy as np\n",
    "import pandas as pd\n",
    "\n",
    "from sklego.transformers import RandomAdder\n",
    "from sklego.pipeline import DebugPipeline\n",
    "\n",
    "logging.basicConfig(\n",
    "    format=('[%(funcName)s:%(lineno)d] - %(message)s'),\n",
    "    level=logging.INFO\n",
    ")"
   ]
  },
  {
   "cell_type": "code",
   "execution_count": 2,
   "metadata": {},
   "outputs": [
    {
     "name": "stdout",
     "output_type": "stream",
     "text": [
      "Initial X:\n",
      " [[ 0.75427933 -0.1765648   0.76545654  0.06644578  0.13356564]\n",
      " [-0.40342825  1.66331045 -1.14118871  2.1294511   2.13492511]\n",
      " [ 2.23492233 -0.04990652  0.95755557  0.49672181 -1.34275932]]\n"
     ]
    }
   ],
   "source": [
    "# DebugPipeline set-up\n",
    "n_samples, n_features = 3, 5\n",
    "X = np.random.randn(n_samples, n_features)\n",
    "y = np.arange(n_samples)\n",
    "\n",
    "steps = [\n",
    "    ('random_add1', RandomAdder(noise=1)),\n",
    "    ('random_add2', RandomAdder(noise=10)),\n",
    "    ('random_add3', RandomAdder(noise=100)),\n",
    "    ('random_add4', RandomAdder(noise=1000)),\n",
    "]\n",
    "\n",
    "print('Initial X:\\n', X)"
   ]
  },
  {
   "cell_type": "markdown",
   "metadata": {},
   "source": [
    "## Same as sklearn pipeline.\n",
    "\n",
    "This pipeline behaves exactly the same as a normal pipeline."
   ]
  },
  {
   "cell_type": "code",
   "execution_count": 3,
   "metadata": {},
   "outputs": [
    {
     "name": "stdout",
     "output_type": "stream",
     "text": [
      "Transformed X:\n",
      " [[  581.89748063  -202.99292353 -1994.46690041  1484.36584826\n",
      "    198.24325579]\n",
      " [ -682.13801299  -843.94945827  -932.9329898  -1707.65176811\n",
      "   -536.54733408]\n",
      " [ -123.8539221    392.98146704   772.3283302   -514.12456258\n",
      "    485.99260542]]\n"
     ]
    }
   ],
   "source": [
    "pipe = DebugPipeline(steps)\n",
    "\n",
    "pipe.fit(X, y=y)\n",
    "X_out = pipe.transform(X)\n",
    "\n",
    "print('Transformed X:\\n', X_out)"
   ]
  },
  {
   "cell_type": "markdown",
   "metadata": {},
   "source": [
    "## Log statements\n",
    "\n",
    "Tt is possible to set a `log_callback` variable that logs in between each step.\n",
    "\n",
    "_Note: there are __three__ log statements while there are __four__ steps, because there are __three__ moments __in between__ the steps. The output can be checked outside of the pipeline._"
   ]
  },
  {
   "cell_type": "code",
   "execution_count": 4,
   "metadata": {},
   "outputs": [
    {
     "name": "stderr",
     "output_type": "stream",
     "text": [
      "[default_log_callback:30] - [RandomAdder(noise=1, random_state=None)] shape=(3, 5) time=0:00:00\n",
      "[default_log_callback:30] - [RandomAdder(noise=10, random_state=None)] shape=(3, 5) time=0:00:00\n",
      "[default_log_callback:30] - [RandomAdder(noise=100, random_state=None)] shape=(3, 5) time=0:00:00.000988\n"
     ]
    },
    {
     "name": "stdout",
     "output_type": "stream",
     "text": [
      "Transformed X:\n",
      " [[ -686.71389975   271.47560327  2002.65711584  -737.90705096\n",
      "  -1753.05338191]\n",
      " [ 1236.59625233    52.44718828    62.90009499   149.36996119\n",
      "   1049.66574693]\n",
      " [    4.51270124  -615.70743355   710.07706082 -1302.03714759\n",
      "  -1464.05506189]]\n"
     ]
    }
   ],
   "source": [
    "pipe = DebugPipeline(steps, log_callback='default')\n",
    "\n",
    "pipe.fit(X, y=y)\n",
    "X_out = pipe.transform(X)\n",
    "\n",
    "print('Transformed X:\\n', X_out)"
   ]
  },
  {
   "cell_type": "markdown",
   "metadata": {},
   "source": [
    "## Set the `log_callback` function later\n",
    "\n",
    "It is possible to set the `log_callback` later then initialisation. "
   ]
  },
  {
   "cell_type": "code",
   "execution_count": 5,
   "metadata": {},
   "outputs": [
    {
     "name": "stderr",
     "output_type": "stream",
     "text": [
      "[default_log_callback:30] - [RandomAdder(noise=1, random_state=None)] shape=(3, 5) time=0:00:00.000501\n",
      "[default_log_callback:30] - [RandomAdder(noise=10, random_state=None)] shape=(3, 5) time=0:00:00.000501\n",
      "[default_log_callback:30] - [RandomAdder(noise=100, random_state=None)] shape=(3, 5) time=0:00:00.000499\n"
     ]
    },
    {
     "name": "stdout",
     "output_type": "stream",
     "text": [
      "Transformed X:\n",
      " [[ -374.38480872  -240.23166335  -710.89421344  1525.9636747\n",
      "    477.87926037]\n",
      " [-1871.5452752    610.23963148   812.64531568  -210.11518201\n",
      "    477.76414093]\n",
      " [  325.87617056  -786.16541913   449.30430885   817.06409844\n",
      "   -526.57647993]]\n"
     ]
    }
   ],
   "source": [
    "pipe = DebugPipeline(steps)\n",
    "pipe.log_callback='default'\n",
    "\n",
    "pipe.fit(X, y=y)\n",
    "X_out = pipe.transform(X)\n",
    "\n",
    "print('Transformed X:\\n', X_out)"
   ]
  },
  {
   "cell_type": "markdown",
   "metadata": {},
   "source": [
    "## Custom `log_callback`\n",
    "\n",
    "The custom log callback function expect the output of each step, which is an tuple containing the output of the step and the step itself, and the execution time of the step."
   ]
  },
  {
   "cell_type": "code",
   "execution_count": 6,
   "metadata": {},
   "outputs": [
    {
     "name": "stderr",
     "output_type": "stream",
     "text": [
      "[log_callback:16] - [RandomAdder(noise=1, random_state=None)] shape=(3, 5) nbytes=120 time=0:00:00\n",
      "[log_callback:16] - [RandomAdder(noise=10, random_state=None)] shape=(3, 5) nbytes=120 time=0:00:00.001001\n",
      "[log_callback:16] - [RandomAdder(noise=100, random_state=None)] shape=(3, 5) nbytes=120 time=0:00:00\n"
     ]
    },
    {
     "name": "stdout",
     "output_type": "stream",
     "text": [
      "Transformed X:\n",
      " [[  -38.312032   -1130.76782711  -556.23344658   927.0638022\n",
      "     65.34085884]\n",
      " [-1159.7336547    466.12292756   356.87118398   464.31784642\n",
      "  -1317.55240566]\n",
      " [  825.96989647  1487.68175185 -1069.94645652   907.10005847\n",
      "   -341.29784009]]\n"
     ]
    }
   ],
   "source": [
    "def log_callback(output, execution_time):\n",
    "    '''My custom `log_callback` function\n",
    "    \n",
    "    Parameters\n",
    "    ----------\n",
    "    output : tuple(\n",
    "            numpy.ndarray or pandas.DataFrame\n",
    "            :class:estimator or :class:transformer\n",
    "        )\n",
    "        The output of the step and a step in the pipeline.\n",
    "    execution_time : float\n",
    "        The execution time of the step.\n",
    "    '''\n",
    "    logger = logging.getLogger(__name__)\n",
    "    step_result, step = output\n",
    "    logger.info(f'[{step}] shape={step_result.shape} '\n",
    "                f'nbytes={step_result.nbytes} time={execution_time}')\n",
    "\n",
    "    \n",
    "pipe.log_callback = log_callback\n",
    "\n",
    "pipe.fit(X, y=y)\n",
    "X_out = pipe.transform(X)\n",
    "\n",
    "print('Transformed X:\\n', X_out)"
   ]
  },
  {
   "cell_type": "markdown",
   "metadata": {},
   "source": [
    "## Enough logging\n",
    "\n",
    "Remove the `log_callback` function when not needed anymore."
   ]
  },
  {
   "cell_type": "code",
   "execution_count": 7,
   "metadata": {},
   "outputs": [
    {
     "name": "stdout",
     "output_type": "stream",
     "text": [
      "Transformed X:\n",
      " [[ -775.85356537  -496.65830314  -213.41661237 -1206.46459177\n",
      "    631.61716953]\n",
      " [ -625.1003683   -553.36120332  -756.82449132  -325.46883157\n",
      "  -2369.63665279]\n",
      " [   91.73528849  1322.85185649  -617.08321405  1161.56476922\n",
      "  -1840.6646999 ]]\n"
     ]
    }
   ],
   "source": [
    "pipe.log_callback = None\n",
    "\n",
    "pipe.fit(X, y=y)\n",
    "X_out = pipe.transform(X)\n",
    "\n",
    "print('Transformed X:\\n', X_out)"
   ]
  }
 ],
 "metadata": {
  "kernelspec": {
   "display_name": "Python 3",
   "language": "python",
   "name": "python3"
  },
  "language_info": {
   "codemirror_mode": {
    "name": "ipython",
    "version": 3
   },
   "file_extension": ".py",
   "mimetype": "text/x-python",
   "name": "python",
   "nbconvert_exporter": "python",
   "pygments_lexer": "ipython3",
   "version": "3.7.2"
  }
 },
 "nbformat": 4,
 "nbformat_minor": 2
}
