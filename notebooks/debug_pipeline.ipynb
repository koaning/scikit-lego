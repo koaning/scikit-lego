{
 "cells": [
  {
   "cell_type": "code",
   "execution_count": 10,
   "metadata": {},
   "outputs": [],
   "source": [
    "import datetime as dt\n",
    "from functools import wraps, partialmethod\n",
    "import logging\n",
    "import inspect\n",
    "from itertools import islice\n",
    "\n",
    "import numpy as np\n",
    "import pandas as pd\n",
    "\n",
    "from sklearn.utils.validation import check_memory\n",
    "from sklearn.externals.joblib.memory import Memory\n",
    "from sklearn.pipeline import Pipeline\n",
    "\n",
    "from sklego.transformers import RandomAdder\n",
    "\n",
    "logging.basicConfig(\n",
    "    format=('[%(funcName)s:%(lineno)d] - %(message)s'),\n",
    "    level=logging.INFO\n",
    ")"
   ]
  },
  {
   "cell_type": "code",
   "execution_count": 22,
   "metadata": {},
   "outputs": [],
   "source": [
    "def _default_log_step(func):                                                                                       \n",
    "    @wraps(func)\n",
    "    def wrapper(*args, **kwargs):\n",
    "        logger = logging.getLogger(inspect.stack()[1].function)                                           \n",
    "        \n",
    "        tic = dt.datetime.now()\n",
    "        out, step = func(*args, **kwargs)\n",
    "        toc = str(dt.datetime.now() - tic)                                                                \n",
    "        \n",
    "        logger.info(f'[{step}] shape={out.shape} time={toc}')                                 \n",
    "        return out, step                                                                                \n",
    "    return wrapper\n",
    "    \n",
    "\n",
    "def _log_step_cache(self, func=None, *args, log_step=_default_log_step, **kwargs):\n",
    "    if callable(func):\n",
    "        func = log_step(func)\n",
    "    return self._cache(func=func, *args, **kwargs)\n",
    "\n",
    "\n",
    "class DebugPipeline(Pipeline):\n",
    "        \n",
    "    def __init__(self, steps, memory=None, log_step=_default_log_step):\n",
    "        memory = check_memory(memory)\n",
    "        memory._cache = memory.cache\n",
    "        memory.cache = _log_step_cache.__get__(memory, memory.__class__)\n",
    "        \n",
    "        super().__init__(steps, memory=memory)"
   ]
  },
  {
   "cell_type": "code",
   "execution_count": 23,
   "metadata": {},
   "outputs": [
    {
     "name": "stdout",
     "output_type": "stream",
     "text": [
      "X before:           0         1         2         3         4\n",
      "0  0.068480  0.517247 -0.122100 -0.624834  0.765233\n",
      "1  2.643982  0.662962 -0.380489 -0.279044 -1.604832\n",
      "2  1.204842 -0.480278 -0.111312 -0.764096  0.309626\n",
      "3 -1.073669  0.523912 -0.723988 -0.259512  1.129653\n",
      "4 -0.786540 -0.626178  1.189319 -1.811660 -0.857588\n",
      "5  2.316485  1.323452  1.669453  0.636582  0.923132\n",
      "6  0.601322  0.948684  0.314898  1.073819  0.168835\n",
      "7  0.267268 -0.241968  0.840464  0.507223  2.934331\n",
      "8  1.319100  0.806463 -1.041216 -0.073117  0.145911\n",
      "9  1.376432 -0.279611 -0.560682  0.990296 -0.358120\n",
      "X after: \n",
      "[[ -49.68871661 -177.29822815 -163.97254004 -161.76807657  160.60946758]\n",
      " [-113.36141529  399.2543983   -13.04329446 -184.16556957 -218.07789254]\n",
      " [ 273.4764539   244.96439522  214.85633084   46.44443537 -254.06816057]\n",
      " [ 105.17324678   57.65085706    4.46803883  122.26636933  277.88786634]\n",
      " [ 286.1639509   109.16647305  167.80442436 -244.99012522   27.62922914]\n",
      " [ -91.38494973   19.19929135 -298.33501819   49.22137795  186.38413088]\n",
      " [ -14.4204015   251.66621824 -324.90475597 -130.653742      3.40667708]\n",
      " [ 163.37274263   74.951572    -41.40182642  431.43641956  112.24787215]\n",
      " [  49.28201869  195.48003019  409.14780421   64.53741182 -229.67837739]\n",
      " [ 170.16184327   -9.66497605 -171.50908304   -3.4863097     4.00228922]]\n"
     ]
    }
   ],
   "source": [
    "X = pd.DataFrame(np.random.randn(10, 5))\n",
    "y = np.arange(10)\n",
    "\n",
    "pipe_orig = Pipeline([\n",
    "    ('random_add1', RandomAdder(noise=100)),\n",
    "    ('random_add2', RandomAdder(noise=100)),\n",
    "    ('random_add3', RandomAdder(noise=100)),\n",
    "    ('random_add4', RandomAdder(noise=100)),\n",
    "])\n",
    "\n",
    "print(f'X before: {X}')\n",
    "pipe_orig.fit(X, y=y)\n",
    "X_out = pipe_orig.transform(X)\n",
    "print(f'X after: \\n{X_out}')"
   ]
  },
  {
   "cell_type": "code",
   "execution_count": 24,
   "metadata": {},
   "outputs": [
    {
     "name": "stderr",
     "output_type": "stream",
     "text": [
      "[wrapper:10] - [Pipeline(memory=None,\n",
      "     steps=[('random_add1', RandomAdder(noise=100, random_state=None)), ('random_add2', RandomAdder(noise=100, random_state=None)), ('random_add3', RandomAdder(noise=100, random_state=None)), ('random_add4', RandomAdder(noise=100, random_state=None))])] shape=(10, 5) time=0:00:00.004066\n",
      "[wrapper:10] - [RandomAdder(noise=1, random_state=None)] shape=(10, 5) time=0:00:00.000244\n",
      "[wrapper:10] - [RandomAdder(noise=10, random_state=None)] shape=(10, 5) time=0:00:00.000217\n",
      "[wrapper:10] - [RandomAdder(noise=100, random_state=None)] shape=(10, 5) time=0:00:00.000293\n"
     ]
    }
   ],
   "source": [
    "X = pd.DataFrame(np.random.randn(10, 5))\n",
    "y = np.arange(10)\n",
    "\n",
    "pipe = DebugPipeline([\n",
    "    ('pipeline_massive', pipe_orig),\n",
    "    ('random_add1', RandomAdder(noise=1)),\n",
    "    ('random_add2', RandomAdder(noise=10)),\n",
    "    ('random_add3', RandomAdder(noise=100)),\n",
    "    ('random_add4', RandomAdder(noise=1000)),\n",
    "])\n",
    "\n",
    "# print(f'X before: {X}')\n",
    "pipe.fit(X, y=y)\n",
    "X_out = pipe.transform(X)\n",
    "# print(f'X after: \\n{X_out}')"
   ]
  },
  {
   "cell_type": "code",
   "execution_count": 25,
   "metadata": {},
   "outputs": [
    {
     "name": "stderr",
     "output_type": "stream",
     "text": [
      "[wrapper:10] - [foo] shape=(3,) time=0:00:00.000034\n"
     ]
    },
    {
     "data": {
      "text/plain": [
       "(array([0, 1, 2]), 'foo')"
      ]
     },
     "execution_count": 25,
     "metadata": {},
     "output_type": "execute_result"
    }
   ],
   "source": [
    "f = pipe.memory.cache(lambda df: (np.array([0, 1, 2]), 'foo'))\n",
    "f(X)"
   ]
  },
  {
   "cell_type": "code",
   "execution_count": null,
   "metadata": {},
   "outputs": [],
   "source": [
    "for i, name, bar in pipe._iter():\n",
    "    print(i, name, bar)"
   ]
  },
  {
   "cell_type": "code",
   "execution_count": null,
   "metadata": {},
   "outputs": [],
   "source": []
  }
 ],
 "metadata": {
  "kernelspec": {
   "display_name": "Python 3",
   "language": "python",
   "name": "python3"
  },
  "language_info": {
   "codemirror_mode": {
    "name": "ipython",
    "version": 3
   },
   "file_extension": ".py",
   "mimetype": "text/x-python",
   "name": "python",
   "nbconvert_exporter": "python",
   "pygments_lexer": "ipython3",
   "version": "3.6.5"
  }
 },
 "nbformat": 4,
 "nbformat_minor": 2
}
