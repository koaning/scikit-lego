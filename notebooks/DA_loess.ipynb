{
 "cells": [
  {
   "cell_type": "markdown",
   "metadata": {},
   "source": [
    "# Dummy data\n",
    "**Goal**: Create dummy data to test the estimator on"
   ]
  },
  {
   "cell_type": "code",
   "execution_count": 5,
   "metadata": {},
   "outputs": [
    {
     "name": "stdout",
     "output_type": "stream",
     "text": [
      "The autoreload extension is already loaded. To reload it, use:\n",
      "  %reload_ext autoreload\n"
     ]
    }
   ],
   "source": [
    "%load_ext autoreload\n",
    "%autoreload 2"
   ]
  },
  {
   "cell_type": "code",
   "execution_count": 6,
   "metadata": {},
   "outputs": [],
   "source": [
    "from sklego.loess import LoessSmoother, random_x, generate_noisy_sine_data, plot_windows\n",
    "import numpy as np\n",
    "from sklearn.linear_model import LinearRegression\n",
    "import matplotlib.pyplot as plt"
   ]
  },
  {
   "cell_type": "code",
   "execution_count": 97,
   "metadata": {
    "scrolled": false
   },
   "outputs": [
    {
     "ename": "AttributeError",
     "evalue": "'LoessSmoother' object has no attribute 'predict'",
     "output_type": "error",
     "traceback": [
      "\u001b[0;31m---------------------------------------------------------------------------\u001b[0m",
      "\u001b[0;31mAttributeError\u001b[0m                            Traceback (most recent call last)",
      "\u001b[0;32m<ipython-input-97-457f80eba566>\u001b[0m in \u001b[0;36m<module>\u001b[0;34m()\u001b[0m\n\u001b[1;32m     12\u001b[0m                          fraction=.2)\n\u001b[1;32m     13\u001b[0m \u001b[0;34m\u001b[0m\u001b[0m\n\u001b[0;32m---> 14\u001b[0;31m \u001b[0msmoother\u001b[0m\u001b[0;34m.\u001b[0m\u001b[0mfit\u001b[0m\u001b[0;34m(\u001b[0m\u001b[0mx\u001b[0m\u001b[0;34m,\u001b[0m\u001b[0my\u001b[0m\u001b[0;34m)\u001b[0m\u001b[0;34m.\u001b[0m\u001b[0mpredict\u001b[0m\u001b[0;34m(\u001b[0m\u001b[0mx\u001b[0m\u001b[0;34m)\u001b[0m\u001b[0;34m\u001b[0m\u001b[0m\n\u001b[0m\u001b[1;32m     15\u001b[0m \u001b[0;34m\u001b[0m\u001b[0m\n\u001b[1;32m     16\u001b[0m \u001b[0;34m\u001b[0m\u001b[0m\n",
      "\u001b[0;31mAttributeError\u001b[0m: 'LoessSmoother' object has no attribute 'predict'"
     ]
    }
   ],
   "source": [
    "np.random.seed(0)\n",
    "noise_std=2\n",
    "x, y = generate_noisy_sine_data(noise_std)\n",
    "model = LinearRegression()\n",
    "\n",
    "smoother = LoessSmoother(model=None,\n",
    "                         n_degree=3,\n",
    "                         transformer_type=False,\n",
    "                         window_method='fixed',\n",
    "                         window_size=6,\n",
    "                         step_size=.1,\n",
    "                         fraction=.2)\n",
    "\n",
    "smoother.fit(x,y).predict(x)\n",
    "\n",
    "\n",
    "# plot_windows(x,y, smoother.x_focal_base, smoother.y_focal_base, smoother.indices)\n",
    "# smoother.transform(x)"
   ]
  },
  {
   "cell_type": "markdown",
   "metadata": {},
   "source": [
    "# Full plot"
   ]
  },
  {
   "cell_type": "code",
   "execution_count": 92,
   "metadata": {},
   "outputs": [
    {
     "data": {
      "text/plain": [
       "<matplotlib.collections.PathCollection at 0x12f52e390>"
      ]
     },
     "execution_count": 92,
     "metadata": {},
     "output_type": "execute_result"
    },
    {
     "data": {
      "image/png": "[encoded data removed]",
      "text/plain": [
       "<Figure size 432x288 with 1 Axes>"
      ]
     },
     "metadata": {
      "needs_background": "light"
     },
     "output_type": "display_data"
    }
   ],
   "source": [
    "plt.scatter(x,y)\n",
    "plt.scatter(smoother.x_focal_base, smoother.y_focal_base[1:])"
   ]
  },
  {
   "cell_type": "markdown",
   "metadata": {},
   "source": [
    "# Tomi's code"
   ]
  },
  {
   "cell_type": "code",
   "execution_count": null,
   "metadata": {},
   "outputs": [],
   "source": [
    "x1 = np.linspace(0, 100, 50)\n",
    "x2 = np.linspace(150, 350, 100)\n",
    "x = np.append(x1,x2)\n",
    "# x = np.random.normal(loc=-100, scale=10, size=100) + np.random.normal(loc=100, scale=10, size=100)\n",
    "y = np.sin(x/20) + np.random.normal(0, 0.3, size=x.shape)\n",
    "\n",
    "plt.scatter(x,y)"
   ]
  },
  {
   "cell_type": "code",
   "execution_count": null,
   "metadata": {},
   "outputs": [],
   "source": [
    "estimator1 = LoessSmoother(model=None,\n",
    "                         n_degree=1,\n",
    "                         transform=True,\n",
    "                         window_method='knn_symmetric',\n",
    "                         window_size=20,\n",
    "                         step_size=.2,\n",
    "                         fraction=.4)\n",
    "y_new1 = estimator1.fit(x, y).transform(x)\n",
    "\n",
    "# estimator2 = LoessSmoother(point_extraction='symmetric', p_degree=3, frac=0.4)\n",
    "# y_new2 = estimator2.fit(x, y).transform(x)\n",
    "\n",
    "# estimator3 = LoessSmoother(point_extraction='knn', p_degree=1, frac=0.4)\n",
    "# y_new3 = estimator3.fit(x, y).transform(x)\n",
    "\n",
    "# estimator4 = LoessSmoother(point_extraction='knn', p_degree=3, frac=0.4)\n",
    "# y_new4 = estimator4.fit(x, y).transform(x)"
   ]
  },
  {
   "cell_type": "code",
   "execution_count": null,
   "metadata": {},
   "outputs": [],
   "source": [
    "fig, ax = plt.subplots(figsize=(15,8))\n",
    "\n",
    "ax.scatter(x, y)\n",
    "\n",
    "xs = np.linspace(-20, 120)\n",
    "ax.plot(x, y_new1, '--', label='symmetric linear') \n",
    "ax.plot(x, y_new2, '--', label='symmetric poly3') \n",
    "ax.plot(x, y_new3, '--', label='knn linear') \n",
    "ax.plot(x, y_new4, '--', label='knn poly 3') \n",
    "\n",
    "plt.legend()"
   ]
  },
  {
   "cell_type": "code",
   "execution_count": null,
   "metadata": {},
   "outputs": [],
   "source": []
  }
 ],
 "metadata": {
  "kernelspec": {
   "display_name": "Python 3",
   "language": "python",
   "name": "python3"
  },
  "language_info": {
   "codemirror_mode": {
    "name": "ipython",
    "version": 3
   },
   "file_extension": ".py",
   "mimetype": "text/x-python",
   "name": "python",
   "nbconvert_exporter": "python",
   "pygments_lexer": "ipython3",
   "version": "3.7.0"
  }
 },
 "nbformat": 4,
 "nbformat_minor": 2
}
