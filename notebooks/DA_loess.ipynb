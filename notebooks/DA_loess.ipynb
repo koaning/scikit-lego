{
 "cells": [
  {
   "cell_type": "markdown",
   "metadata": {},
   "source": [
    "# Dummy data\n",
    "**Goal**: Create dummy data to test the estimator on"
   ]
  },
  {
   "cell_type": "code",
   "execution_count": 1,
   "metadata": {},
   "outputs": [],
   "source": [
    "%load_ext autoreload\n",
    "%autoreload 2"
   ]
  },
  {
   "cell_type": "code",
   "execution_count": 9,
   "metadata": {},
   "outputs": [],
   "source": [
    "from sklego.loess import LoessSmoother, random_x, generate_noisy_sine_data, plot_windows\n",
    "import numpy as np\n",
    "from sklearn.linear_model import LinearRegression\n",
    "import matplotlib.pyplot as plt"
   ]
  },
  {
   "cell_type": "code",
   "execution_count": 18,
   "metadata": {
    "scrolled": false
   },
   "outputs": [
    {
     "data": {
      "text/plain": [
       "array(2.)"
      ]
     },
     "execution_count": 18,
     "metadata": {},
     "output_type": "execute_result"
    }
   ],
   "source": [
    "np.random.seed(0)\n",
    "noise_std=2\n",
    "x, y = generate_noisy_sine_data(noise_std)\n",
    "model = LinearRegression()\n",
    "\n",
    "smoother = LoessSmoother(model=model,\n",
    "                         transform=False,\n",
    "                         window_method='closest',\n",
    "                         fixed_window=2,\n",
    "                         step_size=.2,\n",
    "                         n_points=10)\n",
    "\n",
    "smoother.fit(x,y)\n",
    "\n",
    "smoother.model_per_window\n",
    "# plot_windows(x,y, smoother.x_focal_base, smoother.y_focal_base, smoother.indices)"
   ]
  },
  {
   "cell_type": "markdown",
   "metadata": {},
   "source": [
    "# Full plot"
   ]
  },
  {
   "cell_type": "code",
   "execution_count": 11,
   "metadata": {},
   "outputs": [
    {
     "ename": "ValueError",
     "evalue": "x and y must be the same size",
     "output_type": "error",
     "traceback": [
      "\u001b[0;31m---------------------------------------------------------------------------\u001b[0m",
      "\u001b[0;31mValueError\u001b[0m                                Traceback (most recent call last)",
      "\u001b[0;32m<ipython-input-11-0383e7199ba8>\u001b[0m in \u001b[0;36m<module>\u001b[0;34m()\u001b[0m\n\u001b[1;32m      1\u001b[0m \u001b[0mplt\u001b[0m\u001b[0;34m.\u001b[0m\u001b[0mscatter\u001b[0m\u001b[0;34m(\u001b[0m\u001b[0mx\u001b[0m\u001b[0;34m,\u001b[0m \u001b[0my\u001b[0m\u001b[0;34m)\u001b[0m\u001b[0;34m\u001b[0m\u001b[0m\n\u001b[0;32m----> 2\u001b[0;31m \u001b[0mplt\u001b[0m\u001b[0;34m.\u001b[0m\u001b[0mscatter\u001b[0m\u001b[0;34m(\u001b[0m\u001b[0msmoother\u001b[0m\u001b[0;34m.\u001b[0m\u001b[0mx_focal_base\u001b[0m\u001b[0;34m,\u001b[0m\u001b[0msmoother\u001b[0m\u001b[0;34m.\u001b[0m\u001b[0my_focal_base\u001b[0m\u001b[0;34m,\u001b[0m \u001b[0mc\u001b[0m\u001b[0;34m=\u001b[0m\u001b[0;34m'r'\u001b[0m\u001b[0;34m,\u001b[0m \u001b[0mmarker\u001b[0m\u001b[0;34m=\u001b[0m\u001b[0;34m'.'\u001b[0m\u001b[0;34m)\u001b[0m\u001b[0;34m\u001b[0m\u001b[0m\n\u001b[0m",
      "\u001b[0;32m~/Development/hotsbot/venv/lib/python3.7/site-packages/matplotlib/pyplot.py\u001b[0m in \u001b[0;36mscatter\u001b[0;34m(x, y, s, c, marker, cmap, norm, vmin, vmax, alpha, linewidths, verts, edgecolors, data, **kwargs)\u001b[0m\n\u001b[1;32m   2862\u001b[0m         \u001b[0mvmin\u001b[0m\u001b[0;34m=\u001b[0m\u001b[0mvmin\u001b[0m\u001b[0;34m,\u001b[0m \u001b[0mvmax\u001b[0m\u001b[0;34m=\u001b[0m\u001b[0mvmax\u001b[0m\u001b[0;34m,\u001b[0m \u001b[0malpha\u001b[0m\u001b[0;34m=\u001b[0m\u001b[0malpha\u001b[0m\u001b[0;34m,\u001b[0m \u001b[0mlinewidths\u001b[0m\u001b[0;34m=\u001b[0m\u001b[0mlinewidths\u001b[0m\u001b[0;34m,\u001b[0m\u001b[0;34m\u001b[0m\u001b[0m\n\u001b[1;32m   2863\u001b[0m         verts=verts, edgecolors=edgecolors, **({\"data\": data} if data\n\u001b[0;32m-> 2864\u001b[0;31m         is not None else {}), **kwargs)\n\u001b[0m\u001b[1;32m   2865\u001b[0m     \u001b[0msci\u001b[0m\u001b[0;34m(\u001b[0m\u001b[0m__ret\u001b[0m\u001b[0;34m)\u001b[0m\u001b[0;34m\u001b[0m\u001b[0m\n\u001b[1;32m   2866\u001b[0m     \u001b[0;32mreturn\u001b[0m \u001b[0m__ret\u001b[0m\u001b[0;34m\u001b[0m\u001b[0m\n",
      "\u001b[0;32m~/Development/hotsbot/venv/lib/python3.7/site-packages/matplotlib/__init__.py\u001b[0m in \u001b[0;36minner\u001b[0;34m(ax, data, *args, **kwargs)\u001b[0m\n\u001b[1;32m   1808\u001b[0m                         \u001b[0;34m\"the Matplotlib list!)\"\u001b[0m \u001b[0;34m%\u001b[0m \u001b[0;34m(\u001b[0m\u001b[0mlabel_namer\u001b[0m\u001b[0;34m,\u001b[0m \u001b[0mfunc\u001b[0m\u001b[0;34m.\u001b[0m\u001b[0m__name__\u001b[0m\u001b[0;34m)\u001b[0m\u001b[0;34m,\u001b[0m\u001b[0;34m\u001b[0m\u001b[0m\n\u001b[1;32m   1809\u001b[0m                         RuntimeWarning, stacklevel=2)\n\u001b[0;32m-> 1810\u001b[0;31m             \u001b[0;32mreturn\u001b[0m \u001b[0mfunc\u001b[0m\u001b[0;34m(\u001b[0m\u001b[0max\u001b[0m\u001b[0;34m,\u001b[0m \u001b[0;34m*\u001b[0m\u001b[0margs\u001b[0m\u001b[0;34m,\u001b[0m \u001b[0;34m**\u001b[0m\u001b[0mkwargs\u001b[0m\u001b[0;34m)\u001b[0m\u001b[0;34m\u001b[0m\u001b[0m\n\u001b[0m\u001b[1;32m   1811\u001b[0m \u001b[0;34m\u001b[0m\u001b[0m\n\u001b[1;32m   1812\u001b[0m         inner.__doc__ = _add_data_doc(inner.__doc__,\n",
      "\u001b[0;32m~/Development/hotsbot/venv/lib/python3.7/site-packages/matplotlib/axes/_axes.py\u001b[0m in \u001b[0;36mscatter\u001b[0;34m(self, x, y, s, c, marker, cmap, norm, vmin, vmax, alpha, linewidths, verts, edgecolors, **kwargs)\u001b[0m\n\u001b[1;32m   4180\u001b[0m         \u001b[0my\u001b[0m \u001b[0;34m=\u001b[0m \u001b[0mnp\u001b[0m\u001b[0;34m.\u001b[0m\u001b[0mma\u001b[0m\u001b[0;34m.\u001b[0m\u001b[0mravel\u001b[0m\u001b[0;34m(\u001b[0m\u001b[0my\u001b[0m\u001b[0;34m)\u001b[0m\u001b[0;34m\u001b[0m\u001b[0m\n\u001b[1;32m   4181\u001b[0m         \u001b[0;32mif\u001b[0m \u001b[0mx\u001b[0m\u001b[0;34m.\u001b[0m\u001b[0msize\u001b[0m \u001b[0;34m!=\u001b[0m \u001b[0my\u001b[0m\u001b[0;34m.\u001b[0m\u001b[0msize\u001b[0m\u001b[0;34m:\u001b[0m\u001b[0;34m\u001b[0m\u001b[0m\n\u001b[0;32m-> 4182\u001b[0;31m             \u001b[0;32mraise\u001b[0m \u001b[0mValueError\u001b[0m\u001b[0;34m(\u001b[0m\u001b[0;34m\"x and y must be the same size\"\u001b[0m\u001b[0;34m)\u001b[0m\u001b[0;34m\u001b[0m\u001b[0m\n\u001b[0m\u001b[1;32m   4183\u001b[0m \u001b[0;34m\u001b[0m\u001b[0m\n\u001b[1;32m   4184\u001b[0m         \u001b[0;32mif\u001b[0m \u001b[0ms\u001b[0m \u001b[0;32mis\u001b[0m \u001b[0;32mNone\u001b[0m\u001b[0;34m:\u001b[0m\u001b[0;34m\u001b[0m\u001b[0m\n",
      "\u001b[0;31mValueError\u001b[0m: x and y must be the same size"
     ]
    },
    {
     "data": {
      "image/png": "[encoded data removed]",
      "text/plain": [
       "<Figure size 432x288 with 1 Axes>"
      ]
     },
     "metadata": {
      "needs_background": "light"
     },
     "output_type": "display_data"
    }
   ],
   "source": [
    "plt.scatter(x, y)\n",
    "plt.scatter(smoother.x_focal_base,smoother.y_focal_base, c='r', marker='.')"
   ]
  },
  {
   "cell_type": "markdown",
   "metadata": {},
   "source": [
    "# Old code for reference"
   ]
  },
  {
   "cell_type": "code",
   "execution_count": null,
   "metadata": {},
   "outputs": [],
   "source": [
    "class LoessSmoother:\n",
    "    def __init__(self,\n",
    "                 model=LinearRegression(),\n",
    "                 transform=True,\n",
    "                 window_method='fixed',\n",
    "                 fixed_window=2,\n",
    "                 step_size=.2,\n",
    "                 n_points=5):\n",
    "        \"\"\"\"\"\"\n",
    "        self.model = model\n",
    "        self.transform = transform\n",
    "        self.window_method = window_method\n",
    "        self.fixed_window = fixed_window\n",
    "        self.step_size = step_size\n",
    "        self.n_points = n_points\n",
    "        \n",
    "    def fit(self, x, y):\n",
    "        self.x_focal_base = self._get_x_focal_base(x)\n",
    "        self.indices = self._get_window_indices(x)\n",
    "        self.y_focal_base, self.model_per_window = self._fit_model_per_window(x, y)\n",
    "    \n",
    "    def _get_x_focal_base(self, x):\n",
    "        \"\"\"\"\"\"\n",
    "        if self.transform:\n",
    "            return np.sort(x)\n",
    "        else:\n",
    "            x_focal_base = np.array([np.min(x)])\n",
    "            while x_focal_base.max() < np.array(x).max():\n",
    "                x_focal_base = np.append(x_focal_base, x_focal_base[-1] + self.step_size)\n",
    "            return x_focal_base\n",
    "\n",
    "    def _get_window_indices(self, x):\n",
    "        indices = {}\n",
    "\n",
    "        for index, x_focal in enumerate(self.x_focal_base):\n",
    "            \n",
    "            if self.window_method == 'fixed':\n",
    "                x_indices = np.argwhere((x > (x_focal - self.fixed_window)) & (x < (x_focal + self.fixed_window)))\n",
    "\n",
    "                if len(x_indices) > 2*self.n_points:\n",
    "                    indices[index] = x_indices\n",
    "                else: # If the number of returned indices is too small, resort to nearest points\n",
    "                    indices[index] = x_indices\n",
    "                    \n",
    "            if self.window_method == 'closest':\n",
    "                x_focal = np.asarray([x_focal]).reshape(-1, 1)\n",
    "                knn = NearestNeighbors(n_neighbors=self.n_points).fit(x.reshape(-1, 1))\n",
    "                indices[index] = knn.kneighbors(x_focal)[1][0]\n",
    "\n",
    "        return indices\n",
    "        \n",
    "    def _fit_model_per_window(self, x, y):\n",
    "        model_per_window = []\n",
    "        y_focal_base = []\n",
    "\n",
    "        for index in self.indices.keys():\n",
    "            x_focal = np.asarray([self.x_focal_base[index]]).reshape(-1,1)\n",
    "            x_window = x[self.indices[index]].reshape(-1,1)\n",
    "            y_window = y[self.indices[index]].reshape(-1,1)\n",
    "\n",
    "            # Development purposes: catch error during fit when x_window is empty\n",
    "            try:\n",
    "                # TODO: implement iterative weighted fit\n",
    "                model = self.model.fit(x_window, y_window, sample_weight=None)\n",
    "                y_focal_base.append(model.predict(x_focal))\n",
    "                model_per_window.append(model)\n",
    "            except ValueError:\n",
    "                y_focal_base.append(np.asarray([np.mean(y_focal_base)]))\n",
    "                model_per_window.append(None)\n",
    "\n",
    "        return y_focal_base, model_per_window\n",
    "        \n",
    "\n",
    "def plot_windows(x, y, x_focal_base, y_focal_base, indices):\n",
    "    for index in indices.keys():\n",
    "        ax = plt.axes(xlim=(np.min(x), np.max(x)), ylim=(np.min(y), np.max(y)))\n",
    "        ax.scatter(x[indices[index]],y[indices[index]])\n",
    "        ax.scatter(x_focal_base[index], y_focal_base[index], c='r')\n",
    "        ax.set_title(f'Window for {x_focal_base[index]}')\n",
    "        plt.pause(0.01)\n",
    "        plt.show()\n",
    "            \n",
    "        \n",
    "    \n",
    "# Loop over x_focal_base and fit models -> list of models\n",
    "\n"
   ]
  }
 ],
 "metadata": {
  "kernelspec": {
   "display_name": "Python 3",
   "language": "python",
   "name": "python3"
  },
  "language_info": {
   "codemirror_mode": {
    "name": "ipython",
    "version": 3
   },
   "file_extension": ".py",
   "mimetype": "text/x-python",
   "name": "python",
   "nbconvert_exporter": "python",
   "pygments_lexer": "ipython3",
   "version": "3.7.0"
  }
 },
 "nbformat": 4,
 "nbformat_minor": 2
}
