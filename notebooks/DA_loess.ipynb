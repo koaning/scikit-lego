{
 "cells": [
  {
   "cell_type": "markdown",
   "metadata": {},
   "source": [
    "# Loess Regression\n",
    "**Goal**: Small notebook to play around with settings and review results"
   ]
  },
  {
   "cell_type": "code",
   "execution_count": 3,
   "metadata": {},
   "outputs": [],
   "source": [
    "%load_ext autoreload\n",
    "%autoreload 2"
   ]
  },
  {
   "cell_type": "code",
   "execution_count": 4,
   "metadata": {},
   "outputs": [],
   "source": [
    "from sklego.loess import LoessRegressor\n",
    "import numpy as np\n",
    "from sklearn.linear_model import LinearRegression\n",
    "import matplotlib.pyplot as plt"
   ]
  },
  {
   "cell_type": "markdown",
   "metadata": {},
   "source": [
    "# Create dummy dataset\n",
    "Sinewave with a gap in the data."
   ]
  },
  {
   "cell_type": "code",
   "execution_count": 5,
   "metadata": {},
   "outputs": [],
   "source": [
    "def random_bound_data(minimum_val, maximum_val, size):\n",
    "    \"\"\"\n",
    "    Generate random data-points of size between bounds.\n",
    "\n",
    "    :param minimum_val: float, minimal value of the generated data\n",
    "    :param maximum_val: float, maximum value of the generated data\n",
    "    :param size: tuple or list, shape of the desired output\n",
    "    :return: x, y\n",
    "    \"\"\"\n",
    "    return (maximum_val - minimum_val) * np.random.random(size=size) + minimum_val\n",
    "\n",
    "\n",
    "def generate_noisy_sine_data(noise_std):\n",
    "    \"\"\"\n",
    "    Generate x with a gap and f(x) with added normal distributed noise with standard deviation\n",
    "    noise_std, with:\n",
    "    f(x) = 5*sin(x/3) + N(mu=0, sigma=n)\n",
    "\n",
    "    :param noise_std: non-negative float, standard deviation of added noise.\n",
    "    :return: xnp.Array, y = f(x) + N(0, std)\n",
    "    \"\"\"\n",
    "    x1 = random_bound_data(10, 30, 100)\n",
    "    x2 = random_bound_data(37, 60, 100)\n",
    "    x = np.append(x1, x2)\n",
    "    np.random.shuffle(x)\n",
    "\n",
    "    return x, 5 * np.sin(x / 3) + np.random.normal(loc=0, scale=noise_std, size=x.shape)"
   ]
  },
  {
   "cell_type": "markdown",
   "metadata": {},
   "source": [
    "# Fit model"
   ]
  },
  {
   "cell_type": "code",
   "execution_count": 6,
   "metadata": {
    "scrolled": false
   },
   "outputs": [],
   "source": [
    "np.random.seed(0)\n",
    "noise_std=2\n",
    "xs, ys = generate_noisy_sine_data(noise_std)\n",
    "model = LoessRegressor(span=0.2,\n",
    "                       weighting_method='equal')\n",
    "\n",
    "x_preds = np.linspace(xs.min()-5, xs.max()+5, 100)\n",
    "# np.random.shuffle(x_preds)\n",
    "\n",
    "y_preds, indices = model.fit(xs.reshape(-1,1),ys).predict(x_preds.reshape(-1,1), with_indices=True)"
   ]
  },
  {
   "cell_type": "markdown",
   "metadata": {},
   "source": [
    "# Plot of each window\n",
    "Takes a long time to run, only run with caution!"
   ]
  },
  {
   "cell_type": "code",
   "execution_count": 7,
   "metadata": {
    "scrolled": false
   },
   "outputs": [],
   "source": [
    "# for index, x_pred in enumerate(x_preds):\n",
    "#     fig, ax = plt.subplots(1,1)\n",
    "#     ax.set_xlim(left=xs.min()-6, right=xs.max()+6)\n",
    "#     ax.set_ylim(bottom=ys.min()-6, top=ys.max()+6)\n",
    "    \n",
    "#     x_window = model.xs[indices[index]]\n",
    "#     y_window = model.ys[indices[index]]\n",
    "#     ax.plot(x_window, y_window, '.')\n",
    "    \n",
    "#     ax.plot(model.xs, model.ys, 'k.', alpha=0.1)\n",
    "#     ax.plot(x_pred, y_preds[index], 'ro')\n",
    "    \n",
    "#     coef = LinearRegression().fit(x_window.reshape(-1,1),y_window.reshape(-1,1)).coef_.flatten()\n",
    "#     x_vals = np.array(ax.get_xlim())\n",
    "#     y_vals = y_preds[index] + coef * (x_vals-x_pred)\n",
    "#     ax.plot(x_vals, y_vals, 'r--')"
   ]
  },
  {
   "cell_type": "markdown",
   "metadata": {},
   "source": [
    "# Full plot"
   ]
  },
  {
   "cell_type": "code",
   "execution_count": 8,
   "metadata": {},
   "outputs": [
    {
     "data": {
      "text/plain": [
       "[<matplotlib.lines.Line2D at 0x1260ff8d0>]"
      ]
     },
     "execution_count": 8,
     "metadata": {},
     "output_type": "execute_result"
    },
    {
     "data": {
      "image/png": "[encoded data removed]",
      "text/plain": [
       "<Figure size 432x288 with 1 Axes>"
      ]
     },
     "metadata": {
      "needs_background": "light"
     },
     "output_type": "display_data"
    }
   ],
   "source": [
    "plt.plot(xs,ys,'.')\n",
    "plt.plot(x_preds,y_preds,'r.')"
   ]
  },
  {
   "cell_type": "markdown",
   "metadata": {},
   "source": [
    "# Tests\n",
    "- fit\n",
    "- _get_window_indices\n",
    "- _create_weights\n",
    "- predict"
   ]
  },
  {
   "cell_type": "code",
   "execution_count": 18,
   "metadata": {},
   "outputs": [
    {
     "ename": "AssertionError",
     "evalue": "",
     "output_type": "error",
     "traceback": [
      "\u001b[0;31m---------------------------------------------------------------------------\u001b[0m",
      "\u001b[0;31mAssertionError\u001b[0m                            Traceback (most recent call last)",
      "\u001b[0;32m<ipython-input-18-dd0fefc7f984>\u001b[0m in \u001b[0;36m<module>\u001b[0;34m()\u001b[0m\n\u001b[1;32m     45\u001b[0m \u001b[0;31m# 100% window\u001b[0m\u001b[0;34m\u001b[0m\u001b[0;34m\u001b[0m\u001b[0m\n\u001b[1;32m     46\u001b[0m \u001b[0mmodel\u001b[0m \u001b[0;34m=\u001b[0m \u001b[0mLoessRegressor\u001b[0m\u001b[0;34m(\u001b[0m\u001b[0mspan\u001b[0m\u001b[0;34m=\u001b[0m\u001b[0;36m1\u001b[0m\u001b[0;34m)\u001b[0m\u001b[0;34m.\u001b[0m\u001b[0mfit\u001b[0m\u001b[0;34m(\u001b[0m\u001b[0mxs\u001b[0m\u001b[0;34m,\u001b[0m\u001b[0mys\u001b[0m\u001b[0;34m)\u001b[0m\u001b[0;34m\u001b[0m\u001b[0m\n\u001b[0;32m---> 47\u001b[0;31m \u001b[0;32massert\u001b[0m \u001b[0mall\u001b[0m\u001b[0;34m(\u001b[0m\u001b[0;34m(\u001b[0m\u001b[0mxs\u001b[0m \u001b[0;34m==\u001b[0m \u001b[0mmodel\u001b[0m\u001b[0;34m.\u001b[0m\u001b[0m_get_window_indices\u001b[0m\u001b[0;34m(\u001b[0m\u001b[0mxs\u001b[0m\u001b[0;34m)\u001b[0m\u001b[0;34m)\u001b[0m\u001b[0;34m.\u001b[0m\u001b[0mreshape\u001b[0m\u001b[0;34m(\u001b[0m\u001b[0;34m-\u001b[0m\u001b[0;36m1\u001b[0m\u001b[0;34m,\u001b[0m\u001b[0;36m1\u001b[0m\u001b[0;34m)\u001b[0m\u001b[0;34m)\u001b[0m\u001b[0;34m\u001b[0m\u001b[0m\n\u001b[0m\u001b[1;32m     48\u001b[0m \u001b[0;34m\u001b[0m\u001b[0m\n\u001b[1;32m     49\u001b[0m \u001b[0;34m\u001b[0m\u001b[0m\n",
      "\u001b[0;31mAssertionError\u001b[0m: "
     ]
    }
   ],
   "source": [
    "import pytest\n",
    "\n",
    "# fit - normal\n",
    "x = np.random.random(size=10).reshape(-1,1)\n",
    "y = np.random.random(size=10)\n",
    "\n",
    "model = LoessRegressor(span=0.5).fit(x,y)\n",
    "assert all(x == model.xs)\n",
    "assert all(y == model.ys)\n",
    "\n",
    "# fit - empty frame or inconsistent sizes\n",
    "\n",
    "with pytest.raises(ValueError):\n",
    "    x = np.array([]).reshape(-1,1)\n",
    "    model = LoessRegressor(span=0.5).fit(x,y)\n",
    "    \n",
    "    x = np.random.random(size=10)\n",
    "    y = np.array([])\n",
    "    model = LoessRegressor(span=0.5).fit(x,y)\n",
    "    \n",
    "    x = np.random.random(size=2).reshape(-1,1)\n",
    "    y = np.random.random(size=9)\n",
    "    model = LoessRegressor(span=0.5).fit(x,y)\n",
    "    \n",
    "# init\n",
    "\n",
    "# Create x vector such that value is equal to index\n",
    "xs = np.linspace(start=0, stop=9, num=10).reshape(-1,1)\n",
    "ys = np.random.random(size=10)\n",
    "\n",
    "# OK spans\n",
    "model = LoessRegressor(span=.6).fit(xs,ys)\n",
    "model = LoessRegressor(span=1).fit(xs,ys)\n",
    "\n",
    "# Faulty spans\n",
    "with pytest.raises(ValueError):\n",
    "    model = LoessRegressor(span=0).fit(xs,ys)\n",
    "    model._get_window_indices(x[0].reshape(-1,1))\n",
    "    \n",
    "    model = LoessRegressor(span=2).fit(x,y)\n",
    "    model._get_window_indices(x[0].reshape(-1,1))\n",
    "    \n",
    "# _get_window_indices\n",
    "\n",
    "# 100% window\n",
    "model = LoessRegressor(span=1).fit(xs,ys)\n",
    "assert all((xs == model._get_window_indices(xs)).reshape(-1,1))\n",
    "\n",
    "\n",
    "model = LoessRegressor(span=0.1).fit(xs,ys)\n",
    "assert all(x == model._get_window_indices(x) for x in xs)\n",
    "\n",
    "model = LoessRegressor(span=0.5).fit(xs.reshape(-1,1),ys)\n",
    "expected = {0, 1, 2, 3, 4}\n",
    "result = set(model._get_window_indices(xs[0].reshape(-1,1)))\n",
    "assert expected == result\n",
    "\n",
    "expected = {1, 2, 3, 4, 5}\n",
    "result = set(model._get_window_indices(xs[3].reshape(-1,1)))\n",
    "assert expected == result\n",
    "\n",
    "expected = {4, 5, 6, 7, 8}\n",
    "result = set(model._get_window_indices(xs[6].reshape(-1,1)))\n",
    "assert expected == result\n",
    "\n",
    "expected = {5, 6, 7, 8, 9}\n",
    "result = set(model._get_window_indices(xs[-1].reshape(-1,1)))\n",
    "assert expected == result\n",
    "\n",
    "# _create_weights"
   ]
  },
  {
   "cell_type": "code",
   "execution_count": null,
   "metadata": {},
   "outputs": [],
   "source": [
    "expected_weighting_methods = ['euclidean', 'equal']\n",
    "test = None\n",
    "if test not in expected_weighting_methods:\n",
    "    raise ValueError(f\"Received unexpected weighting method. Choose one from: {expected_weighting_methods}\")"
   ]
  },
  {
   "cell_type": "code",
   "execution_count": null,
   "metadata": {},
   "outputs": [],
   "source": [
    "x = np.random.random(size=10)\n",
    "y = np.random.random(size=9)\n",
    "LinearRegression().fit(x.reshape(-1,1),y)"
   ]
  },
  {
   "cell_type": "code",
   "execution_count": null,
   "metadata": {},
   "outputs": [],
   "source": [
    "if not x.size > 0:\n",
    "    print('yes')"
   ]
  },
  {
   "cell_type": "code",
   "execution_count": 21,
   "metadata": {},
   "outputs": [
    {
     "data": {
      "text/plain": [
       "True"
      ]
     },
     "execution_count": 21,
     "metadata": {},
     "output_type": "execute_result"
    }
   ],
   "source": []
  },
  {
   "cell_type": "code",
   "execution_count": 22,
   "metadata": {},
   "outputs": [],
   "source": [
    "xs = np.linspace(start=0, stop=9, num=10).reshape(-1, 1)\n",
    "ys = np.random.random(size=10)\n",
    "\n",
    "model = LoessRegressor(span=1).fit(xs, ys)"
   ]
  },
  {
   "cell_type": "code",
   "execution_count": 34,
   "metadata": {},
   "outputs": [
    {
     "data": {
      "text/plain": [
       "set()"
      ]
     },
     "execution_count": 34,
     "metadata": {},
     "output_type": "execute_result"
    }
   ],
   "source": [
    "set(xs.flatten()) - set(model._get_window_indices(xs))"
   ]
  },
  {
   "cell_type": "code",
   "execution_count": 46,
   "metadata": {},
   "outputs": [
    {
     "data": {
      "text/plain": [
       "array([0.10721075, 0.64791878, 0.64791878, 0.64791878, 0.64791878,\n",
       "       0.64791878, 0.64791878, 0.64791878, 0.64791878, 0.64791878])"
      ]
     },
     "execution_count": 46,
     "metadata": {},
     "output_type": "execute_result"
    }
   ],
   "source": [
    "from sklearn.pipeline import Pipeline\n",
    "from sklearn.preprocessing import Normalizer\n",
    "\n",
    "transformer = Normalizer()\n",
    "model = LoessRegressor(span=1)\n",
    "\n",
    "pipeline = Pipeline([('normal', transformer),\n",
    "                     ('loess', model)\n",
    "])\n",
    "\n",
    "xs = np.linspace(start=0, stop=9, num=10).reshape(-1, 1)\n",
    "ys = np.random.random(size=10)\n",
    "\n",
    "pipeline.fit(xs, ys).predict(xs)"
   ]
  },
  {
   "cell_type": "code",
   "execution_count": null,
   "metadata": {},
   "outputs": [],
   "source": []
  }
 ],
 "metadata": {
  "kernelspec": {
   "display_name": "Python 3",
   "language": "python",
   "name": "python3"
  },
  "language_info": {
   "codemirror_mode": {
    "name": "ipython",
    "version": 3
   },
   "file_extension": ".py",
   "mimetype": "text/x-python",
   "name": "python",
   "nbconvert_exporter": "python",
   "pygments_lexer": "ipython3",
   "version": "3.7.0"
  }
 },
 "nbformat": 4,
 "nbformat_minor": 2
}
