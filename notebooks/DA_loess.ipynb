{
 "cells": [
  {
   "cell_type": "markdown",
   "metadata": {},
   "source": [
    "# Dummy data\n",
    "**Goal**: Create dummy data to test the estimator on"
   ]
  },
  {
   "cell_type": "code",
   "execution_count": 1,
   "metadata": {},
   "outputs": [],
   "source": [
    "%load_ext autoreload\n",
    "%autoreload 2"
   ]
  },
  {
   "cell_type": "code",
   "execution_count": 2,
   "metadata": {},
   "outputs": [],
   "source": [
    "from sklego.loess import LoessSmoother, random_x, generate_noisy_sine_data, plot_windows\n",
    "import numpy as np\n",
    "from sklearn.linear_model import LinearRegression\n",
    "import matplotlib.pyplot as plt"
   ]
  },
  {
   "cell_type": "code",
   "execution_count": 49,
   "metadata": {
    "scrolled": false
   },
   "outputs": [],
   "source": [
    "np.random.seed(0)\n",
    "noise_std=2\n",
    "x, y = generate_noisy_sine_data(noise_std)\n",
    "model = LinearRegression()\n",
    "\n",
    "smoother = LoessSmoother(model=None,\n",
    "                         n_degree=1,\n",
    "                         transform=False,\n",
    "                         window_method='knn_symmetric',\n",
    "                         window_size=2,\n",
    "                         step_size=.1,\n",
    "                         fraction=.1)\n",
    "\n",
    "smoother.fit(x,y)\n",
    "\n",
    "\n",
    "# plot_windows(x,y, smoother.x_focal_base, smoother.y_focal_base, smoother.indices)\n"
   ]
  },
  {
   "cell_type": "markdown",
   "metadata": {},
   "source": [
    "# Full plot"
   ]
  },
  {
   "cell_type": "code",
   "execution_count": 50,
   "metadata": {},
   "outputs": [
    {
     "data": {
      "text/plain": [
       "<matplotlib.collections.PathCollection at 0x1314baef0>"
      ]
     },
     "execution_count": 50,
     "metadata": {},
     "output_type": "execute_result"
    },
    {
     "data": {
      "image/png": "[encoded data removed]",
      "text/plain": [
       "<Figure size 432x288 with 1 Axes>"
      ]
     },
     "metadata": {
      "needs_background": "light"
     },
     "output_type": "display_data"
    }
   ],
   "source": [
    "plt.scatter(x, y)\n",
    "plt.scatter(smoother.x_focal_base,smoother.y_focal_base[1:], c='r', marker='.')"
   ]
  },
  {
   "cell_type": "markdown",
   "metadata": {},
   "source": [
    "# Tomi's code"
   ]
  },
  {
   "cell_type": "code",
   "execution_count": null,
   "metadata": {},
   "outputs": [],
   "source": [
    "def get_point_sets(self, X):\n",
    "    self.n_points = math.floor(self.frac * len(X))\n",
    "    if self.point_extraction == 'knn':\n",
    "        knn = NearestNeighbors(n_neighbors=self.n_points, metric='euclidean').fit(X)\n",
    "\n",
    "        # For every point return n nearest points:\n",
    "        for idx, point in enumerate(X):\n",
    "            yield knn.kneighbors(point.reshape(-1, 1))[1][0]\n",
    "\n",
    "    elif self.point_extraction == 'symmetric':\n",
    "        for idx, point in enumerate(X):\n",
    "            if idx < math.floor(self.frac * len(X) / 2):\n",
    "                yield np.array(range(0, idx + math.floor(self.n_points / 2)))\n",
    "\n",
    "            elif (idx >= math.floor(self.n_points / 2)) & ((idx <= len(X) - math.floor(self.n_points / 2))):\n",
    "                yield np.array(range(idx - math.floor(self.n_points / 2), idx + math.floor(self.n_points / 2)))\n",
    "\n",
    "            else:\n",
    "                yield np.array(range(len(X) - math.floor(self.n_points / 2), len(X)))\n",
    "\n",
    "    else:\n",
    "        raise NotImplementedError('Sorry this method has not been implemented.')\n"
   ]
  },
  {
   "cell_type": "code",
   "execution_count": null,
   "metadata": {},
   "outputs": [],
   "source": []
  },
  {
   "cell_type": "code",
   "execution_count": null,
   "metadata": {},
   "outputs": [],
   "source": []
  }
 ],
 "metadata": {
  "kernelspec": {
   "display_name": "Python 3",
   "language": "python",
   "name": "python3"
  },
  "language_info": {
   "codemirror_mode": {
    "name": "ipython",
    "version": 3
   },
   "file_extension": ".py",
   "mimetype": "text/x-python",
   "name": "python",
   "nbconvert_exporter": "python",
   "pygments_lexer": "ipython3",
   "version": "3.7.0"
  }
 },
 "nbformat": 4,
 "nbformat_minor": 2
}
